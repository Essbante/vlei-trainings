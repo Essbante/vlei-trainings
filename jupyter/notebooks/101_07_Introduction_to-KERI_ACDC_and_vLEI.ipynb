{
 "cells": [
  {
   "cell_type": "markdown",
   "id": "e44a80fd-2606-4e1f-96cd-fb12db478ec3",
   "metadata": {
    "editable": false,
    "slideshow": {
     "slide_type": ""
    },
    "tags": []
   },
   "source": [
    "# Introduction to KERI, ACDC, and vLEI"
   ]
  },
  {
   "cell_type": "markdown",
   "id": "1f5ffdf9-dd5f-4050-aa53-65081507e6ff",
   "metadata": {
    "editable": false,
    "slideshow": {
     "slide_type": ""
    },
    "tags": []
   },
   "source": [
    "<div class=\"alert alert-prymary\">\n",
    "  <b>🎯 OBJECTIVE</b><hr>\n",
    "Provide a high-level overview of the three foundational concepts we'll be covering during this training: \n",
    "<li>The KERI protocol for secure identifiers\n",
    "<li>The ACDC protocol for verifiable credentials\n",
    "<li>The GLEIF vLEI ecosystem, which applies these technologies to organizational identity.\n",
    "<br><br>\n",
    "Consider this a starting point; we'll dive into the details, practical examples, and specific commands in the notebooks that follow.\n",
    "</div>"
   ]
  },
  {
   "cell_type": "markdown",
   "id": "ceadbcca-75be-41db-9f23-5aea9f0e36aa",
   "metadata": {
    "editable": false,
    "slideshow": {
     "slide_type": ""
    },
    "tags": []
   },
   "source": [
    "## The KERI Protocol\n",
    "\n",
    "**KERI** stands for **Key Event Receipt Infrastructure**. It's a decentralized key management infrastructure (DKMI) designed to provide a secure identity layer for the internet, focusing on establishing trust through cryptographic proof rather than relying solely on centralized authorities.\n",
    "\n",
    "Core Ideas:\n",
    "\n",
    "* **Autonomic Identifiers (AIDs):** KERI's foundation is built on self-certifying identifiers called AIDs. These identifiers are generated from and cryptographically bound to key pairs controlled by an entity, eliminating the need for a central registration authority for the identifier itself.\n",
    "* **Key Event Logs (KELs):** Each AID has an associated KEL, which is a secure, append-only log of signed \"key events\" (like identifier creation, key rotation, etc.). This log provides a verifiable history, or provenance, of the control over the AID. Anyone can verify the current authoritative keys for an AID by processing its KEL.\n",
    "* **End-Verifiability:** KERI emphasizes that control and events can be verified by anyone, anywhere, using only the KEL, without trusting intermediaries.\n",
    "* **Witnesses:** For high availability and resilience, controllers can designate witnesses who receive, verify, and store key events, making the KEL accessible even when the controller is offline.\n",
    "* **And more:** KERI has many other advanced features, but we'll focus on the fundamentals in this introduction."
   ]
  },
  {
   "cell_type": "markdown",
   "id": "3b802aea-7d6b-4e1e-8059-85cc61ca177e",
   "metadata": {
    "editable": false,
    "slideshow": {
     "slide_type": ""
    },
    "tags": []
   },
   "source": [
    "## The ACDC Protocol\n",
    "\n",
    "**ACDC** stands for **Authentic Chained Data Container**. It is KERI's implementation of Verifiable Credentials (VCs), designed to work within KERI-based ecosystems.\n",
    "\n",
    "**Core Ideas:**\n",
    "\n",
    "* **Verifiable Credentials:** ACDCs are digital containers for claims or attributes (like a name, role, or authorization) that are issued by one identifier (AID) to another.\n",
    "* **Built on KERI:** ACDCs leverage AIDs for identifying issuers and issues. The validity and status (issued, revoked) of an ACDC are anchored to the issuer's Key Event Log (KEL) through a secondary log called a Transaction Event Log (TEL).\n",
    "* **Schemas & SAIDs:** Each ACDC conforms to a specific Schema, which defines its structure and data types. Both the schema and the ACDC instance itself are identified using SAIDs (Self-Addressing Identifiers), making them tamper-evident.\n",
    "* **Chaining (Edges):** ACDCs can be cryptographically linked together using \"edges,\" forming verifiable chains or graphs of evidence (e.g., an approval credential linking back to the request credential).\n",
    "* **Rules:** ACDCs can optionally include embedded machine-readable rules or legal prose (like Ricardian Contracts).\n",
    "* **IPEX (Issuance and Presentation Exchange):** to define uniform mechanisms for how ACDCs are issued between parties and how they are presented for verification in a securely attributable way."
   ]
  },
  {
   "cell_type": "markdown",
   "id": "c6c6fc6d-72fc-4857-8124-249fbc645e8a",
   "metadata": {
    "editable": false,
    "slideshow": {
     "slide_type": ""
    },
    "tags": []
   },
   "source": [
    "## GLEIF vLEI Ecosystem\n",
    "\n",
    "The **verifiable Legal Entity Identifier (vLEI)** is a system pioneered by the Global Legal Entity Identifier Foundation (GLEIF) to create a secure, digitized version of the traditional LEI used for organizational identity. It aims to enable automated authentication and verification of organizations globally.\n",
    "\n",
    "**Core Ideas:**\n",
    "\n",
    "* **Digital Counterpart to LEI:** The vLEI acts as a digitally trustworthy representation of an organization's LEI code, enabling automated verification.\n",
    "* **Built on KERI/ACDC:** The vLEI infrastructure is built using the KERI protocol and represents vLEI credentials as ACDCs. This leverages KERI's security and ACDC's verifiable credential format.\n",
    "* **Trust Chain / Ecosystem:** The vLEI system establishes a chain of trust:\n",
    "    * **GLEIF (Root of Trust):** GLEIF operates as the root of the ecosystem, managing its own KERI AID.\n",
    "    * **Qualified vLEI Issuers (QVIs):** GLEIF uses its KERI identity to issue credentials (delegate authority) to a trusted network of QVIs.\n",
    "    * **Organizations:** QVIs are qualified to issue vLEI credentials (representing the organization's identity) to legal entities.\n",
    "    * **Organizational Roles:** An organization holding a vLEI can then issue specific **vLEI Role Credentials** to individuals representing the organization in official or functional capacities (e.g., CEO, authorized signatory, supplier). These role credentials cryptographically bind the person's identity in that role to the organization's vLEI.\n",
    "* **QVI Workflow:** The workflow centrally involves the QVIs. GLEIF qualifies these issuers. A QVI interacts with an organization to verify its identity information (linked to its traditional LEI) and then uses its delegated authority from GLEIF to issue the organization its primary vLEI credential. This QVI issuance step is crucial for establishing the organization's verifiable digital identity within the ecosystem.\n",
    "\n",
    "The vLEI ecosystem uses KERI and ACDC to extend the existing LEI system into the digital realm, creating a globally verifiable system for organizational identity and the roles individuals hold within those organizations, all anchored back to GLEIF as the root of trust."
   ]
  },
  {
   "cell_type": "markdown",
   "id": "add2bf52-f806-42f0-9d8b-758def0ac808",
   "metadata": {
    "editable": false,
    "slideshow": {
     "slide_type": ""
    },
    "tags": []
   },
   "source": [
    "<div class=\"alert alert-prymary\">\n",
    "  <b>📝 SUMMARY</b><hr>\n",
    "KERI provides the secure identifier layer, ACDC provides the credential format on top of KERI, and vLEI is a specific application of both for organizational identity.\n",
    "</div>\n",
    "\n",
    "\n",
    "\n",
    "\n"
   ]
  }
 ],
 "metadata": {
  "kernelspec": {
   "display_name": "Python 3 (ipykernel)",
   "language": "python",
   "name": "python3"
  },
  "language_info": {
   "codemirror_mode": {
    "name": "ipython",
    "version": 3
   },
   "file_extension": ".py",
   "mimetype": "text/x-python",
   "name": "python",
   "nbconvert_exporter": "python",
   "pygments_lexer": "ipython3",
   "version": "3.12.9"
  }
 },
 "nbformat": 4,
 "nbformat_minor": 5
}
