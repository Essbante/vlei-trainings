{
 "cells": [
  {
   "cell_type": "markdown",
   "id": "de61e0c1-4476-46bb-b63c-50843e8d7402",
   "metadata": {
    "editable": false,
    "slideshow": {
     "slide_type": ""
    },
    "tags": []
   },
   "source": [
    "# KERI Core: Multi-Signature Group Identifiers"
   ]
  },
  {
   "cell_type": "markdown",
   "id": "99e7c062-94b3-4d35-ae97-81088232512d",
   "metadata": {
    "editable": false,
    "slideshow": {
     "slide_type": ""
    },
    "tags": []
   },
   "source": [
    "<div class=\"alert alert-primary\">\n",
    "<b>🎯 OBJECTIVE</b><hr>\n",
    "This notebook introduces the concept of multi-signature (multisig) group Autonomic Identifiers (AIDs) in KERI. It will demonstrate how to:\n",
    "<ul>\n",
    "<li>Set up individual AIDs that will participate in a multisig group.</li>\n",
    "<li>Configure and incept a multisig group AID where actions require signatures from multiple participants.</li>\n",
    "<li>Perform interaction events with the multisig group AID.</li>\n",
    "<li>Rotate the keys for the multisig group AID.</li>\n",
    "<li>Understand the structure of inception (<code>icp</code>), interaction (<code>ixn</code>), and rotation (<code>rot</code>) events for multisig group AIDs.</li>\n",
    "</ul>\n",
    "</div>"
   ]
  },
  {
   "cell_type": "markdown",
   "id": "ac19fd0a-a78b-46e9-9a51-3cb344cf96b7",
   "metadata": {
    "editable": false,
    "slideshow": {
     "slide_type": ""
    },
    "tags": []
   },
   "source": [
    "## Introduction to Multi-Signatures\n",
    "Multi-signature (multisig) schemes in KERI enhance security and enable collective control over an identifier by requiring signatures from multiple authorized keys to validate an event. This is particularly useful for organizations or groups where shared authority is necessary. \n",
    "\n",
    "A multi-signature group AID is essentially an identifier whose controlling authority is distributed among a set of participating AIDs. Each key event for this group AID, such as inception, interaction, or rotation, must be authorized by a sufficient number of these participating AIDs, according to the defined signing threshold."
   ]
  },
  {
   "cell_type": "markdown",
   "id": "7a9c8e37-7a9b-4221-93b5-0a67592a38f0",
   "metadata": {
    "editable": false,
    "slideshow": {
     "slide_type": ""
    },
    "tags": []
   },
   "source": [
    "## Initial Setup of Participant AIDs\n",
    "\n",
    "The setup involves:\n",
    "\n",
    "- Individual Participant AIDs: Each entity that will be part of the multisig group first has its own individual AID.\n",
    "- Group Configuration: A configuration is defined specifying which AIDs are members of the group and the signing threshold (e.g., 2 out of 3 participants must sign).\n",
    "- Group Inception: The multisig group AID is incepted. This is a cooperative process where participating AIDs signal their agreement to form the group. The resulting group AID prefix is often a self-addressing identifier derived from its inception event data, which includes the participating AIDs and the signing policies.\n",
    "- Group Operations: Subsequent operations like interaction events or key rotations for the group AID also require the specified threshold of signatures from the participating AIDs.\n",
    "\n",
    "For this notebook, we will create two AIDs, `multisig1_alias` and `multisig2_alias`, each in its own keystore. These will act as the initial members of our multisig group."
   ]
  },
  {
   "cell_type": "code",
   "execution_count": null,
   "id": "b20f96e9-2fcd-499b-be9e-48654b0e1f1f",
   "metadata": {
    "editable": false,
    "slideshow": {
     "slide_type": ""
    },
    "tags": []
   },
   "outputs": [],
   "source": [
    "# Imports and Utility functions\n",
    "from scripts.utils import exec, exec_bg, clear_keri\n",
    "from scripts.utils import pr_continue, pr_title, pr_message\n",
    "import json\n",
    "import time\n",
    "\n",
    "clear_keri()\n",
    "\n",
    "# multisig1 Keystore\n",
    "multisig1_keystore=\"multisig1_keystore\"\n",
    "multisig1_salt= exec(\"kli salt\")\n",
    "multisig1_alias = \"multisig1_alias\"\n",
    "\n",
    "pr_title(\"Initializing keystores\")\n",
    "\n",
    "# The `keystore_init_config.json` file is used here \n",
    "# to pre-configure the keystores with default witness information.\n",
    "!kli init --name {multisig1_keystore} \\\n",
    "    --nopasscode \\\n",
    "    --salt {multisig1_salt} \\\n",
    "    --config-dir ./config \\\n",
    "    --config-file keystore_init_config.json\n",
    "\n",
    "# multisig2 Keystore\n",
    "multisig2_keystore=\"multisig2_keystore\"\n",
    "multisig2_salt= exec(\"kli salt\")\n",
    "multisig2_alias = \"multisig2_alias\"\n",
    "\n",
    "!kli init --name {multisig2_keystore} \\\n",
    "    --nopasscode \\\n",
    "    --salt {multisig2_salt} \\\n",
    "    --config-dir ./config \\\n",
    "    --config-file keystore_init_config.json\n",
    "\n",
    "pr_title(\"Incepting multisig parts\")\n",
    "\n",
    "# multisig1 AID inception\n",
    "!kli incept --name {multisig1_keystore} \\\n",
    "    --alias {multisig1_alias} \\\n",
    "    --icount 1 \\\n",
    "    --isith 1 \\\n",
    "    --ncount 1 \\\n",
    "    --nsith 1 \\\n",
    "    --wits BBilc4-L3tFUnfM_wJr4S4OJanAv_VmF_dJNN6vkf2Ha \\\n",
    "    --wits BLskRTInXnMxWaGqcpSyMgo0nYbalW99cGZESrz3zapM \\\n",
    "    --wits BIKKuvBwpmDVA4Ds-EpL5bt9OqPzWPja2LigFYZN2YfX \\\n",
    "    --toad 2 \\\n",
    "    --transferable\n",
    "\n",
    "# multisig2 AID Inception\n",
    "!kli incept --name {multisig2_keystore} \\\n",
    "    --alias {multisig2_alias} \\\n",
    "    --icount 1 \\\n",
    "    --isith 1 \\\n",
    "    --ncount 1 \\\n",
    "    --nsith 1 \\\n",
    "    --wits BBilc4-L3tFUnfM_wJr4S4OJanAv_VmF_dJNN6vkf2Ha \\\n",
    "    --wits BLskRTInXnMxWaGqcpSyMgo0nYbalW99cGZESrz3zapM \\\n",
    "    --wits BIKKuvBwpmDVA4Ds-EpL5bt9OqPzWPja2LigFYZN2YfX \\\n",
    "    --toad 2 \\\n",
    "    --transferable\n",
    "\n",
    "pr_continue()\n"
   ]
  },
  {
   "cell_type": "markdown",
   "id": "b8d4f5f9-d469-4ef5-94cd-6a6572780022",
   "metadata": {
    "editable": false,
    "slideshow": {
     "slide_type": ""
    },
    "tags": []
   },
   "source": [
    "##  Creating the Multi-Signature Group AID\n",
    "\n",
    "With the individual participant AIDs in place, now proceed to create the multisig group AID. This involves several steps: \n",
    "- authorizing mailbox roles for discovery\n",
    "- exchanging OOBIs\n",
    "- configuring the multisig parameters\n",
    "- cooperatively incepting the group AID."
   ]
  },
  {
   "cell_type": "markdown",
   "id": "97d0a6e3-5b11-47fe-8b7b-f15f3f325b81",
   "metadata": {
    "editable": false,
    "slideshow": {
     "slide_type": ""
    },
    "tags": []
   },
   "source": [
    "### Adding Mailbox Role\n",
    "\n",
    "To allow the cooperative inception process, each participant AID needs to authorize one of its witnesses to act as a `mailbox`. This allows other participants to send messages (like the group inception proposal) to them indirectly via this witness.\n",
    "\n",
    "The `kli ends add` command is used to authorize an end role.\n",
    "`--eid`: Specifies the prefix of the witness AID being authorized for the new role.\n",
    "`--role`: Defines the role being assigned."
   ]
  },
  {
   "cell_type": "code",
   "execution_count": null,
   "id": "605c3c33-6e3e-4611-8107-eeabce752f34",
   "metadata": {
    "editable": false,
    "slideshow": {
     "slide_type": ""
    },
    "tags": []
   },
   "outputs": [],
   "source": [
    "# Add new endpoint role authorization.\n",
    "pr_title(\"Adding mailbox role\")\n",
    "\n",
    "role = \"mailbox\"\n",
    "\n",
    "!kli ends add --name {multisig1_keystore} \\\n",
    "    --alias {multisig1_alias} \\\n",
    "    --eid BLskRTInXnMxWaGqcpSyMgo0nYbalW99cGZESrz3zapM \\\n",
    "    --role {role}\n",
    "\n",
    "# Add new endpoint role authorization.\n",
    "!kli ends add --name {multisig2_keystore} \\\n",
    "    --alias {multisig2_alias} \\\n",
    "    --eid BIKKuvBwpmDVA4Ds-EpL5bt9OqPzWPja2LigFYZN2YfX \\\n",
    "    --role {role}\n",
    "\n",
    "pr_continue()"
   ]
  },
  {
   "cell_type": "markdown",
   "id": "71f131b7-5643-40c8-a76f-7b1ab095f722",
   "metadata": {
    "editable": false,
    "slideshow": {
     "slide_type": ""
    },
    "tags": []
   },
   "source": [
    "### Resolving OOBIs\n",
    "\n",
    "Next, the participants need to discover each other. This is done by generating and resolving Out-of-Band Introductions (OOBIs) that point to their newly authorized mailbox endpoints."
   ]
  },
  {
   "cell_type": "code",
   "execution_count": null,
   "id": "d9e4b455-2808-4fcb-9957-ed8e3951f713",
   "metadata": {
    "editable": false,
    "slideshow": {
     "slide_type": ""
    },
    "tags": []
   },
   "outputs": [],
   "source": [
    "# OOBI Generation\n",
    "pr_title(\"Generating OOBIs\")\n",
    "\n",
    "# multisig1 generates mailbox OOBI for its AID\n",
    "multisig1_oobi = exec(f\"kli oobi generate --name {multisig1_keystore} --alias {multisig1_alias} --role {role}\")\n",
    "\n",
    "# multisig2 generates mailbox OOBI for its AID\n",
    "multisig2_oobi = exec(f\"kli oobi generate --name {multisig2_keystore} --alias {multisig2_alias} --role {role}\")\n",
    "\n",
    "pr_message(\"Multisig part 1 OOBI: \" + multisig1_oobi)\n",
    "pr_message(\"Multisig part 2 OOBI: \" + multisig2_oobi)\n",
    "\n",
    "# OOBI Exchange\n",
    "pr_title(\"Resolving OOBIs\")\n",
    "!kli oobi resolve --name {multisig1_keystore} \\\n",
    "    --oobi-alias {multisig2_alias} \\\n",
    "    --oobi {multisig2_oobi}\n",
    "\n",
    "!kli oobi resolve --name {multisig2_keystore} \\\n",
    "    --oobi-alias {multisig1_alias} \\\n",
    "    --oobi {multisig1_oobi}\n",
    "\n",
    "pr_continue()"
   ]
  },
  {
   "cell_type": "markdown",
   "id": "c52f6f04-7211-45e2-9e8f-43fe7b7578e4",
   "metadata": {
    "editable": false,
    "slideshow": {
     "slide_type": ""
    },
    "tags": []
   },
   "source": [
    "### Configuring the Multi-Signature Group\n",
    "\n",
    "The parameters for the multisig group AID are defined in a JSON configuration file. This file specifies:\n",
    "\n",
    "- `aids`: A list of the prefixes of the participating AIDs.\n",
    "- `transferable`: Whether the group AID itself will be transferable (i.e., its keys can be rotated).\n",
    "- `wits`: A list of witness AIDs for the group AID.\n",
    "- `toad`: The Threshold of Accountable Duplicity for the group AID's events. This defines how many witness receipts are needed for an event to be considered accountable by the controller group.\n",
    "- `isith`: The initial signing threshold for the group AID's inception event. This can be an integer (e.g., \"2\" for 2-of-N) or a list of weights for a weighted threshold scheme. For this example, \"2\" means both participants must sign.\n",
    "- `nsith`: The signing threshold for the next key set (for future rotations). Similar to isith.\n"
   ]
  },
  {
   "cell_type": "code",
   "execution_count": null,
   "id": "391848be-a9bc-4221-845a-3db5d389fcd1",
   "metadata": {
    "editable": false,
    "slideshow": {
     "slide_type": ""
    },
    "tags": []
   },
   "outputs": [],
   "source": [
    "# Multisig Configuration\n",
    "pr_title(f\"Building multisig config file\")\n",
    "\n",
    "# Multisig participants prefixes\n",
    "multisig1_pre = exec(f\"kli aid --name {multisig1_keystore} --alias {multisig1_alias}\")\n",
    "multisig2_pre = exec(f\"kli aid --name {multisig2_keystore} --alias {multisig2_alias}\")\n",
    "\n",
    "pr_message(\"Multisig part 1 prefix: \" + multisig1_pre)\n",
    "pr_message(\"Multisig part 2 prefix: \" + multisig1_pre)\n",
    "\n",
    "# multisig configuration\n",
    "multisig_config = {\n",
    "  \"aids\": [\n",
    "    multisig1_pre,\n",
    "    multisig2_pre\n",
    "  ],\n",
    "  \"transferable\": True,\n",
    "  \"wits\": [\n",
    "    \"BBilc4-L3tFUnfM_wJr4S4OJanAv_VmF_dJNN6vkf2Ha\",\n",
    "    \"BLskRTInXnMxWaGqcpSyMgo0nYbalW99cGZESrz3zapM\",\n",
    "    \"BIKKuvBwpmDVA4Ds-EpL5bt9OqPzWPja2LigFYZN2YfX\"\n",
    "  ],\n",
    "  \"toad\": 2,\n",
    "  \"isith\": \"2\",\n",
    "  \"nsith\": \"2\"\n",
    "}\n",
    "\n",
    "# Specify the filename\n",
    "file_path = './config/multisig/multisig_config.json'\n",
    "\n",
    "# Write the configuration data to the JSON file\n",
    "with open(file_path, 'w') as f:\n",
    "  json.dump(multisig_config, f, indent=2)\n",
    "\n",
    "pr_message(f\"Multisig config: {file_path}\")\n",
    "!cat {file_path}\n",
    "\n",
    "pr_continue()"
   ]
  },
  {
   "cell_type": "markdown",
   "id": "f33a3eb5-e91e-4f3c-9feb-1112bd70f04a",
   "metadata": {
    "editable": false,
    "slideshow": {
     "slide_type": ""
    },
    "tags": []
   },
   "source": [
    "### Incepting the Multi-Signature Group AID\n",
    "\n",
    "The inception of a multisig group AID is a cooperative process. One participant (here, `multisig1_alias`) initiates the group inception using `kli multisig incept`.\n",
    "  - `--group`: Assigns a human-readable alias to the multisig group AID being created.\n",
    "  - `--file`: Points to the JSON configuration file created in the previous step.  \n",
    "\n",
    "This command will propose the inception event and wait for other members to join and sign. The other participant(s) (here, `multisig2_alias`) join the proposed inception using `kli multisig join`.\n",
    "  - `--group`: Specifies the alias of the group they are joining.\n",
    "  - `--auto`: Automatically approves the join request **(in a real scenario, this would be an interactive confirmation)**. This command will fetch the proposed event, sign it, and send its signature back.\n",
    "\n",
    "Once all required signatures are gathered, the inception event is finalized and published to the witnesses.\n",
    "These commands are run in the background here, as they would normally be interactive, waiting for each other."
   ]
  },
  {
   "cell_type": "code",
   "execution_count": null,
   "id": "d68170b1-c68b-4163-aaa4-7a5aef65b172",
   "metadata": {
    "editable": false,
    "slideshow": {
     "slide_type": ""
    },
    "tags": []
   },
   "outputs": [],
   "source": [
    "pr_title(f\"Incepting multisig AID\")\n",
    "\n",
    "multisig_group = \"multisig_group\"\n",
    "\n",
    "command = f\"\"\"\n",
    "kli multisig incept --name {multisig1_keystore} \\\n",
    "    --alias {multisig1_alias} \\\n",
    "    --group {multisig_group} \\\n",
    "    --file {file_path} > ./logs/multisig_event.log\n",
    "\"\"\"\n",
    "incept1_process = exec_bg(command)\n",
    "\n",
    "command = f\"\"\"\n",
    "kli multisig join --name {multisig2_keystore} \\\n",
    "    --group {multisig_group} \\\n",
    "    --auto > ./logs/multisig_join.log\n",
    "\"\"\"\n",
    "join_process = exec_bg(command)\n",
    "\n",
    "while(incept1_process.poll() is None or join_process.poll() is None): \n",
    "    print(\"Waiting for multisig inception to complete...\\n\")\n",
    "    time.sleep(2)\n",
    "\n",
    "# Show the output of the background processes\n",
    "pr_message(f\"Multisig Event\")\n",
    "!cat ./logs/multisig_event.log\n",
    "\n",
    "pr_message(f\"Multisig Join\")\n",
    "!cat ./logs/multisig_join.log\n",
    "\n",
    "pr_continue()"
   ]
  },
  {
   "cell_type": "markdown",
   "id": "36a99456-f143-4425-bf3b-90a0244425db",
   "metadata": {
    "editable": false,
    "slideshow": {
     "slide_type": ""
    },
    "tags": []
   },
   "source": [
    "### Verifying Multi-Signature AID Status\n",
    "\n",
    "After successful inception, you can check the status of the `multisig_group` AID using `kli status --verbose`.\n",
    "The output shows the inception event (`icp`). Key fields for a multisig AID include:\n",
    "\n",
    "- `i`: The prefix of the multisig group AID.\n",
    "- `k`: A list of the public keys of the participating AIDs that form the current signing key set for the group.\n",
    "- `kt`: The current signing threshold (e.g., \"2\", meaning 2 signatures are required).\n",
    "- `n`: A list of digests of the public keys for the next rotation (pre-rotation).\n",
    "- `nt`: The signing threshold for the next key set.\n",
    "- `b`: The list of witness AIDs for this group AID.\n",
    "- `bt`: The Threshold of Accountable Duplicity (TOAD) for this group AID.  \n",
    "\n",
    "This inception event (`icp`) is an establishment event that cryptographically binds the group AID to its initial set of controlling keys (the participants' keys) and the defined signing policies."
   ]
  },
  {
   "cell_type": "code",
   "execution_count": null,
   "id": "d4b1540b-cd2c-4fdc-8df1-2b991f6d6bb0",
   "metadata": {
    "editable": false,
    "slideshow": {
     "slide_type": ""
    },
    "tags": []
   },
   "outputs": [],
   "source": [
    "pr_title(f\"Multisig AID status\")\n",
    "!kli status --name multisig1_keystore --alias multisig_group --verbose"
   ]
  },
  {
   "cell_type": "markdown",
   "id": "c5da92a3-77ba-45a8-82a2-1047ec5415e5",
   "metadata": {
    "editable": false,
    "slideshow": {
     "slide_type": ""
    },
    "tags": []
   },
   "source": [
    "## Interaction Event with Multi-Signature Group AID\n",
    "\n",
    "An interaction event (`ixn`) is a non-establishment event used to anchor arbitrary data to the Key Event Log (KEL) of an AID. For a multisig group AID, an interaction event must also be signed by the required threshold of participating AIDs.\n",
    "\n",
    "The `kli multisig interact` command initiates an interaction event for the group, and `kli multisig join` is used by other participants to add their signatures."
   ]
  },
  {
   "cell_type": "code",
   "execution_count": null,
   "id": "00c1e724-f782-4a21-b779-33498ca05961",
   "metadata": {
    "editable": false,
    "slideshow": {
     "slide_type": ""
    },
    "tags": []
   },
   "outputs": [],
   "source": [
    "pr_title(f\"Performing interaction event\")\n",
    "\n",
    "# Anchor data for the interaction event (ixn)\n",
    "data = \"\"\"'{\"d\": \"arbitrary data\"}'\"\"\" # Keep string format as is!\n",
    "\n",
    "command = f\"\"\"\n",
    "kli multisig interact --name {multisig1_keystore} \\\n",
    "    --alias {multisig_group} \\\n",
    "    --data {data} > ./logs/multisig_event.log\n",
    "\"\"\"\n",
    "\n",
    "interact1_process = exec_bg(command)\n",
    "\n",
    "command = f\"\"\"\n",
    "kli multisig join --name {multisig2_keystore} \\\n",
    "    --group {multisig_group} \\\n",
    "    --auto > ./logs/multisig_join.log\n",
    "\"\"\"\n",
    "join_process = exec_bg(command)\n",
    "\n",
    "while(interact1_process.poll() is None or join_process.poll() is None): \n",
    "    print(\"Waiting for multisig interaction to complete...\\n\")\n",
    "    time.sleep(2)\n",
    "\n",
    "# Show the output of the background processes\n",
    "pr_message(f\"Multisig Event\")\n",
    "!cat ./logs/multisig_event.log\n",
    "\n",
    "pr_message(f\"Multisig Join\")\n",
    "!cat ./logs/multisig_join.log\n",
    "\n",
    "pr_continue()"
   ]
  },
  {
   "cell_type": "markdown",
   "id": "c652db13-e79a-4a01-9170-e5881eba0b32",
   "metadata": {
    "editable": false,
    "slideshow": {
     "slide_type": ""
    },
    "tags": []
   },
   "source": [
    "### Verifying Interaction Event\n",
    "Let's examine the KEL for `multisig_group` again to see the `ixn` event.  \n",
    "The interaction event (`ixn`) does not change the establishment keys but anchors data (`a` field) to the KEL. It is signed by the current authoritative keys established by the preceding `icp` event. The `p` field contains the digest of the previous event (`icp` in this case), ensuring the chain's integrity."
   ]
  },
  {
   "cell_type": "code",
   "execution_count": null,
   "id": "537966ee-d104-4c41-97ee-afe825d482fa",
   "metadata": {
    "editable": false,
    "slideshow": {
     "slide_type": ""
    },
    "tags": []
   },
   "outputs": [],
   "source": [
    "pr_title(f\"Multisig AID status\")\n",
    "!kli status --name multisig1_keystore --alias multisig_group --verbose"
   ]
  },
  {
   "cell_type": "markdown",
   "id": "eb5dd3d3-7554-43cc-9324-d33872251eb3",
   "metadata": {
    "editable": false,
    "slideshow": {
     "slide_type": ""
    },
    "tags": []
   },
   "source": [
    "## Rotation Event for Multi-Signature Group AID\n",
    "\n",
    "Rotating the keys for a multisig group AID also requires a cooperative process.\n",
    "\n",
    "### Rotating Individual Participant Keys\n",
    "First, each individual participant AID must rotate its own keys. This ensures that when they participate in the group rotation, they are using their new, updated keys. The `kli rotate` command is used for individual AID key rotation, and `kli query` can be used to ensure other participants are aware of these individual rotations."
   ]
  },
  {
   "cell_type": "code",
   "execution_count": null,
   "id": "1f659495-d90b-4079-81d1-6010ccc7c3cb",
   "metadata": {
    "editable": false,
    "slideshow": {
     "slide_type": ""
    },
    "tags": []
   },
   "outputs": [],
   "source": [
    "pr_title(f\"Rotating multisig-parts keys\")\n",
    "\n",
    "!kli rotate --name {multisig1_keystore} \\\n",
    "    --alias {multisig1_alias}\n",
    "\n",
    "!kli query --name {multisig2_keystore} \\\n",
    "    --alias {multisig2_alias} \\\n",
    "    --prefix {multisig1_pre}\n",
    "\n",
    "!kli rotate --name {multisig2_keystore} \\\n",
    "    --alias {multisig2_alias}\n",
    "\n",
    "!kli query --name {multisig1_keystore} \\\n",
    "    --alias {multisig1_alias} \\\n",
    "    --prefix {multisig2_pre}\n",
    "\n",
    "pr_continue()"
   ]
  },
  {
   "cell_type": "markdown",
   "id": "4b8f279c-0678-420a-bc76-452c523385b1",
   "metadata": {
    "editable": false,
    "slideshow": {
     "slide_type": ""
    },
    "tags": []
   },
   "source": [
    "### Rotating the Multi-Signature Group Keys\n",
    "Once the participants have rotated their individual keys, the group rotation can proceed.\n",
    "The `kli multisig rotate` command initiates the rotation for the group.\n",
    "\n",
    "- `--smids`: Specifies the list of participant AIDs (their current prefixes after their individual rotations) that are authorized to sign this rotation event.\n",
    "- `--rmids`: Specifies the list of participant AIDs that will form the new signing set for the next rotation (pre-rotation).\n",
    "- `--isith`: The signing threshold for the current rotation event. Here, `[\"1/2\", \"1/2\"]` represents a weighted threshold where each of the two participants has a weight of 1/2, and a sum of 1 (i.e., both signatures) is required.\n",
    "- `--nsith`: The signing threshold for the next set of keys (pre-rotation).  \n",
    "\n",
    "Again, `kli multisig join` is used by the other participant to co-sign the group rotation event."
   ]
  },
  {
   "cell_type": "code",
   "execution_count": null,
   "id": "a9ff1cf8-e653-4ed5-97f1-90aee6569a37",
   "metadata": {
    "editable": false,
    "slideshow": {
     "slide_type": ""
    },
    "tags": []
   },
   "outputs": [],
   "source": [
    "pr_title(f\"Rotating multisig group\")\n",
    "\n",
    "command = f\"\"\"\n",
    "kli multisig rotate --name {multisig1_keystore} \\\n",
    "    --alias {multisig_group} \\\n",
    "    --smids {multisig1_pre} \\\n",
    "    --smids {multisig2_pre} \\\n",
    "    --rmids {multisig1_pre} \\\n",
    "    --rmids {multisig2_pre} \\\n",
    "    --isith '[\"1/2\", \"1/2\"]' \\\n",
    "    --nsith '[\"1/2\", \"1/2\"]' > ./logs/multisig_event.log\n",
    "\"\"\"\n",
    "incept_process = exec_bg(command)\n",
    "\n",
    "command = f\"\"\"\n",
    "kli multisig join --name {multisig2_keystore} \\\n",
    "    --group {multisig_group} \\\n",
    "    --auto > ./logs/multisig_join.log\n",
    "\"\"\"\n",
    "join_process = exec_bg(command)\n",
    "\n",
    "while(incept_process.poll() is None or join_process.poll() is None): \n",
    "    print(\"Waiting for multisig rotation to complete...\\n\")\n",
    "    time.sleep(2)\n",
    "\n",
    "# Show the output of the background processes\n",
    "pr_message(f\"Multisig Event\")\n",
    "!cat ./logs/multisig_event.log\n",
    "\n",
    "pr_message(f\"Multisig Join\")\n",
    "!cat ./logs/multisig_join.log\n",
    "\n",
    "pr_continue()"
   ]
  },
  {
   "cell_type": "markdown",
   "id": "c86c3cb8-677f-4279-bded-1c9bf5586a9e",
   "metadata": {
    "editable": false,
    "slideshow": {
     "slide_type": ""
    },
    "tags": []
   },
   "source": [
    "### Verifiying rotation event\n",
    "\n",
    "Let's inspect the KEL of `multisig_group` one last time.\n",
    "The `rot` event (type `rot`) is an establishment event that signifies a change in the controlling keys.\n",
    "\n",
    "- `s`: The sequence number is incremented.\n",
    "- `p`: Contains the digest of the previous event (the ixn event in this case).\n",
    "- `kt`: The signing threshold for this rotation. It's now a list `[\"1/2\", \"1/2\"]`, reflecting the weighted threshold specified.\n",
    "- `k`: The list of public keys of the participants that are now the current authoritative signers for the group. These are the new keys from the individual participant rotations.\n",
    "- `nt`: The signing threshold for the next rotation (pre-rotation).\n",
    "- `n`: A list of digests of the public keys for the next rotation.\n",
    "- `br`: List of witnesses to remove (empty in this case).\n",
    "- `ba`: List of witnesses to add (empty in this case).\n",
    "\n",
    "This `rot` event demonstrates how the control of the multisig group AID has been transferred to a new set of keys (derived from the participants' new keys) and how a new pre-rotation commitment has been made for the next cycle, all while maintaining the integrity of the KEL through cryptographic chaining and multi-signature authorization."
   ]
  },
  {
   "cell_type": "code",
   "execution_count": null,
   "id": "f4e88ae5-7092-42f9-b75f-9e5542469929",
   "metadata": {
    "editable": false,
    "slideshow": {
     "slide_type": ""
    },
    "tags": []
   },
   "outputs": [],
   "source": [
    "pr_title(f\"Multisig AID status\")\n",
    "!kli status --name multisig1_keystore --alias multisig_group --verbose"
   ]
  },
  {
   "cell_type": "markdown",
   "id": "2a3b5ed7-1678-4d06-98c8-e0cb979c1fc4",
   "metadata": {
    "editable": false,
    "slideshow": {
     "slide_type": ""
    },
    "tags": []
   },
   "source": [
    "<div class=\"alert alert-prymary\">\n",
    "<b>📝 SUMMARY</b><hr>\n",
    "This notebook demonstrated the creation and management of a multi-signature (multisig) group AID in KERI.\n",
    "<ul>\n",
    "<li><b>Participant Setup:</b> Individual AIDs for each participant were created and their mailboxes configured for discovery via OOBIs.</li>\n",
    "<li><b>Group Configuration:</b> A JSON file defined the participating AIDs, witness set, TOAD, and signing thresholds (<code>isith</code>, <code>nsith</code>) for the group.</li>\n",
    "<li><b>Group Inception (<code>icp</code>):</b> The multisig group AID was incepted cooperatively using <code>kli multisig incept</code> by one participant and <code>kli multisig join</code> by the other(s). The resulting <code>icp</code> event in the group's KEL lists the participants' public keys (<code>k</code>) and the signing threshold (<code>kt</code>).</li>\n",
    "<li><b>Group Interaction (<code>ixn</code>):</b> An interaction event was performed by the group, requiring signatures from the participants according to the current threshold. The <code>ixn</code> event anchored data to the group's KEL.</li>\n",
    "<li><b>Group Rotation (<code>rot</code>):</b>\n",
    "<ul>\n",
    "<li>Individual participant AIDs first rotated their own keys.</li>\n",
    "<li>The multisig group AID then performed a rotation using <code>kli multisig rotate</code> and <code>kli multisig join</code>. This involved specifying the new set of signing members (<code>--smids</code>), the pre-rotated members for the next rotation (<code>--rmids</code>), and potentially new signing thresholds (<code>--isith</code>, <code>--nsith</code>), which can include weighted schemes.</li>\n",
    "<li>The <code>rot</code> event in the group's KEL updated the list of authoritative keys (<code>k</code>), the signing threshold (<code>kt</code>), and the pre-rotation commitment (<code>n</code>, <code>nt</code>).</li>\n",
    "</ul>\n",
    "</li>\n",
    "</ul>\n",
    "Throughout this process, KERI's cryptographic chaining and signature verification ensure the integrity and authenticity of the multisig group's key events.\n",
    "</div>"
   ]
  },
  {
   "cell_type": "code",
   "execution_count": null,
   "id": "6567a76b-132d-47c9-bda3-059e64a4a0c5",
   "metadata": {
    "editable": true,
    "slideshow": {
     "slide_type": ""
    },
    "tags": []
   },
   "outputs": [],
   "source": []
  }
 ],
 "metadata": {
  "kernelspec": {
   "display_name": "Python 3 (ipykernel)",
   "language": "python",
   "name": "python3"
  },
  "language_info": {
   "codemirror_mode": {
    "name": "ipython",
    "version": 3
   },
   "file_extension": ".py",
   "mimetype": "text/x-python",
   "name": "python",
   "nbconvert_exporter": "python",
   "pygments_lexer": "ipython3",
   "version": "3.12.9"
  }
 },
 "nbformat": 4,
 "nbformat_minor": 5
}
