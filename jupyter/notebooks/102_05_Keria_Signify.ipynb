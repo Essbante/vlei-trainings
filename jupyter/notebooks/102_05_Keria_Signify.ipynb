{
 "cells": [
  {
   "cell_type": "markdown",
   "id": "d93e14db-c930-42e9-96f6-6e4680dc00b7",
   "metadata": {
    "editable": true,
    "slideshow": {
     "slide_type": ""
    },
    "tags": []
   },
   "source": [
    "# SignifyTS - Keria Basics"
   ]
  },
  {
   "cell_type": "markdown",
   "id": "2703c2e2-ade7-4732-835d-8edee765092d",
   "metadata": {},
   "source": [
    "<div class=\"alert alert-primary\">\n",
    "  <b>🎯 OBJECTIVE</b><hr>\n",
    "  Introduces the foundational concepts of Keria and Signify-ts, focusing on:\n",
    "    <ul>\n",
    "        <li>The Keria/Signify client-agent architecture.</li>\n",
    "        <li>Key Keria endpoint interfaces.</li>\n",
    "        <li>The concept of End Roles.</li>\n",
    "        <li>The relationship between Client AIDs and Agent AIDs.</li>\n",
    "    </ul>\n",
    "</div>"
   ]
  },
  {
   "cell_type": "markdown",
   "id": "d6d71942-3dc3-4489-a770-8779ecb9a2ee",
   "metadata": {},
   "source": [
    "## Keria/Signify Architecture Overview\n",
    "\n",
    "KERI is a protocol for secure, self-certifying identifiers. **Keria** is an agent implementation of KERI, designed to run as a service (in the cloud) that manages AIDs on behalf of a controller. **Signify-ts** is a TypeScript library that acts as a client, enabling applications to interact with a Keria agent.\n",
    "\n",
    "The idea behind this client-agent architecture is to enable \"signing at the edge\". Your sensitive private keys, used for signing key events and other data, remain on the client-side (managed by Signify client library). The Keria agent, running remotely, handles tasks like:\n",
    "* Storing encrypted key material (salts, encrypted private keys)\n",
    "* Managing Key Event Logs (KELs)\n",
    "* Interacting with witnesses\n",
    "* Exchanging messages with other KERI agents\n",
    "\n",
    "The Keria agent itself never has access to your unencrypted private keys. All critical signing operations happen on the client, and the signed events are then sent to the Keria agent for processing and dissemination.\n",
    "\n",
    "This architecture separates key management and signing authority (client-side) from the operational aspects of maintaining an AID's KEL and its availability (agent-side).\n",
    "\n",
    "### Keria Deployment and Configuration\n",
    "\n",
    "In a typical deployment, Keria starts up and often loads its configuration, including a list of default witnesses, from a JSON configuration file (e.g., **[keria configuration file](config/keria/keria-docker.json)**). This allows the agent to be pre-configured with a set of trusted witnesses that any AIDs it manages can use.\n",
    "\n",
    "## Keria Service Endpoint Interfaces\n",
    "\n",
    "A Keria service instance exposes distinct HTTP endpoints to handle different types of interactions:\n",
    "\n",
    "1.  **Boot Interface** (`boot port`, e.g., 3903 by default):\n",
    "    * **Purpose**: Used for the initial setup and provisioning of a Keria agent worker for a Signify client. This is where the client and agent establish their initial secure relationship.\n",
    "    * **Interaction**: The Signify client sends its client AID's inception event to this endpoint to request the creation of a delegated agent AID.\n",
    "    * **Accessibility**: Often restricted to internal infrastructure or disabled if agents are pre-configured (static worker mode).\n",
    "\n",
    "2.  **Admin Interface** (`admin port`, e.g., 3901 by default):\n",
    "    * **Purpose**: This is the primary REST API for the Signify client to command and control its Keria agent.\n",
    "    * **Interaction**: Used for operations like creating new AIDs, rotating keys, issuing credentials, resolving OOBIs, etc. All requests to this interface must be authenticated (e.g., signed by the Client AID).\n",
    "    * **Accessibility**: Typically exposed externally to allow the client to manage its AIDs.\n",
    "\n",
    "3.  **KERI Protocol Interface** (`http port`, e.g., 3902 by default):\n",
    "    * **Purpose**: Handles standard KERI protocol messages (e.g., KELs, receipts, challenges) exchanged with other KERI agents and witnesses in the wider KERI network.\n",
    "    * **Interaction**: Facilitates multi-sig coordination, credential revocation, KEL exchange, etc., using CESR (Composable Event Streaming Representation) over HTTP.\n",
    "    * **Accessibility**: Exposed externally to enable interaction with the global KERI ecosystem.\n",
    "\n",
    "This separation of interfaces enhances security and deployment flexibility.\n",
    "\n",
    "## End Roles\n",
    "\n",
    "An **end role** in KERI is an authorization that one AID grants to another AID to act in a specific capacity on its behalf. Think of it as assigning a specific job to another identifier.\n",
    "\n",
    "For instance, when a Signify client connects to a Keria agent, the **Client AID** (controlled by the user/application) delegates authority to an **Agent AID** (managed by the Keria service). The Client AID essentially authorizes its Agent AID to perform certain KERI operations in its name, like anchoring its KEL with witnesses or responding to discovery requests.\n",
    "\n",
    "Declaring an end role typically involves creating a KERI event, often an interaction event (`ixn`) or an establishment event (`icp` or `rot`) with specific configuration (`c` field) or an `end` role event, that specifies:\n",
    "* The AID granting the authorization (the delegator or authorizer).\n",
    "* The AID receiving the authorization (the delegate or authorized party).\n",
    "* The specific role being granted (e.g., `agent`, `witness`, `watcher`).\n",
    "\n",
    "This signed authorization is recorded in the KEL of the authorizing AID, making the role assignment verifiable by anyone who can access and validate that KEL.\n",
    "\n",
    "## Client AID and Agent AID\n",
    "\n",
    "When you use Signify-ts to connect to a Keria agent, two primary AIDs are involved:\n",
    "\n",
    "1.  **Client AID**:\n",
    "    * This is an AID that *you* (or your application) control directly via the Signify-ts client.\n",
    "    * You hold its private keys.\n",
    "    * It's typically a transferable AID, allowing for key rotation.\n",
    "    * It acts as the **delegator** to the Agent AID.\n",
    "\n",
    "2.  **Agent AID**:\n",
    "    * This AID is created and managed by the Keria service *on your behalf*.\n",
    "    * Its inception event specifies the Client AID as its delegator (`di` field in the inception event). This means the Agent AID's authority to act is derived from, and anchored to, your Client AID.\n",
    "    * It's also typically a transferable AID.\n",
    "    * The Keria service uses this Agent AID to perform actions for your Client AID, such as interacting with witnesses or other agents, without needing direct access to your Client AID's private keys.\n",
    "\n",
    "The Signify client generates the Client AID and sends its inception event to the Keria agent's Boot Interface. The Keria service then creates the delegated Agent AID and returns its inception event to the client [Source 14]. Finally, the Signify client approves this delegation by sending an interaction event back to the Keria agent's Admin Interface.\n",
    "\n",
    "This delegation model is fundamental to Keria's security: your primary controlling keys (for the Client AID) remain \"at the edge,\" while the Keria agent operates with a delegated authority (via the Agent AID) that is always traceable back to your Client AID."
   ]
  },
  {
   "cell_type": "markdown",
   "id": "4731e577-2be5-4745-ba78-bb24fb83c51d",
   "metadata": {},
   "source": [
    "<div class=\"alert alert-primary\">\n",
    "  <b>📝 SUMMARY</b><hr>\n",
    "  <p>\n",
    "    The Keria/Signify architecture enables \"signing at the edge,\" where a Signify client (like Signify-ts) manages private keys and signing operations locally, while a remote Keria agent handles KEL management, witness interactions, and KERI protocol communications. Keria exposes three main HTTP endpoints:\n",
    "    <ul>\n",
    "        <li><b>Boot Interface:</b> For initial client-agent provisioning and creation of a delegated Agent AID.</li>\n",
    "        <li><b>Admin Interface:</b> A REST API for the client to command and control its agent (e.g., create AIDs, rotate keys).</li>\n",
    "        <li><b>KERI Protocol Interface:</b> For standard KERI message exchange with other agents and witnesses.</li>\n",
    "    </ul>\n",
    "    End roles in KERI define verifiable authorizations for one AID to act in a specific capacity for another (e.g., an Agent AID acting in the 'agent' role for a Client AID).\n",
    "  </p>\n",
    "  <p>\n",
    "    The connection process involves a <b>Client AID</b> (controlled by the user via Signify) delegating authority to an <b>Agent AID</b> (managed by Keria). \n",
    "  </p>\n",
    "</div>"
   ]
  },
  {
   "cell_type": "code",
   "execution_count": null,
   "id": "d537b237-fa7b-4860-a9c2-1e5e9711e42e",
   "metadata": {},
   "outputs": [],
   "source": []
  }
 ],
 "metadata": {
  "kernelspec": {
   "display_name": "Deno",
   "language": "typescript",
   "name": "deno"
  },
  "language_info": {
   "codemirror_mode": "typescript",
   "file_extension": ".ts",
   "mimetype": "text/x.typescript",
   "name": "typescript",
   "nbconvert_exporter": "script",
   "pygments_lexer": "typescript",
   "version": "5.8.3"
  }
 },
 "nbformat": 4,
 "nbformat_minor": 5
}
