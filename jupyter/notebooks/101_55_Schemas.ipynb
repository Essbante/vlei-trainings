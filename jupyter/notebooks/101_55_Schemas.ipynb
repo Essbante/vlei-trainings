{
 "cells": [
  {
   "cell_type": "markdown",
   "id": "a187c36a-66b1-437a-b784-abaa87526182",
   "metadata": {
    "editable": true,
    "slideshow": {
     "slide_type": ""
    },
    "tags": []
   },
   "source": [
    "# ACDC Schemas"
   ]
  },
  {
   "cell_type": "markdown",
   "id": "0bfd08dc-b1ca-4e78-972a-f5489f3dd962",
   "metadata": {
    "editable": false,
    "slideshow": {
     "slide_type": ""
    },
    "tags": []
   },
   "source": [
    "<div class=\"alert alert-primary\">\n",
    "  <b>🎯 OBJECTIVE</b><hr>\n",
    "    Explain the role of schemas in defining ACDC structures, how they leverage Self-Addressing Identifiers (SAIDs) for verifiability, and learn how to create and process a basic schema.\n",
    "</div>"
   ]
  },
  {
   "cell_type": "markdown",
   "id": "06a9cfc3-e63e-46c7-a90b-e9d75c922712",
   "metadata": {
    "editable": false,
    "slideshow": {
     "slide_type": ""
    },
    "tags": []
   },
   "source": [
    "## What is a Schema?\n",
    "\n",
    "Before we can issue or verify an Authentic Chained Data Container, we need a blueprint that describes exactly what information it should contain and how that information should be structured. This blueprint is called a **Schema**.\n",
    "\n",
    "Schemas serve several purposes:\n",
    "\n",
    "* **Structure & Validation:** They define the names, data types, and constraints for the data within an ACDC. This allows recipients to validate that a received ACDC contains the expected information in the correct format.\n",
    "* **Interoperability:** When different parties agree on a common schema, they can reliably exchange and understand ACDCs for a specific purpose (e.g., everyone knows what fields to expect in a \"Membership Card\" ACDC).\n",
    "* **Verifiability:** As we'll see, ACDC schemas themselves are cryptographically verifiable, ensuring the blueprint hasn't been tampered with."
   ]
  },
  {
   "cell_type": "markdown",
   "id": "f70104f8-6cf9-4bd1-9bcb-93c7a14a7e08",
   "metadata": {
    "editable": false,
    "slideshow": {
     "slide_type": ""
    },
    "tags": []
   },
   "source": [
    "## Writing ACDC Schemas\n",
    "\n",
    "ACDC schemas are written using the **JSON Schema** specification. If you're familiar with JSON Schema, you'll find ACDC schemas very similar, with a few KERI-specific conventions.\n",
    "\n",
    "Let's look at the main parts of a typical ACDC schema:\n",
    "\n",
    "```json\n",
    "{\n",
    "    \"$id\": \"\",\n",
    "    \"$schema\": \"http://json-schema.org/draft-07/schema#\",\n",
    "    \"title\": \"Sample Credential\",\n",
    "    \"description\": \"A very basic credential schema for demonstration.\",\n",
    "    \"type\": \"object\",\n",
    "    \"credentialType\": \"SampleCredential\",\n",
    "    \"version\": \"1.0.0\",\n",
    "    \"properties\": {\n",
    "        \"v\": {\n",
    "            \"description\": \"Credential Version String\",\n",
    "            \"type\": \"string\"\n",
    "        },\n",
    "        \"d\": {\n",
    "            \"description\": \"Credential SAID\",\n",
    "            \"type\": \"string\"\n",
    "        },\n",
    "        \"u\": {\n",
    "            \"description\": \"One time use nonce\",\n",
    "            \"type\": \"string\"\n",
    "        },\n",
    "        \"i\": {\n",
    "            \"description\": \"Issuer AID\",\n",
    "            \"type\": \"string\"\n",
    "        },\n",
    "        \"rd\": {\n",
    "            \"description\": \"Registry SAID\",\n",
    "            \"type\": \"string\"\n",
    "        },\n",
    "        \"s\": {\n",
    "            \"description\": \"Schema SAID\",\n",
    "            \"type\": \"string\"\n",
    "        },\n",
    "        \"a\": {\n",
    "            \"oneOf\": [\n",
    "                {\n",
    "                    \"description\": \"Attributes block SAID\",\n",
    "                    \"type\": \"string\"\n",
    "                },\n",
    "                {\n",
    "                    \"$id\": \"\",\n",
    "                    \"description\": \"Attributes block\",\n",
    "                    \"type\": \"object\",\n",
    "                    \"properties\": {\n",
    "                        \"d\": {\n",
    "                            \"description\": \"Attributes data SAID\",\n",
    "                            \"type\": \"string\"\n",
    "                        },\n",
    "                        \"i\": {\n",
    "                            \"description\": \"Issuee AID\",\n",
    "                            \"type\": \"string\"\n",
    "                        },\n",
    "                        \"dt\": {\n",
    "                            \"description\": \"Issuance date time\",\n",
    "                            \"type\": \"string\",\n",
    "                            \"format\": \"date-time\"\n",
    "                        },\n",
    "                        \"claim\": {\n",
    "                            \"description\": \"Custom claim being made\",\n",
    "                            \"type\": \"string\"\n",
    "                        }\n",
    "                    },\n",
    "                    ...\n",
    "                }\n",
    "            ]\n",
    "        }\n",
    "    },\n",
    "    ...\n",
    "}\n",
    "```\n",
    "\n",
    "1.  **Schema Metadata (Top Level):** Describes the schema itself.\n",
    "    * `$id`: This field holds the SAID of the entire schema file once processed. It's not a URL like in standard JSON Schema. It's computed after all internal SAIDs are calculated.\n",
    "    * `$schema`: Specifies the JSON Schema version (e.g., `\"http://json-schema.org/draft-07/schema#\"`)\n",
    "    * `title`, `description`: Human-readable name and explanation\n",
    "    * `type`: Usually `\"object\"` for the top level of an ACDC schema\n",
    "    * `credentialType`: A specific name for this type of credential\n",
    "    * `version`: A semantic version for this specific credential type (e.g., `\"1.0.0\"`) to manage schema evolution (Distinct from the ACDC instance's `v` field).\n",
    "2.  **`properties` (Top Level):** Defines the fields that will appear in the ACDC's envelope and payload.\n",
    "    * ACDC Metadata Fields: Defines required fields like\n",
    "        * `v`: ACDC version/serialization\n",
    "        * `d`: ACDC SAID\n",
    "        * `u`: salty nonce\n",
    "        * `i`: Issuer AID\n",
    "        * `rd`: Registry SAID\n",
    "        * `s`: Schema SAID\n",
    "    * Payload Sections: Defines the payload structures\n",
    "        * `a`: Defines the structure for the **attributes block**, which holds the actual data or claims being made by the credential.\n",
    "            * **`oneOf`**: This standard JSON Schema keyword indicates that the value for the `a` block in an actual ACDC instance can be *one of* the following two formats:\n",
    "                1.  **Compact Form (String):**\n",
    "                    * `{\"description\": \"Attributes block SAID\", \"type\": \"string\"}`: This option defines the *compact* representation. Instead of including the full attributes object, the ACDC can simply contain a single string value: the SAID of the attributes block itself. This SAID acts as a verifiable reference to the full attribute data, which might be stored elsewhere. (We won't cover compact ACDCs in this material.)\n",
    "                2.  **Un-compact Form (Object):**\n",
    "                    * `{\"$id\": \"\", \"description\": \"Attributes block\", \"type\": \"object\", ...}`: This option defines the full or un-compacted representation, where the ACDC includes the complete attributes object directly.\n",
    "                        * **`$id`**: This field will hold the SAID calculated for *this specific attributes block structure* after the schema is processed (`SAIDified`). Initially empty `\"\"` when writing the schema.\n",
    "                        * **`description`**: Human-readable description of this block.\n",
    "                        * **`type`: `\"object\"`**: Specifies that this form is a JSON object.\n",
    "                        * **`properties`**: Defines the fields contained within the attributes object:\n",
    "                            * **`d`**: Holds the SAID calculated from the *actual data* within the attributes block\n",
    "                            * **`i`**: The AID of the **Issuee** or subject of the credential – the entity the claims are *about*.\n",
    "                            * **`dt`**: An ISO 8601 date-time string indicating when the credential was issued.\n",
    "                            * **`claim`** (and other custom fields): These are the specific data fields defined by your schema. In this example, `\"claim\"` is a string representing the custom information this credential conveys. You would define all your specific credential attributes here.\n",
    "3.  **`additionalProperties`, `required`:** Standard JSON Schema fields controlling whether extra properties are allowed and which defined properties must be present. (see the complete schema [here](config/schemas/sample_schema.json.bak))\n",
    "\n",
    "To write your schema, most of the customization will happen inside the payload attributes block (`a`). Here you can add claims according to specific needs.\n"
   ]
  },
  {
   "cell_type": "markdown",
   "id": "990c351f-6f0f-43cd-b92c-64003e06c4a9",
   "metadata": {
    "editable": true,
    "slideshow": {
     "slide_type": ""
    },
    "tags": []
   },
   "source": [
    "<div class=\"alert alert-info\">\n",
    "  <b>ℹ️ NOTE</b><hr>\n",
    "    The ACDC schema definitionn allows for optional payload blocks called <code>e</code> (edges) and <code>r</code> (rules).\n",
    "    <ul>\n",
    "        <li>The <code>e</code> section defines links (edges) to other ACDCs, creating verifiable chains of related credentials. For more details see <a href=\"https://trustoverip.github.io/tswg-acdc-specification/#edge-section\"><b>edges</b></a></li>\n",
    "        <li>The <code>r</code> section allows embedding machine-readable rules or legal prose, such as Ricardian Contracts, directly into the credential. For more details see <a href=\"https://trustoverip.github.io/tswg-acdc-specification/#rules-section\"><b>rules</b></a></li>\n",
    "</div>"
   ]
  },
  {
   "cell_type": "markdown",
   "id": "97dbeb5e-b5d1-4fe8-8042-c7b27ad85716",
   "metadata": {
    "editable": false,
    "slideshow": {
     "slide_type": ""
    },
    "tags": []
   },
   "source": [
    "<div class=\"alert alert-primary\">\n",
    "  <b>📝 SUMMARY</b><hr>\n",
    "An ACDC Schema acts as a verifiable blueprint defining the structure, data types, and rules for an Authentic Chained Data Container (ACDC). Written using the JSON Schema specification, they ensure ACDCs have the expected format (validation) and enable different parties to understand exchanged credentials (interoperability). Key components include top-level metadata (like the schema's SAID in $id, title, credentialType, version) and a properties section defining the ACDC envelope fields (v, d, i, s, etc.) and payload sections. The main payload section is attributes (a), containing issuer/issuee info and custom claims, with optional sections for edges (e) linking other ACDCs and rules (r).\n",
    "</div>"
   ]
  }
 ],
 "metadata": {
  "kernelspec": {
   "display_name": "Python 3 (ipykernel)",
   "language": "python",
   "name": "python3"
  },
  "language_info": {
   "codemirror_mode": {
    "name": "ipython",
    "version": 3
   },
   "file_extension": ".py",
   "mimetype": "text/x-python",
   "name": "python",
   "nbconvert_exporter": "python",
   "pygments_lexer": "ipython3",
   "version": "3.12.9"
  }
 },
 "nbformat": 4,
 "nbformat_minor": 5
}
