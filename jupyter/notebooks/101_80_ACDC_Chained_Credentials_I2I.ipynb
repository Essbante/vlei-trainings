{
 "cells": [
  {
   "cell_type": "markdown",
   "id": "6764b61e-4fad-4f86-8e17-b2ad3d455478",
   "metadata": {
    "editable": true,
    "slideshow": {
     "slide_type": ""
    },
    "tags": []
   },
   "source": [
    "# ACDC Issuance with KLI: Issuer-To-Issuee"
   ]
  },
  {
   "cell_type": "markdown",
   "id": "2ce78029-0ae5-4a8b-847c-edd4c8cff201",
   "metadata": {
    "editable": true,
    "slideshow": {
     "slide_type": ""
    },
    "tags": []
   },
   "source": [
    "<div class=\"alert alert-primary\">\n",
    "<b>🎯 OBJECTIVE</b><hr>\n",
    "Demonstrate the creation of an ACDC that utilizes an Issuer-To-Issuee (I2I) edge, illustrating how the issuer of the current ACDC is verifiably the issuee of a linked ACDC.\n",
    "</div>"
   ]
  },
  {
   "cell_type": "markdown",
   "id": "1a9a6861-4fe8-492b-9b46-615d85233753",
   "metadata": {
    "editable": true,
    "slideshow": {
     "slide_type": ""
    },
    "tags": []
   },
   "source": [
    "<div class=\"alert alert-primary\">\n",
    "  <b>📝 SUMMARY</b><hr>\n",
    "  \n",
    "</div>"
   ]
  }
 ],
 "metadata": {
  "kernelspec": {
   "display_name": "Python 3 (ipykernel)",
   "language": "python",
   "name": "python3"
  },
  "language_info": {
   "codemirror_mode": {
    "name": "ipython",
    "version": 3
   },
   "file_extension": ".py",
   "mimetype": "text/x-python",
   "name": "python",
   "nbconvert_exporter": "python",
   "pygments_lexer": "ipython3",
   "version": "3.12.9"
  }
 },
 "nbformat": 4,
 "nbformat_minor": 5
}
