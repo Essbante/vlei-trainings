{
 "cells": [
  {
   "cell_type": "markdown",
   "id": "6764b61e-4fad-4f86-8e17-b2ad3d455478",
   "metadata": {
    "editable": true,
    "slideshow": {
     "slide_type": ""
    },
    "tags": []
   },
   "source": [
    "# ACDC Issuance with KLI: Issuer-To-Issuee"
   ]
  },
  {
   "cell_type": "markdown",
   "id": "2ce78029-0ae5-4a8b-847c-edd4c8cff201",
   "metadata": {
    "editable": true,
    "slideshow": {
     "slide_type": ""
    },
    "tags": []
   },
   "source": [
    "<div class=\"alert alert-primary\">\n",
    "<b>🎯 OBJECTIVE</b><hr>\n",
    "Demonstrate how to issue chained Authentic Chained Data Containers (ACDCs) using an Issuer-To-Issuee (<code>I2I</code>) edge relationship with the KERI Command Line Interface (KLI). It also illustrates how to embed a simple rule within an ACDC. We will implement the \"Endorsement for Building Access\" scenario.\n",
    "</div>"
   ]
  },
  {
   "cell_type": "markdown",
   "id": "edc57ed9-a499-4662-a9f4-5ae2dea92ec2",
   "metadata": {
    "editable": true,
    "slideshow": {
     "slide_type": ""
    },
    "tags": []
   },
   "source": [
    "## Scenario Recap: Endorsement for Building Access\n",
    "\n",
    "This notebook focuses on the practical KLI commands for implementing an `I2I` chained credential scenario. For a detailed theoretical explanation of ACDC Edges, Edge Operators, and Rules, please refer to the \"Advanced ACDC Features: Edges, Edge Operators, and Rules\" notebook. To summarize: \n",
    "\n",
    "- **ACME Corp** issues a \"Role Credential\" to an Employee.\n",
    "- The **Employee**, by virtue of their \"Role Credential\", issues an \"Access Credential\" to a **Sub-contractor**.\n",
    "- The **Access Credential** contains an `I2I` edge linking back to the Employee's \"Role Credential\", signifying that the Employee's authority to grant access is derived from their managerial role.\n",
    "- The **Access Credential** will also include a simple textual rule regarding its non-transferability. "
   ]
  },
  {
   "cell_type": "markdown",
   "id": "45c2792d-3a17-4bb9-9440-ab70a2e7a8b2",
   "metadata": {
    "editable": true,
    "slideshow": {
     "slide_type": ""
    },
    "tags": []
   },
   "source": [
    "## Initial Setup: Keystores, AIDs, Registries, and OOBIs\n",
    "As usual, it is necessary to set up our participants:\n",
    "\n",
    "- Acme Corporation (`acme_aid`): The initial authority in this scenario, responsible for issuing the Role Credential.\n",
    "- Employee (`employee_aid`): This participant will first receive the Role Credential from Acme and subsequently issue the Access Credential.\n",
    "- Sub-contractor (`subcontractor_aid`): The recipient of the Access Credential.\n",
    "\n",
    "For each participant:\n",
    "- Initialize their respective keystores.\n",
    "- Incept their Autonomic Identifiers (AIDs). These AIDs will be configured as transferable and will utilize the default witness setup from `keystore_init_config.json`.\n",
    "- Establish OOBI connections. This involves generating OOBIs for each AID and resolving them to ensure all necessary participants (Acme-Employee, Employee-Sub-contractor) can securely discover each other.\n",
    "\n",
    "For ACMR and the Employee:\n",
    "- Incept a credential registry"
   ]
  },
  {
   "cell_type": "code",
   "execution_count": null,
   "id": "127c3005-ada0-4279-b06e-47f4ad63cc7f",
   "metadata": {
    "editable": true,
    "slideshow": {
     "slide_type": ""
    },
    "tags": []
   },
   "outputs": [],
   "source": [
    "# Imports and Utility functions\n",
    "from scripts.utils import exec, clear_keri, pr_title, pr_message, pr_continue\n",
    "from scripts.saidify import get_schema_said\n",
    "import json, os\n",
    "\n",
    "clear_keri()\n",
    "\n",
    "# ACME Keystore and AID\n",
    "acme_keystore_name = \"acme_ks\"\n",
    "acme_salt = exec(\"kli salt\")\n",
    "acme_aid_alias = \"acme\"\n",
    "acme_registry_name = \"acme_mgr_registry\"\n",
    "\n",
    "# Employee Keystore and AID\n",
    "employee_keystore_name = \"employee_ks\"\n",
    "employee_salt = exec(\"kli salt\")\n",
    "employee_aid_alias = \"employee\"\n",
    "employee_registry_name = \"employee_access_registry\"\n",
    "\n",
    "# Sub-contractor Keystore and AID\n",
    "subcontractor_keystore_name = \"subcontractor_ks\"\n",
    "subcontractor_salt = exec(\"kli salt\")\n",
    "subcontractor_aid_alias = \"subcontractor\"\n",
    "\n",
    "pr_title(\"Initializing keystores\")\n",
    "\n",
    "!kli init --name {acme_keystore_name} \\\n",
    "    --nopasscode \\\n",
    "    --salt {acme_salt} \\\n",
    "    --config-dir ./config \\\n",
    "    --config-file keystore_init_config.json\n",
    "\n",
    "!kli init --name {employee_keystore_name} \\\n",
    "    --nopasscode \\\n",
    "    --salt {employee_salt} \\\n",
    "    --config-dir ./config \\\n",
    "    --config-file keystore_init_config.json\n",
    "\n",
    "!kli init --name {subcontractor_keystore_name} \\\n",
    "    --nopasscode \\\n",
    "    --salt {subcontractor_salt} \\\n",
    "    --config-dir ./config \\\n",
    "    --config-file keystore_init_config.json\n",
    "\n",
    "pr_title(\"Initializing AIDs\")\n",
    "\n",
    "!kli incept --name {acme_keystore_name} \\\n",
    "    --alias {acme_aid_alias} \\\n",
    "    --file ./config/aid_inception_config.json # Uses witnesses and transferable settings\n",
    "\n",
    "!kli incept --name {employee_keystore_name} \\\n",
    "    --alias {employee_aid_alias} \\\n",
    "    --file ./config/aid_inception_config.json\n",
    "\n",
    "!kli incept --name {subcontractor_keystore_name} \\\n",
    "    --alias {subcontractor_aid_alias} \\\n",
    "    --file ./config/aid_inception_config.json\n",
    "\n",
    "pr_title(\"Initializing Credential Registries\")\n",
    "\n",
    "!kli vc registry incept --name {acme_keystore_name} \\\n",
    "    --alias {acme_aid_alias} \\\n",
    "    --registry-name {acme_registry_name}\n",
    "\n",
    "!kli vc registry incept --name {employee_keystore_name} \\\n",
    "    --alias {employee_aid_alias} \\\n",
    "    --registry-name {employee_registry_name}\n",
    "\n",
    "\n",
    "acme_aid_prefix = exec(f\"kli aid --name {acme_keystore_name} --alias {acme_aid_alias}\")\n",
    "employee_aid_prefix = exec(f\"kli aid --name {employee_keystore_name}  --alias {employee_aid_alias}\")\n",
    "subcontractor_aid_prefix = exec(f\"kli aid --name {subcontractor_keystore_name}  --alias {subcontractor_aid_alias}\")\n",
    "\n",
    "pr_message(f\"ACME AID: {acme_aid_prefix}\")\n",
    "pr_message(f\"Employee AID: {employee_aid_prefix}\")\n",
    "pr_message(f\"Sub-contractor AID: {subcontractor_aid_prefix}\")\n",
    "\n",
    "pr_title(\"Generating and resolving OOBIs\")\n",
    "\n",
    "# ACME and Employee OOBI Exchange\n",
    "acme_oobi = exec(f\"kli oobi generate --name {acme_keystore_name} --alias {acme_aid_alias} --role witness\")\n",
    "employee_oobi = exec(f\"kli oobi generate --name {employee_keystore_name} --alias {employee_aid_alias} --role witness\")\n",
    "\n",
    "!kli oobi resolve --name {acme_keystore_name} \\\n",
    "    --oobi-alias {employee_aid_alias} \\\n",
    "    --oobi {employee_oobi}\n",
    "\n",
    "!kli oobi resolve --name {employee_keystore_name} \\\n",
    "    --oobi-alias {acme_aid_alias} \\\n",
    "    --oobi {acme_oobi}\n",
    "\n",
    "# Employee and Sub-contractor OOBI Exchange\n",
    "subcontractor_oobi = exec(f\"kli oobi generate --name {subcontractor_keystore_name}  --alias {subcontractor_aid_alias} --role witness\")\n",
    "\n",
    "!kli oobi resolve --name {employee_keystore_name} \\\n",
    "    --oobi-alias {subcontractor_aid_alias} \\\n",
    "    --oobi {subcontractor_oobi}\n",
    "\n",
    "!kli oobi resolve --name {subcontractor_keystore_name} \\\n",
    "    --oobi-alias {employee_aid_alias} \\\n",
    "    --oobi {employee_oobi}\n",
    "\n",
    "pr_message(\"OOBI connections established.\")\n",
    "\n",
    "pr_continue()"
   ]
  },
  {
   "cell_type": "markdown",
   "id": "bb7b2707-e947-4fbb-92ae-18bf916e1622",
   "metadata": {},
   "source": [
    "## Schema Definitions\n",
    "\n",
    "We need two ACDC schemas:\n",
    "- Role Schema (`role_schema.json`): For the credential ACME issues to the Employee.\n",
    "- Access Schema (`access_schema.json`): For the credential the Employee issues to the Sub-contractor. This schema will include definitions for an `e` (edges) section to specify the I2I link and an `r` (rules) section."
   ]
  },
  {
   "cell_type": "markdown",
   "id": "5c4b3817-e911-42d7-9a44-f031981598e4",
   "metadata": {},
   "source": [
    "<div class=\"alert alert-info\">\n",
    "<b>ℹ️ NOTE</b><hr>\n",
    "For this notebook,the schemas have been SAIDified and made available on a schema server. The SAIDification process was covered in the \"SAIDifying ACDC Schemas\" notebook."
   ]
  },
  {
   "cell_type": "markdown",
   "id": "222a3116-5998-48d3-8c50-a9b312e35e29",
   "metadata": {},
   "source": [
    "### Role Schema\n",
    "\n",
    "This schema defines the structure of the \"Role Credential.\" It has a structure that is rather similar to the other schemas presented so far during the training:\n",
    "\n",
    "- Filename: `role_schema.json` (content shown SAIDified)"
   ]
  },
  {
   "cell_type": "code",
   "execution_count": null,
   "id": "91f8acfd-3764-4da9-91c8-8bcb643b8e86",
   "metadata": {
    "scrolled": true
   },
   "outputs": [],
   "source": [
    "role_schema_path = \"config/schemas/role_schema.json\" \n",
    "pr_title(f\"Schema: {role_schema_path}\")\n",
    "\n",
    "role_schema_said = get_schema_said(role_schema_path)\n",
    "pr_message(f\"Schema SAID: {role_schema_said}\")\n",
    "\n",
    "pr_message(f\"Retieving Schema from Server:\")\n",
    "!curl -s http://vlei-server:7723/oobi/{role_schema_said} | jq\n",
    "\n",
    "pr_continue()"
   ]
  },
  {
   "cell_type": "markdown",
   "id": "e1241e4f-194d-4a89-8608-e6b574a94859",
   "metadata": {
    "editable": true,
    "slideshow": {
     "slide_type": ""
    },
    "tags": []
   },
   "source": [
    "### Access Schema\n",
    "This schema defines the \"Access Credential\". It includes an `e` (edges) section for the `I2I` link to the Role Credential and an `r` (rules) section for a usage policy.\n",
    "\n",
    "Filename: `access_schema.json` (content shown SAIDified)\n"
   ]
  },
  {
   "cell_type": "code",
   "execution_count": null,
   "id": "0f340e35-921b-4bff-a560-dd1f7a7bbd33",
   "metadata": {
    "editable": true,
    "scrolled": true,
    "slideshow": {
     "slide_type": ""
    },
    "tags": []
   },
   "outputs": [],
   "source": [
    "access_schema_path = \"config/schemas/access_schema.json\" \n",
    "pr_title(f\"Schema: {access_schema_path}\")\n",
    "\n",
    "access_schema_said = get_schema_said(access_schema_path)\n",
    "pr_message(f\"Schema SAID: {access_schema_said}\")\n",
    "\n",
    "pr_message(f\"Retieving Schema from Server:\")\n",
    "!curl -s http://vlei-server:7723/oobi/{access_schema_said} | jq\n",
    "\n",
    "pr_continue()"
   ]
  },
  {
   "cell_type": "markdown",
   "id": "21d88293-84d7-494f-8437-d8b1e6c2b1ef",
   "metadata": {
    "editable": true,
    "slideshow": {
     "slide_type": ""
    },
    "tags": []
   },
   "source": [
    "## Resolving Schema OOBIs\n",
    "All parties need to resolve the OOBIs for these schemas from the schema server."
   ]
  },
  {
   "cell_type": "code",
   "execution_count": null,
   "id": "0f9e539b-d128-4ea8-8ac8-fe7c216e6c56",
   "metadata": {
    "editable": true,
    "slideshow": {
     "slide_type": ""
    },
    "tags": []
   },
   "outputs": [],
   "source": [
    "pr_title(\"Resolving schema OOBIs\")\n",
    "\n",
    "role_schema_oobi = f\"http://vlei-server:7723/oobi/{role_schema_said}\"\n",
    "access_schema_oobi = f\"http://vlei-server:7723/oobi/{access_schema_said}\"\n",
    "\n",
    "# ACME resolves both\n",
    "!kli oobi resolve --name {acme_keystore_name} \\\n",
    "    --oobi-alias \"role_schema\" \\\n",
    "    --oobi {role_schema_oobi}\n",
    "\n",
    "!kli oobi resolve --name {acme_keystore_name} \\\n",
    "    --oobi-alias \"access_schema\" \\\n",
    "    --oobi {access_schema_oobi}\n",
    "\n",
    "# Employee resolves both\n",
    "!kli oobi resolve --name {employee_keystore_name} \\\n",
    "    --oobi-alias \"role_schema\" --oobi {role_schema_oobi}\n",
    "\n",
    "!kli oobi resolve --name {employee_keystore_name} \\\n",
    "    --oobi-alias \"access_schema\" \\\n",
    "    --oobi {access_schema_oobi}\n",
    "\n",
    "# Sub-contractor resolves access_schema \n",
    "# might also need role_schema if they were to fully validate the chain themselves, will keep it simple for the example\n",
    "!kli oobi resolve --name {subcontractor_keystore_name} \\\n",
    "    --oobi-alias \"role_schema\" \\\n",
    "    --oobi {role_schema_oobi}\n",
    "\n",
    "!kli oobi resolve --name {subcontractor_keystore_name} \\\n",
    "    --oobi-alias \"access_schema\" \\\n",
    "    --oobi {access_schema_oobi}\n",
    "\n",
    "pr_message(\"Schema OOBIs resolved.\")\n",
    "pr_continue()"
   ]
  },
  {
   "cell_type": "markdown",
   "id": "8567e1ea-5a45-4b68-b47b-a7b040539977",
   "metadata": {
    "editable": true,
    "slideshow": {
     "slide_type": ""
    },
    "tags": []
   },
   "source": [
    "## Issuing credentials\n",
    "\n",
    "Now that the setup is complete and the schemas are available, its necessary to create the credential chain. \n"
   ]
  },
  {
   "cell_type": "markdown",
   "id": "952433b6-25b6-43ef-867c-32d43832787e",
   "metadata": {
    "editable": true,
    "slideshow": {
     "slide_type": ""
    },
    "tags": []
   },
   "source": [
    "### Step 1: Role Credential Issuance\n",
    "\n",
    "The Keystores, AIDs, and Credential Registry for ACME Corp. were created in the initial setup. The next step is to make the credential.\n",
    "\n",
    "**ACME Creates Role Credential Data**\n",
    "\n",
    "Create a JSON file `role_cred_data.json` with the attributes for this specific credential"
   ]
  },
  {
   "cell_type": "code",
   "execution_count": null,
   "id": "e8ccb453-7a0f-464a-b34d-8172157ea4c6",
   "metadata": {
    "editable": true,
    "slideshow": {
     "slide_type": ""
    },
    "tags": []
   },
   "outputs": [],
   "source": [
    "pr_title(\"Creating role credential data\")\n",
    "\n",
    "!echo '{ \\\n",
    "    \"roleTitle\": \"Engineering Manager\", \\\n",
    "    \"department\": \"Technology Innovations\" \\\n",
    "}' > config/credential_data/role_cred_data.json\n",
    "\n",
    "!cat config/credential_data/role_cred_data.json | jq\n",
    "\n",
    "pr_continue()"
   ]
  },
  {
   "cell_type": "markdown",
   "id": "8db37d03-3fe2-4298-bbac-7bf5c8bbaa12",
   "metadata": {
    "editable": true,
    "slideshow": {
     "slide_type": ""
    },
    "tags": []
   },
   "source": [
    "**ACME Issues Role Credential to Employee**"
   ]
  },
  {
   "cell_type": "code",
   "execution_count": null,
   "id": "8c79a07a-3b13-44e5-853d-7d4a34e31ae6",
   "metadata": {
    "editable": true,
    "slideshow": {
     "slide_type": ""
    },
    "tags": []
   },
   "outputs": [],
   "source": [
    "pr_title(\"Creating Role credential\")\n",
    "\n",
    "issue_time_acme = exec(\"kli time\")\n",
    "!kli vc create --name {acme_keystore_name} \\\n",
    "    --alias {acme_aid_alias} \\\n",
    "    --registry-name {acme_registry_name} \\\n",
    "    --schema {role_schema_said} \\\n",
    "    --recipient {employee_aid_prefix} \\\n",
    "    --data \"@./config/credential_data/role_cred_data.json\" \\\n",
    "    --time {issue_time_acme}\n",
    "\n",
    "role_credential_said = exec(f\"kli vc list --name {acme_keystore_name} --alias {acme_aid_alias} --issued --said --schema {role_schema_said}\")\n",
    "pr_message(f\"Role Credential SAID: {role_credential_said}\")\n",
    "\n",
    "pr_continue()"
   ]
  },
  {
   "cell_type": "markdown",
   "id": "7ed76a40-4eb8-4bae-b739-d3aa9d446afd",
   "metadata": {
    "editable": true,
    "slideshow": {
     "slide_type": ""
    },
    "tags": []
   },
   "source": [
    "**IPEX Transfer: ACME Grants, Employee Admits Manager Credential**"
   ]
  },
  {
   "cell_type": "code",
   "execution_count": null,
   "id": "2dc8a2ff-2aa2-4f49-9227-7e76f30edd4e",
   "metadata": {
    "editable": true,
    "scrolled": true,
    "slideshow": {
     "slide_type": ""
    },
    "tags": []
   },
   "outputs": [],
   "source": [
    "pr_title(\"Transfering credential (ipex grant)\")\n",
    "\n",
    "time = exec(\"kli time\")\n",
    "!kli ipex grant --name {acme_keystore_name} \\\n",
    "    --alias {acme_aid_alias} \\\n",
    "    --said {role_credential_said} \\\n",
    "    --recipient {employee_aid_prefix} \\\n",
    "    --time {time}\n",
    "\n",
    "pr_title(\"Admiting credential (ipex grant)\")\n",
    "# Employee polls for the grant and admits it\n",
    "employee_grant_msg_said = exec(f\"kli ipex list --name {employee_keystore_name} --alias {employee_aid_alias} --poll --said\")\n",
    "time = exec(\"kli time\")\n",
    "!kli ipex admit --name {employee_keystore_name} \\\n",
    "    --alias {employee_aid_alias} \\\n",
    "    --said {employee_grant_msg_said} \\\n",
    "    --time {time}\n",
    "\n",
    "# Employee lists the received credential\n",
    "pr_message(\"\\nEmployee's received Manager Credential:\")\n",
    "!kli vc list --name {employee_keystore_name} \\\n",
    "    --alias {employee_aid_alias} \\\n",
    "    --verbose\n",
    "\n",
    "pr_continue()"
   ]
  },
  {
   "cell_type": "markdown",
   "id": "51387223-3db0-43a9-8ff1-2a927779a895",
   "metadata": {
    "editable": true,
    "slideshow": {
     "slide_type": ""
    },
    "tags": []
   },
   "source": [
    "### Step 2: Access Granted Credential with I2I Edge & Rule\n",
    "\n",
    "The Employee, now holding the \"Role Credential\", issues the \"Access Credential\" to the Sub-contractor. This new credential will link to the Manager Credential via an `I2I` edge and include a \"Usage Disclaimer\" rule."
   ]
  },
  {
   "cell_type": "markdown",
   "id": "c6f6f231-7acd-4edc-846e-de981debcda6",
   "metadata": {
    "editable": true,
    "slideshow": {
     "slide_type": ""
    },
    "tags": []
   },
   "source": [
    "**Employee Defines Access Granted Credential Data (with Edge and Rule)**\n",
    "\n",
    "Create a JSON file `access_cred_data.json`. This file will contain the attributes for the access pass, the edge (e) pointing to the Employee's `role_credential_said`, and the rule (`r`)."
   ]
  },
  {
   "cell_type": "code",
   "execution_count": null,
   "id": "b1886331-3403-4f7a-af1d-db730599d236",
   "metadata": {
    "editable": true,
    "slideshow": {
     "slide_type": ""
    },
    "tags": []
   },
   "outputs": [],
   "source": [
    "access_cred_data_file_path = \"config/credential_data/access_cred_data.json\"\n",
    "\n",
    "access_data = {\n",
    "    \"buildingId\": \"HQ-EastWing\", \n",
    "    \"accessLevel\": \"Level 2 - Common Areas & Labs\" \n",
    "}\n",
    "\n",
    "with open(access_cred_data_file_path, 'w') as f:\n",
    "    json.dump(access_data, f, indent=4)\n",
    "\n",
    "!cat {access_cred_data_file_path} | jq\n"
   ]
  },
  {
   "cell_type": "code",
   "execution_count": null,
   "id": "783cdb4c-fd4f-402a-b6c0-ba653c935d32",
   "metadata": {
    "editable": true,
    "slideshow": {
     "slide_type": ""
    },
    "tags": []
   },
   "outputs": [],
   "source": [
    "access_cred_edge_file_path = \"config/credential_data/access_cred_edge.json\"\n",
    "\n",
    "access_edge = {\n",
    "    \"d\": \"\",\n",
    "    \"manager_endorsement\": {\n",
    "        \"n\": role_credential_said,\n",
    "        \"s\": role_schema_said,\n",
    "        \"o\": \"I2I\"\n",
    "    }\n",
    "}\n",
    "\n",
    "with open(access_cred_edge_file_path, 'w') as f:\n",
    "    json.dump(access_edge, f, indent=4)\n",
    "\n",
    "!kli saidify --file {access_cred_edge_file_path}\n",
    "\n",
    "!cat {access_cred_edge_file_path} | jq\n"
   ]
  },
  {
   "cell_type": "code",
   "execution_count": null,
   "id": "51bff18d-0866-4b56-882e-95ff550cf74b",
   "metadata": {
    "editable": true,
    "slideshow": {
     "slide_type": ""
    },
    "tags": []
   },
   "outputs": [],
   "source": [
    "access_cred_rule_file_path = \"config/credential_data/access_cred_rule.json\"\n",
    "\n",
    "access_rule = {\n",
    "  \"d\": \"\",\n",
    "  \"usageDisclaimer\": {\n",
    "    \"l\": \"This mock credential grants no actual access. For illustrative use only.\"\n",
    "  }\n",
    "}\n",
    "\n",
    "with open(access_cred_rule_file_path, 'w') as f:\n",
    "    json.dump(access_rule, f, indent=4)\n",
    "\n",
    "!kli saidify --file {access_cred_rule_file_path}\n",
    "\n",
    "!cat {access_cred_rule_file_path} | jq\n"
   ]
  },
  {
   "cell_type": "code",
   "execution_count": null,
   "id": "b9e3a9a8-56db-4afe-bbbd-2aa96afcc60f",
   "metadata": {
    "editable": true,
    "slideshow": {
     "slide_type": ""
    },
    "tags": []
   },
   "outputs": [],
   "source": []
  },
  {
   "cell_type": "code",
   "execution_count": null,
   "id": "2b91de93-f655-480e-b068-a578fadc7b23",
   "metadata": {
    "editable": true,
    "slideshow": {
     "slide_type": ""
    },
    "tags": []
   },
   "outputs": [],
   "source": [
    "time = exec(\"kli time\")\n",
    "!kli vc create --name {employee_keystore_name} \\\n",
    "    --alias {employee_aid_alias} \\\n",
    "    --registry-name {employee_registry_name} \\\n",
    "    --schema {access_schema_said} \\\n",
    "    --recipient {subcontractor_aid_alias} \\\n",
    "    --data  \"@./config/credential_data/access_cred_data.json\" \\\n",
    "    --edges \"@./config/credential_data/access_cred_edge.json\" \\\n",
    "    --rules \"@./config/credential_data/access_cred_rule.json\" \\\n",
    "    --time {time}\n",
    "\n",
    "\n"
   ]
  },
  {
   "cell_type": "code",
   "execution_count": null,
   "id": "f9f7ff35-fb47-43ae-8bc4-70a7a93d686f",
   "metadata": {
    "editable": true,
    "slideshow": {
     "slide_type": ""
    },
    "tags": []
   },
   "outputs": [],
   "source": []
  },
  {
   "cell_type": "code",
   "execution_count": null,
   "id": "99c5ec5a-a767-4c97-989c-9395537a4ae1",
   "metadata": {},
   "outputs": [],
   "source": []
  },
  {
   "cell_type": "code",
   "execution_count": null,
   "id": "0944fcf5-0432-4a60-acd7-06c0e649969b",
   "metadata": {},
   "outputs": [],
   "source": []
  },
  {
   "cell_type": "code",
   "execution_count": null,
   "id": "c64a8b44-e505-4317-a7d8-f8df3a4f6578",
   "metadata": {},
   "outputs": [],
   "source": []
  },
  {
   "cell_type": "code",
   "execution_count": null,
   "id": "35295f08-ff98-4641-9b65-ab6674f8dfd9",
   "metadata": {},
   "outputs": [],
   "source": [
    "\n",
    "\n"
   ]
  },
  {
   "cell_type": "markdown",
   "id": "1a9a6861-4fe8-492b-9b46-615d85233753",
   "metadata": {
    "editable": true,
    "slideshow": {
     "slide_type": ""
    },
    "tags": []
   },
   "source": [
    "<div class=\"alert alert-primary\">\n",
    "  <b>📝 SUMMARY</b><hr>\n",
    "  \n",
    "</div>"
   ]
  },
  {
   "cell_type": "code",
   "execution_count": null,
   "id": "0e973099-49ae-42dc-8071-edf8612e269e",
   "metadata": {
    "editable": true,
    "slideshow": {
     "slide_type": ""
    },
    "tags": []
   },
   "outputs": [],
   "source": [
    "# from scripts.saidify import process_schema_file\n",
    "\n",
    "# # def process_schema_file(input_filepath: str, output_filepath: str, indent_output: bool = True):\n",
    "# process_schema_file(\"config/schemas/role_schema.bak.json\", \"config/schemas/role_schema.json\")\n",
    "\n",
    "# process_schema_file(\"config/schemas/access_schema.bak.json\", \"config/schemas/access_schema.json\")\n",
    "\n"
   ]
  },
  {
   "cell_type": "code",
   "execution_count": null,
   "id": "5bcdd567-7878-466e-9b0d-93fcd30a5204",
   "metadata": {
    "editable": true,
    "slideshow": {
     "slide_type": ""
    },
    "tags": []
   },
   "outputs": [],
   "source": []
  }
 ],
 "metadata": {
  "kernelspec": {
   "display_name": "Python 3 (ipykernel)",
   "language": "python",
   "name": "python3"
  },
  "language_info": {
   "codemirror_mode": {
    "name": "ipython",
    "version": 3
   },
   "file_extension": ".py",
   "mimetype": "text/x-python",
   "name": "python",
   "nbconvert_exporter": "python",
   "pygments_lexer": "ipython3",
   "version": "3.12.9"
  },
  "toc": {
   "base_numbering": 0
  }
 },
 "nbformat": 4,
 "nbformat_minor": 5
}
