{
 "cells": [
  {
   "cell_type": "markdown",
   "id": "18b19cae-d421-4312-a89f-4f62a040b622",
   "metadata": {
    "editable": false,
    "slideshow": {
     "slide_type": ""
    },
    "tags": []
   },
   "source": [
    "# Welcome to vLEI Training - 101\n",
    "\n",
    "This collection of Notebooks is designed to guide you through the foundational concepts of the Key Event Receipt Infrastructure (KERI) and Authentic Chained Data Containers (ACDC) protocols, followed by the workings of the verifiable Legal Entity Identifier (vLEI) ecosystem. We aim to equip you with the knowledge needed to build applications leveraging this powerful identity technology.\n",
    "\n",
    "After completing this training, you will:\n",
    "- Understand the KERI protocol\n",
    "- Understand the ACDC protocol\n",
    "- Understand the vLEI ecosystem\n",
    "- Have the basis to develop your own vLEI POC\n"
   ]
  },
  {
   "cell_type": "markdown",
   "id": "2d858579-34a6-4eed-95e6-8305be0cee6e",
   "metadata": {
    "editable": false,
    "slideshow": {
     "slide_type": ""
    },
    "tags": []
   },
   "source": [
    "## Prerequisites\n",
    "\n",
    "The training aims to be accessible, but having background knowledge will certainly smooth your learning journey.\n",
    "\n",
    "1.  **Command-Line Interface (CLI) Familiarity:** The training will involve using the KERI Command Line Interface (KLI). Therefore, having prior experience working with a terminal or command prompt (like Bash, Zsh, PowerShell, or Windows CMD) is highly beneficial. \n",
    "\n",
    "2.  **Conceptual Understanding of Digital Identity:** A general awareness of digital identity concepts and some understanding of the limitations of traditional systems will provide useful context for understanding KERI's purpose.\n",
    "\n",
    "3.  **Basic Cryptography Concepts:** Having a basic understanding of what public and private keys are and the general idea behind digital signatures and hash functions will give you a head start.\n",
    "\n",
    "5.  **Python Programming:** Eventually, the training will involve Python scripting. Knowledge of Python will be helpful at that stage.\n",
    "\n",
    "6.  **Docker Basics:** For setting up and troubleshooting more complex KERI environments or running components like witnesses or agents, a basic understanding of Docker concepts (containers, images, `docker-compose`) will be useful."
   ]
  },
  {
   "cell_type": "markdown",
   "id": "cc2d7f23-cd8e-41ee-bd67-10bc061987b9",
   "metadata": {
    "editable": false,
    "slideshow": {
     "slide_type": ""
    },
    "tags": []
   },
   "source": [
    "## Versions\n",
    "\n",
    "This material was created and tested to work with:\n",
    "\n",
    "- **Keripy v1.2.6**"
   ]
  },
  {
   "cell_type": "markdown",
   "id": "d490a930-6b70-4d84-8362-d7fd6c2a1cbc",
   "metadata": {
    "editable": false,
    "slideshow": {
     "slide_type": ""
    },
    "tags": []
   },
   "source": [
    "<div class=\"alert alert-info\">\n",
    "  <b>🧩 DID YOU KNOW?</b><hr>\n",
    "KERI, ACDC, and the vLEI ecosystem offer a strong foundation for secure digital interactions. However, achieving truly strong security requires additional effort. Real-world safety depends on proper implementation and security practices. Even the best technology can be weakened by things like losing control of private keys, or people being tricked into giving away their access (social engineering). Achieving real security is about combining strong technology with sound operational security measures.\n",
    "</div>\n",
    "\n"
   ]
  }
 ],
 "metadata": {
  "kernelspec": {
   "display_name": "Python 3 (ipykernel)",
   "language": "python",
   "name": "python3"
  },
  "language_info": {
   "codemirror_mode": {
    "name": "ipython",
    "version": 3
   },
   "file_extension": ".py",
   "mimetype": "text/x-python",
   "name": "python",
   "nbconvert_exporter": "python",
   "pygments_lexer": "ipython3",
   "version": "3.12.9"
  }
 },
 "nbformat": 4,
 "nbformat_minor": 5
}
