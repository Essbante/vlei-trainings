{
 "cells": [
  {
   "cell_type": "markdown",
   "id": "5e82bf9d-d383-435b-8f79-6177d438a930",
   "metadata": {},
   "source": [
    "# KLI Operations: Creating and Managing Delegated AIDs "
   ]
  },
  {
   "cell_type": "markdown",
   "id": "8e19bfe8-e130-4621-87c9-d26a5595bc86",
   "metadata": {},
   "source": [
    "<div class=\"alert alert-primary\">\n",
    "<b>🎯 OBJECTIVE</b><hr>\n",
    "Understand the concept of KERI delegation, where one Autonomic Identifier (AID), the delegator, grants specific authority to another AID, the delegate. This notebook demonstrates how to create and manage delegated AIDs using the KERI Command Line Interface (KLI), covering:\n",
    "<ul>\n",
    "<li>The two-step cooperative process of delegated inception.</li>\n",
    "<li>Performing delegated key rotation.</li>\n",
    "<li>Examining the Key Event Logs (KELs) of both the delegator and the delegate to understand how the delegation is anchored and verified."
   ]
  },
  {
   "cell_type": "markdown",
   "id": "7735f798-3050-4e62-a202-4fe496e146e2",
   "metadata": {},
   "source": [
    "## Introduction to Delegated AIDs\n",
    "\n",
    "In KERI, delegation is a powerful mechanism that allows one AID (the delegator) to authorize another AID (the delegate) to perform certain actions or represent specific authorities. This is achieved through a cooperative cryptographic process where both parties participate in establishing the relationship. \n",
    "\n",
    "Key aspects of KERI delegation include:\n",
    "\n",
    "- Cooperative Establishment: The creation (inception) and subsequent management (e.g., rotation) of a delegated AID requires actions from both the delegate (initiating the request) and the delegator (confirming and anchoring the event). \n",
    "- Cryptographic Binding: The delegated AID's prefix is a self-addressing identifier (SAID) derived from its own delegated inception event.  This inception event, in turn, includes the delegator's AID, creating a cryptographic link.\n",
    "- Anchoring: The delegator anchors the delegation by including a \"delegated event seal\" in one of its own key events.  This seal contains the delegate's AID, the sequence number of the delegated event, and a digest of that delegated event. \n",
    "- Delegated Authority: The delegator typically retains ultimate establishment control authority, while the delegate might be authorized for specific non-establishment events or further, limited delegations. \n",
    "- Hierarchical Structures: Delegation can be applied recursively, enabling the creation of complex hierarchical key management structures. \n",
    "\n",
    "This notebook will walk through the KLI commands to perform delegated inception and delegated rotation, illustrating how these concepts are put into practice."
   ]
  },
  {
   "cell_type": "markdown",
   "id": "2035cd00-e8df-41c4-b379-21700bfd3efd",
   "metadata": {},
   "source": [
    "## Setup\n",
    "\n",
    "First, we'll set up the necessary keystores and a primary AID for the delegator. We will also initialize a keystore for the delegate. For simplicity in this notebook, passcodes for keystores are omitted using the `--nopasscode` flag.\n",
    "\n",
    "The `keystore_init_config.json` file is used to pre-configure the keystores with witness information."
   ]
  },
  {
   "cell_type": "code",
   "execution_count": 1,
   "id": "c388614b-b3e1-4fb8-83ad-0b9d611c9147",
   "metadata": {
    "scrolled": true
   },
   "outputs": [
    {
     "name": "stdout",
     "output_type": "stream",
     "text": [
      "Proceeding with deletion of '/usr/local/var/keri/' without confirmation.\n",
      "✅ Successfully removed: /usr/local/var/keri/\n",
      "KERI Keystore created at: /usr/local/var/keri/ks/delegate_keystore\n",
      "KERI Database created at: /usr/local/var/keri/db/delegate_keystore\n",
      "KERI Credential Store created at: /usr/local/var/keri/reg/delegate_keystore\n",
      "\n",
      "Loading 3 OOBIs...\n",
      "http://witness-demo:5642/oobi/BBilc4-L3tFUnfM_wJr4S4OJanAv_VmF_dJNN6vkf2Ha/controller?name=Wan&tag=witness succeeded\n",
      "http://witness-demo:5643/oobi/BLskRTInXnMxWaGqcpSyMgo0nYbalW99cGZESrz3zapM/controller?name=Wes&tag=witness succeeded\n",
      "http://witness-demo:5644/oobi/BIKKuvBwpmDVA4Ds-EpL5bt9OqPzWPja2LigFYZN2YfX/controller?name=Wil&tag=witness succeeded\n",
      "KERI Keystore created at: /usr/local/var/keri/ks/delegator_keystore\n",
      "KERI Database created at: /usr/local/var/keri/db/delegator_keystore\n",
      "KERI Credential Store created at: /usr/local/var/keri/reg/delegator_keystore\n",
      "\n",
      "Loading 3 OOBIs...\n",
      "http://witness-demo:5642/oobi/BBilc4-L3tFUnfM_wJr4S4OJanAv_VmF_dJNN6vkf2Ha/controller?name=Wan&tag=witness succeeded\n",
      "http://witness-demo:5643/oobi/BLskRTInXnMxWaGqcpSyMgo0nYbalW99cGZESrz3zapM/controller?name=Wes&tag=witness succeeded\n",
      "http://witness-demo:5644/oobi/BIKKuvBwpmDVA4Ds-EpL5bt9OqPzWPja2LigFYZN2YfX/controller?name=Wil&tag=witness succeeded\n",
      "Waiting for witness receipts...\n",
      "Prefix  EGWzXjf97Gsd4GpsKJrhBedQX2tUHYEiFjnz0uZInga2\n",
      "\tPublic key 1:  DI8BvaestpKKhrBhyKmQs0iwDdlJSEgkBEIuCbVrlK3H\n",
      "\n",
      "http://witness-demo:5642/oobi/EGWzXjf97Gsd4GpsKJrhBedQX2tUHYEiFjnz0uZInga2/witness resolved\n",
      "You can continue ✅\n"
     ]
    }
   ],
   "source": [
    "# Imports and Utility functions\n",
    "from scripts.utils import exec\n",
    "from scripts.utils import exec_bg\n",
    "from scripts.utils import clear_keri\n",
    "clear_keri()\n",
    "\n",
    "# Delegate Keystore\n",
    "\n",
    "delegate_keystore=\"delegate_keystore\"\n",
    "delegate_salt= exec(\"kli salt\")\n",
    "\n",
    "!kli init --name {delegate_keystore} \\\n",
    "    --nopasscode \\\n",
    "    --salt {delegate_salt} \\\n",
    "    --config-dir ./config \\\n",
    "    --config-file keystore_init_config.json\n",
    "\n",
    "# Delegator Keystore\n",
    "\n",
    "delegator_keystore=\"delegator_keystore\"\n",
    "delegator_salt=exec(\"kli salt\")\n",
    "\n",
    "!kli init --name {delegator_keystore} \\\n",
    "    --nopasscode \\\n",
    "    --salt {delegator_salt} \\\n",
    "    --config-dir ./config \\\n",
    "    --config-file keystore_init_config.json\n",
    "\n",
    "# Delegator AID\n",
    "\n",
    "delegator_alias = \"delegator_alias\"\n",
    "\n",
    "!kli incept --name {delegator_keystore} \\\n",
    "    --alias {delegator_alias} \\\n",
    "    --icount 1 \\\n",
    "    --isith 1 \\\n",
    "    --ncount 1 \\\n",
    "    --nsith 1 \\\n",
    "    --wits BBilc4-L3tFUnfM_wJr4S4OJanAv_VmF_dJNN6vkf2Ha \\\n",
    "    --wits BLskRTInXnMxWaGqcpSyMgo0nYbalW99cGZESrz3zapM \\\n",
    "    --wits BIKKuvBwpmDVA4Ds-EpL5bt9OqPzWPja2LigFYZN2YfX \\\n",
    "    --toad 2 \\\n",
    "    --transferable\n",
    "\n",
    "# OOBI Exchange\n",
    "# Delegator generates an OOBI for its AID\n",
    "delegator_oobi = exec(f\"kli oobi generate --name {delegator_keystore} --alias {delegator_alias} --role witness\")\n",
    "\n",
    "# Delegate's keystore resolves the Delegator's OOBI\n",
    "!kli oobi resolve --name {delegate_keystore} \\\n",
    "    --oobi-alias {delegator_alias} \\\n",
    "    --oobi {delegator_oobi}\n",
    "\n",
    "print(\"You can continue ✅\")"
   ]
  },
  {
   "cell_type": "markdown",
   "id": "7a632214-0a08-40c7-96ac-524239616378",
   "metadata": {},
   "source": [
    "## Delegation\n",
    "Delegation in KERI is a multi-step process involving both the entity wishing to become a delegate and the entity granting the delegation (the delegator).\n",
    "\n",
    "### Proxy AID Inception (Delegate-Side Initiator)\n",
    "The delegate first needs an AID that can initiate the delegation request. This \"proxy\" AID is a regular AID within the delegate's keystore. It will be used to manage the unpublished keys of the new delegated AID until the delegator confirms the delegation."
   ]
  },
  {
   "cell_type": "code",
   "execution_count": 2,
   "id": "de48173d-98b5-460a-af09-814ed8debdeb",
   "metadata": {
    "scrolled": true
   },
   "outputs": [
    {
     "name": "stdout",
     "output_type": "stream",
     "text": [
      "Waiting for witness receipts...\n",
      "Prefix  ELCI7FsajRdC6XZaU5jG1JJrBtBzWc2ceoGFjukhMuDf\n",
      "\tPublic key 1:  DGSbV25KGc2EB6YDEfyl02nl9rf7qeLXQPq1jqIsZ5Ux\n",
      "\n"
     ]
    }
   ],
   "source": [
    "# Delegate proxy\n",
    "# This AID is in the delegate's keystore and is used to initiate the delegation request.\n",
    "\n",
    "delegate_proxy_alias = \"delegate_proxy_alias\"\n",
    "!kli incept --name delegate_keystore \\\n",
    "    --alias delegate_proxy_alias \\\n",
    "    --icount 1 \\\n",
    "    --isith 1 \\\n",
    "    --ncount 1 \\\n",
    "    --nsith 1 \\\n",
    "    --wits BBilc4-L3tFUnfM_wJr4S4OJanAv_VmF_dJNN6vkf2Ha \\\n",
    "    --wits BLskRTInXnMxWaGqcpSyMgo0nYbalW99cGZESrz3zapM \\\n",
    "    --wits BIKKuvBwpmDVA4Ds-EpL5bt9OqPzWPja2LigFYZN2YfX \\\n",
    "    --toad 2 \\\n",
    "    --transferable"
   ]
  },
  {
   "cell_type": "markdown",
   "id": "a6244348-a99d-426f-9f6d-7dd6844e7bf0",
   "metadata": {},
   "source": [
    "### Delegated Inception\n",
    "\n",
    "Now, the delegate uses its proxy AID to request the inception of a new, delegated AID.\n",
    "\n",
    "- `--name` and `--alias`: Define the keystore and the alias for the new delegated AID being created.\n",
    "- `--delpre`: Specifies the prefix of the AID that will be delegating authority.\n",
    "- `--proxy`: Specifies the alias of the AID within the `delegate_keystore` that is making the request and will temporarily manage the keys for `delegate_alias`.\n",
    "\n",
    "The `kli incept --delpre` command will initiate the process and then wait for the delegator to confirm. We run this in the background (`exec_bg`) because it will pause."
   ]
  },
  {
   "cell_type": "code",
   "execution_count": 3,
   "id": "dbcd2a93-7083-4930-ae36-b87e5e74af9d",
   "metadata": {
    "scrolled": true
   },
   "outputs": [
    {
     "name": "stdout",
     "output_type": "stream",
     "text": [
      "Delegator prefix: EGWzXjf97Gsd4GpsKJrhBedQX2tUHYEiFjnz0uZInga2\n",
      "Starting command in background: \n",
      "kli incept --name delegate_keystore     --alias delegate_alias     --icount 1     --isith 1     --ncount 1     --nsith 1     --wits BBilc4-L3tFUnfM_wJr4S4OJanAv_VmF_dJNN6vkf2Ha     --toad 1     --transferable     --delpre EGWzXjf97Gsd4GpsKJrhBedQX2tUHYEiFjnz0uZInga2     --proxy delegate_proxy_alias > ./logs/delegate_incept.log\n",
      "\n",
      "Command '\n",
      "kli incept --name delegate_keystore     --alias delegate_alias     --icount 1     --isith 1     --ncount 1     --nsith 1     --wits BBilc4-L3tFUnfM_wJr4S4OJanAv_VmF_dJNN6vkf2Ha     --toad 1     --transferable     --delpre EGWzXjf97Gsd4GpsKJrhBedQX2tUHYEiFjnz0uZInga2     --proxy delegate_proxy_alias > ./logs/delegate_incept.log\n",
      "' started with PID: 9420\n"
     ]
    },
    {
     "data": {
      "text/plain": [
       "<Popen: returncode: None args: '\\nkli incept --name delegate_keystore     --...>"
      ]
     },
     "execution_count": 3,
     "metadata": {},
     "output_type": "execute_result"
    }
   ],
   "source": [
    "# Incept delegate. Note --delpre and --proxy parameters\n",
    "\n",
    "delegator_pre = exec(f\"kli aid --name {delegator_keystore} --alias {delegator_alias}\")\n",
    "print(\"Delegator prefix: \" + delegator_pre)\n",
    "\n",
    "delegate_alias = \"delegate_alias\"\n",
    "\n",
    "# The command runs in the background since it waits for the delegator's confirmation\n",
    "# exec_bg (execute in background) does that. Output is sent to a log file. \n",
    "# This pattern of exec_bg is repeated throughout the notebook \n",
    "command = f\"\"\"\n",
    "kli incept --name {delegate_keystore} \\\n",
    "    --alias {delegate_alias} \\\n",
    "    --icount 1 \\\n",
    "    --isith 1 \\\n",
    "    --ncount 1 \\\n",
    "    --nsith 1 \\\n",
    "    --wits BBilc4-L3tFUnfM_wJr4S4OJanAv_VmF_dJNN6vkf2Ha \\\n",
    "    --toad 1 \\\n",
    "    --transferable \\\n",
    "    --delpre {delegator_pre} \\\n",
    "    --proxy {delegate_proxy_alias} > ./logs/delegate_incept.log\n",
    "\"\"\"\n",
    "\n",
    "exec_bg(command)"
   ]
  },
  {
   "cell_type": "markdown",
   "id": "c12a744c-e6e1-46f6-a89e-13bf3bcfd56e",
   "metadata": {},
   "source": [
    "The delegator now needs to confirm the delegation request. The `kli delegate confirm` command checks for pending delegation requests for the specified delegator AID and, if `--auto` is used, automatically approves them. This action creates an event in the delegator's KEL that anchors the delegate's inception event. "
   ]
  },
  {
   "cell_type": "code",
   "execution_count": 4,
   "id": "1f56a010-28d1-463f-8002-64c2446d028c",
   "metadata": {
    "scrolled": true
   },
   "outputs": [
    {
     "data": {
      "text/plain": [
       "['Delegagtor Prefix  EGWzXjf97Gsd4GpsKJrhBedQX2tUHYEiFjnz0uZInga2',\n",
       " 'Delegate EFTxEMtNvMI_YyQxyWWzlw4BnRBTw15Vc642ZeF5zB_o inception Anchored at Seq. No.  1',\n",
       " 'Delegate EFTxEMtNvMI_YyQxyWWzlw4BnRBTw15Vc642ZeF5zB_o inception event committed.']"
      ]
     },
     "execution_count": 4,
     "metadata": {},
     "output_type": "execute_result"
    }
   ],
   "source": [
    "# Delegator confirmation\n",
    "command = f\"\"\"\n",
    "kli delegate confirm --name {delegator_keystore} \\\n",
    "    --alias {delegator_alias} \\\n",
    "    --auto\n",
    "\"\"\"\n",
    "\n",
    "exec(command, True)"
   ]
  },
  {
   "cell_type": "markdown",
   "id": "eaced91f-8d90-4d39-b264-c4a35b487d47",
   "metadata": {},
   "source": [
    "Now, let's examine the status of the newly created delegated AID."
   ]
  },
  {
   "cell_type": "code",
   "execution_count": 5,
   "id": "a1a93d06-f30f-45ea-9ab8-a75f2e94ff5c",
   "metadata": {
    "scrolled": true
   },
   "outputs": [
    {
     "name": "stdout",
     "output_type": "stream",
     "text": [
      "Alias: \tdelegate_alias\n",
      "Identifier: EFTxEMtNvMI_YyQxyWWzlw4BnRBTw15Vc642ZeF5zB_o\n",
      "Seq No:\t0\n",
      "Delegated Identifier\n",
      "    Delegator:  EGWzXjf97Gsd4GpsKJrhBedQX2tUHYEiFjnz0uZInga2 \u001b[92m✔ Anchored\u001b[0m\n",
      "\n",
      "\n",
      "Witnesses:\n",
      "Count:\t\t1\n",
      "Receipts:\t1\n",
      "Threshold:\t1\n",
      "\n",
      "Public Keys:\t\n",
      "\t1. DF_sSveBbsecc2LbKpyFdInRKXOF9eqozJScHOT6jw1W\n",
      "\n",
      "\n",
      "Witnesses:\t\n",
      "\t1. BBilc4-L3tFUnfM_wJr4S4OJanAv_VmF_dJNN6vkf2Ha\n",
      "\n",
      "{\n",
      " \"v\": \"KERI10JSON00018d_\",\n",
      " \"t\": \"dip\",\n",
      " \"d\": \"EFTxEMtNvMI_YyQxyWWzlw4BnRBTw15Vc642ZeF5zB_o\",\n",
      " \"i\": \"EFTxEMtNvMI_YyQxyWWzlw4BnRBTw15Vc642ZeF5zB_o\",\n",
      " \"s\": \"0\",\n",
      " \"kt\": \"1\",\n",
      " \"k\": [\n",
      "  \"DF_sSveBbsecc2LbKpyFdInRKXOF9eqozJScHOT6jw1W\"\n",
      " ],\n",
      " \"nt\": \"1\",\n",
      " \"n\": [\n",
      "  \"EPxq1hlZuXaxWh1S9Xph6zicuLqdJbpNTOnKeDd-s9FA\"\n",
      " ],\n",
      " \"bt\": \"1\",\n",
      " \"b\": [\n",
      "  \"BBilc4-L3tFUnfM_wJr4S4OJanAv_VmF_dJNN6vkf2Ha\"\n",
      " ],\n",
      " \"c\": [],\n",
      " \"a\": [],\n",
      " \"di\": \"EGWzXjf97Gsd4GpsKJrhBedQX2tUHYEiFjnz0uZInga2\"\n",
      "}\n",
      "\n"
     ]
    }
   ],
   "source": [
    "!kli status --name delegate_keystore --alias delegate_alias --verbose"
   ]
  },
  {
   "cell_type": "markdown",
   "id": "7a0e94cb-f403-4565-912f-85bc27a0a045",
   "metadata": {},
   "source": [
    "Key observations from the delegate's status:\n",
    "\n",
    "- `Delegated Identifier`: This line confirms it's a delegated AID.\n",
    "- `Delegator: EOM65UjF76I0Vhy0vV0t0oQgE0D9c_YjJ3wGk3gZlQvL ✔ Anchored`: This shows the delegator's prefix and confirms that the delegation has been successfully anchored in the delegator's KEL.\n",
    "- In the JSON event data:\n",
    "  - `\"t\": \"dip\"`: This signifies a Delegated Inception Event. This is the establishment event for the delegated AID.\n",
    "  - `\"di\"`: This field contains the prefix of the Delegator AID. It cryptographically links this delegated AID back to its delegator.\n",
    "\n",
    "The prefix of a delegated AID is a SAID of its own `dip` event, which includes the delegator's AID. This creates the strong cryptographic binding characteristic of KERI delegation. "
   ]
  },
  {
   "cell_type": "markdown",
   "id": "4dc2d9e4-d972-4ac0-84cc-267c085d01fb",
   "metadata": {},
   "source": [
    "## Delegated rotation\n",
    "\n",
    "Rotating the keys of a delegated AID also follows a cooperative, two-step process, similar to its inception. The delegate initiates the rotation, and the delegator must confirm it.\n",
    "\n",
    "The delegate uses `kli rotate` with the`--proxy` parameter. This command is run in the background as it waits for the delegator's confirmation."
   ]
  },
  {
   "cell_type": "code",
   "execution_count": 6,
   "id": "8f235463-df4e-4a93-b3e5-0c635072a8b8",
   "metadata": {
    "scrolled": true
   },
   "outputs": [
    {
     "name": "stdout",
     "output_type": "stream",
     "text": [
      "Starting command in background: \n",
      "kli rotate --name delegate_keystore     --alias delegate_alias     --proxy delegate_proxy_alias > ./logs/rotate.log\n",
      "\n",
      "Command '\n",
      "kli rotate --name delegate_keystore     --alias delegate_alias     --proxy delegate_proxy_alias > ./logs/rotate.log\n",
      "' started with PID: 9430\n"
     ]
    },
    {
     "data": {
      "text/plain": [
       "<Popen: returncode: None args: '\\nkli rotate --name delegate_keystore     --...>"
      ]
     },
     "execution_count": 6,
     "metadata": {},
     "output_type": "execute_result"
    }
   ],
   "source": [
    "command = f\"\"\"\n",
    "kli rotate --name {delegate_keystore} \\\n",
    "    --alias {delegate_alias} \\\n",
    "    --proxy {delegate_proxy_alias} > ./logs/rotate.log\n",
    "\"\"\"\n",
    "\n",
    "exec_bg(command)"
   ]
  },
  {
   "cell_type": "markdown",
   "id": "018f7ede-c9e0-4c10-92f5-8fa5a998ea79",
   "metadata": {},
   "source": [
    "The delegator confirms the delegated rotation. This action creates a new anchoring event in the delegator's KEL for the delegate's rotation."
   ]
  },
  {
   "cell_type": "code",
   "execution_count": 7,
   "id": "a3377499-a5ca-4ade-84d0-67b61e13d5e5",
   "metadata": {
    "scrolled": true
   },
   "outputs": [
    {
     "data": {
      "text/plain": [
       "['Delegagtor Prefix  EGWzXjf97Gsd4GpsKJrhBedQX2tUHYEiFjnz0uZInga2',\n",
       " 'Delegate EFTxEMtNvMI_YyQxyWWzlw4BnRBTw15Vc642ZeF5zB_o rotation Anchored at Seq. No.  2',\n",
       " 'Delegate EFTxEMtNvMI_YyQxyWWzlw4BnRBTw15Vc642ZeF5zB_o rotation event committed.']"
      ]
     },
     "execution_count": 7,
     "metadata": {},
     "output_type": "execute_result"
    }
   ],
   "source": [
    "command = f\"\"\"\n",
    "kli delegate confirm --name {delegator_keystore} \\\n",
    "    --alias {delegator_alias} \\\n",
    "    --auto\n",
    "\"\"\"\n",
    "\n",
    "exec(command, True)"
   ]
  },
  {
   "cell_type": "markdown",
   "id": "192fd9e2-a7ee-43bc-888b-68a3fef29c49",
   "metadata": {},
   "source": [
    "Now, let's examine the status of the delegate AID after the rotation."
   ]
  },
  {
   "cell_type": "code",
   "execution_count": 8,
   "id": "adab9a39-0655-4331-a1fb-bb3cfcd4f9b0",
   "metadata": {
    "scrolled": true
   },
   "outputs": [
    {
     "name": "stdout",
     "output_type": "stream",
     "text": [
      "Alias: \tdelegate_alias\n",
      "Identifier: EFTxEMtNvMI_YyQxyWWzlw4BnRBTw15Vc642ZeF5zB_o\n",
      "Seq No:\t1\n",
      "Delegated Identifier\n",
      "    Delegator:  EGWzXjf97Gsd4GpsKJrhBedQX2tUHYEiFjnz0uZInga2 \u001b[92m✔ Anchored\u001b[0m\n",
      "\n",
      "\n",
      "Witnesses:\n",
      "Count:\t\t1\n",
      "Receipts:\t1\n",
      "Threshold:\t1\n",
      "\n",
      "Public Keys:\t\n",
      "\t1. DEbF3F3EZ3R1tA8fThsuFvtKhLNdeEDCzsJmbwxmvIqw\n",
      "\n",
      "\n",
      "Witnesses:\t\n",
      "\t1. BBilc4-L3tFUnfM_wJr4S4OJanAv_VmF_dJNN6vkf2Ha\n",
      "\n",
      "{\n",
      " \"v\": \"KERI10JSON00018d_\",\n",
      " \"t\": \"dip\",\n",
      " \"d\": \"EFTxEMtNvMI_YyQxyWWzlw4BnRBTw15Vc642ZeF5zB_o\",\n",
      " \"i\": \"EFTxEMtNvMI_YyQxyWWzlw4BnRBTw15Vc642ZeF5zB_o\",\n",
      " \"s\": \"0\",\n",
      " \"kt\": \"1\",\n",
      " \"k\": [\n",
      "  \"DF_sSveBbsecc2LbKpyFdInRKXOF9eqozJScHOT6jw1W\"\n",
      " ],\n",
      " \"nt\": \"1\",\n",
      " \"n\": [\n",
      "  \"EPxq1hlZuXaxWh1S9Xph6zicuLqdJbpNTOnKeDd-s9FA\"\n",
      " ],\n",
      " \"bt\": \"1\",\n",
      " \"b\": [\n",
      "  \"BBilc4-L3tFUnfM_wJr4S4OJanAv_VmF_dJNN6vkf2Ha\"\n",
      " ],\n",
      " \"c\": [],\n",
      " \"a\": [],\n",
      " \"di\": \"EGWzXjf97Gsd4GpsKJrhBedQX2tUHYEiFjnz0uZInga2\"\n",
      "}\n",
      "\n",
      "{\n",
      " \"v\": \"KERI10JSON000160_\",\n",
      " \"t\": \"drt\",\n",
      " \"d\": \"EKZuFEnz8Z_JTTI8TKOzaUAdQNb_i9EpXliwWlI2Jlxz\",\n",
      " \"i\": \"EFTxEMtNvMI_YyQxyWWzlw4BnRBTw15Vc642ZeF5zB_o\",\n",
      " \"s\": \"1\",\n",
      " \"p\": \"EFTxEMtNvMI_YyQxyWWzlw4BnRBTw15Vc642ZeF5zB_o\",\n",
      " \"kt\": \"1\",\n",
      " \"k\": [\n",
      "  \"DEbF3F3EZ3R1tA8fThsuFvtKhLNdeEDCzsJmbwxmvIqw\"\n",
      " ],\n",
      " \"nt\": \"1\",\n",
      " \"n\": [\n",
      "  \"EG6L7pdGKuH3zOLcNx7E-U4DWZvgiPzlwgTzpdSZJ1t0\"\n",
      " ],\n",
      " \"bt\": \"1\",\n",
      " \"br\": [],\n",
      " \"ba\": [],\n",
      " \"a\": []\n",
      "}\n",
      "\n"
     ]
    }
   ],
   "source": [
    "!kli status --name delegate_keystore --alias delegate_alias --verbose"
   ]
  },
  {
   "cell_type": "markdown",
   "id": "ad944307-a2dc-47f4-b7cd-cfe9969ec3aa",
   "metadata": {},
   "source": [
    "Observations from the delegate's KEL after rotation:\n",
    "- `Seq No: 1`: The sequence number has incremented.\n",
    "- A new event has been added to the KEL with `\"t\": \"drt\"`. This signifies a Delegated Rotation Event. It's also an establishment event.\n",
    "- The public keys `k` and next key digest `n` have changed, reflecting the rotation.\n",
    "- The delegate's AID prefix `i` remains the same."
   ]
  },
  {
   "cell_type": "markdown",
   "id": "4f2076f6-7ea4-4083-8720-2469ca3e11a1",
   "metadata": {},
   "source": [
    "## Understanding the Delegator's KEL\n",
    "Let's now examine the delegator's KEL to see how these delegation operations are recorded and anchored."
   ]
  },
  {
   "cell_type": "code",
   "execution_count": 9,
   "id": "2b127701-4781-4be5-aa62-6c799c6c7280",
   "metadata": {
    "scrolled": true
   },
   "outputs": [
    {
     "name": "stdout",
     "output_type": "stream",
     "text": [
      "Alias: \tdelegator_alias\n",
      "Identifier: EGWzXjf97Gsd4GpsKJrhBedQX2tUHYEiFjnz0uZInga2\n",
      "Seq No:\t2\n",
      "\n",
      "Witnesses:\n",
      "Count:\t\t3\n",
      "Receipts:\t3\n",
      "Threshold:\t3\n",
      "\n",
      "Public Keys:\t\n",
      "\t1. DLo30UiXwNiCj9K5kiLpp3RQVj0v3AqC3VBUIhvp0PCO\n",
      "\n",
      "\n",
      "Witnesses:\t\n",
      "\t1. BBilc4-L3tFUnfM_wJr4S4OJanAv_VmF_dJNN6vkf2Ha\n",
      "\t2. BLskRTInXnMxWaGqcpSyMgo0nYbalW99cGZESrz3zapM\n",
      "\t3. BIKKuvBwpmDVA4Ds-EpL5bt9OqPzWPja2LigFYZN2YfX\n",
      "\n",
      "{\n",
      " \"v\": \"KERI10JSON0001b7_\",\n",
      " \"t\": \"icp\",\n",
      " \"d\": \"EGWzXjf97Gsd4GpsKJrhBedQX2tUHYEiFjnz0uZInga2\",\n",
      " \"i\": \"EGWzXjf97Gsd4GpsKJrhBedQX2tUHYEiFjnz0uZInga2\",\n",
      " \"s\": \"0\",\n",
      " \"kt\": \"1\",\n",
      " \"k\": [\n",
      "  \"DI8BvaestpKKhrBhyKmQs0iwDdlJSEgkBEIuCbVrlK3H\"\n",
      " ],\n",
      " \"nt\": \"1\",\n",
      " \"n\": [\n",
      "  \"ECFgRkx3CqHGk5sypK7kGJhdn38Dr9PKl5SSFyTUfKax\"\n",
      " ],\n",
      " \"bt\": \"2\",\n",
      " \"b\": [\n",
      "  \"BBilc4-L3tFUnfM_wJr4S4OJanAv_VmF_dJNN6vkf2Ha\",\n",
      "  \"BLskRTInXnMxWaGqcpSyMgo0nYbalW99cGZESrz3zapM\",\n",
      "  \"BIKKuvBwpmDVA4Ds-EpL5bt9OqPzWPja2LigFYZN2YfX\"\n",
      " ],\n",
      " \"c\": [],\n",
      " \"a\": []\n",
      "}\n",
      "\n",
      "{\n",
      " \"v\": \"KERI10JSON0001cf_\",\n",
      " \"t\": \"rot\",\n",
      " \"d\": \"EFpmGQN_3iAMjqbhJg7ZIkOxsja7MASmnHuPIpxvYDFM\",\n",
      " \"i\": \"EGWzXjf97Gsd4GpsKJrhBedQX2tUHYEiFjnz0uZInga2\",\n",
      " \"s\": \"1\",\n",
      " \"p\": \"EGWzXjf97Gsd4GpsKJrhBedQX2tUHYEiFjnz0uZInga2\",\n",
      " \"kt\": \"1\",\n",
      " \"k\": [\n",
      "  \"DDLF29pG3eTbee2u34mr9kB1u1Wpm_4bPNTyeE6DR77v\"\n",
      " ],\n",
      " \"nt\": \"1\",\n",
      " \"n\": [\n",
      "  \"ENL4pDM96AaEnot2y3X7w9KUinm7dAADZJNA0PMGjUbf\"\n",
      " ],\n",
      " \"bt\": \"3\",\n",
      " \"br\": [],\n",
      " \"ba\": [],\n",
      " \"a\": [\n",
      "  {\n",
      "   \"i\": \"EFTxEMtNvMI_YyQxyWWzlw4BnRBTw15Vc642ZeF5zB_o\",\n",
      "   \"s\": \"0\",\n",
      "   \"d\": \"EFTxEMtNvMI_YyQxyWWzlw4BnRBTw15Vc642ZeF5zB_o\"\n",
      "  }\n",
      " ]\n",
      "}\n",
      "\n",
      "{\n",
      " \"v\": \"KERI10JSON0001cf_\",\n",
      " \"t\": \"rot\",\n",
      " \"d\": \"EHjXRmIiRqMnLsuHuRhebU08D2Sue1b4QUwcOPoRyzhT\",\n",
      " \"i\": \"EGWzXjf97Gsd4GpsKJrhBedQX2tUHYEiFjnz0uZInga2\",\n",
      " \"s\": \"2\",\n",
      " \"p\": \"EFpmGQN_3iAMjqbhJg7ZIkOxsja7MASmnHuPIpxvYDFM\",\n",
      " \"kt\": \"1\",\n",
      " \"k\": [\n",
      "  \"DLo30UiXwNiCj9K5kiLpp3RQVj0v3AqC3VBUIhvp0PCO\"\n",
      " ],\n",
      " \"nt\": \"1\",\n",
      " \"n\": [\n",
      "  \"EA7lr4BYJwDgVlZEmmMeXlYJkqa7W91CLN5cCdK_aK9N\"\n",
      " ],\n",
      " \"bt\": \"3\",\n",
      " \"br\": [],\n",
      " \"ba\": [],\n",
      " \"a\": [\n",
      "  {\n",
      "   \"i\": \"EFTxEMtNvMI_YyQxyWWzlw4BnRBTw15Vc642ZeF5zB_o\",\n",
      "   \"s\": \"1\",\n",
      "   \"d\": \"EKZuFEnz8Z_JTTI8TKOzaUAdQNb_i9EpXliwWlI2Jlxz\"\n",
      "  }\n",
      " ]\n",
      "}\n",
      "\n"
     ]
    }
   ],
   "source": [
    "!kli status --name delegator_keystore --alias delegator_alias --verbose"
   ]
  },
  {
   "cell_type": "markdown",
   "id": "db96479a-6bd0-4607-b1e1-c82c1f8c4dd0",
   "metadata": {},
   "source": [
    "Key observations from the delegator's KEL:\n",
    "\n",
    "- Sequence Number `s: \"1\"` (Rotation Event):\n",
    "    - This event was created when the delegator confirmed the delegated inception.\n",
    "    - The `a` (anchors/payload) array contains a delegated event seal: \n",
    "      - `\"i\"`: The prefix of the delegate AID.\n",
    "      - `\"s\": \"0\"`: The sequence number of the delegate's event being anchored (the `dip` event at sequence 0).\n",
    "      - `\"d\"`: The SAID (digest) of the delegate's `dip` event.\n",
    "- Sequence Number `s: \"2\"` (Rotation Event):\n",
    "  - This event was created when the delegator confirmed the delegated rotation.\n",
    "  - The `a` array contains another delegated event seal:\n",
    "      - `\"i\"`: The prefix of the delegate AID.\n",
    "      - `\"s\": \"1\"`: The sequence number of the delegate's event being anchored (the drt event at sequence 1).\n",
    "      - `\"d\"`: The SAID (digest) of the delegate's drt event.\n",
    "\n",
    "These seals in the delegator's KEL are the cryptographic proof that the delegator authorized the delegate's inception and rotation events.  Conversely, the delegated AID's `dip` event also contains a di field pointing to the delegator, and its establishment events (like `dip` and `drt`) implicitly include a delegating event location seal that refers back to the specific event in the delegator's KEL that authorized them (though not explicitly shown in the simplified `kli status` output for the delegate, this is part of the full event structure).  This creates the verifiable, cooperative link between the two AIDs."
   ]
  },
  {
   "cell_type": "markdown",
   "id": "130c1d84-6e22-4fef-a0e9-b328bec2174b",
   "metadata": {},
   "source": [
    "<div class=\"alert alert-info\">\n",
    "<b>ℹ️ NOTE</b><hr>\n",
    "The security of KERI's cooperative delegation model is robust. To illicitly create or rotate a delegated AID, an attacker would generally need to compromise keys from both the delegator and the delegate (specifically, the delegate's pre-rotated keys and the delegator's current signing keys for the anchoring event).  Furthermore, the delegator has mechanisms to recover or revoke a compromised delegation. \n",
    "</div>"
   ]
  },
  {
   "cell_type": "markdown",
   "id": "04c6a011-8526-47ef-873f-0cccf4c66c14",
   "metadata": {},
   "source": [
    "<div class=\"alert alert-primary\">\n",
    "<b>📝 SUMMARY</b><hr>\n",
    "KERI delegation allows an AID (delegator) to authorize another AID (delegate) for specific purposes. This is a cooperative process requiring actions from both parties.\n",
    "<ul>\n",
    "<li><b>Delegated Inception (<code>dip</code>):</b> The delegate initiates a request (e.g., via a proxy AID). The delegator confirms this by creating an anchoring event in its KEL, which contains a seal pointing to the delegate's <code>dip</code> event. The delegate's <code>dip</code> event includes the delegator's AID in its <code>di</code> field.  The delegate's AID prefix is a SAID of its <code>dip</code> event. </li>\n",
    "<li><b>Delegated Rotation (<code>drt</code>):</b> Similar to inception, the delegate initiates the rotation, and the delegator confirms with another anchoring event in its KEL. The delegate's KEL will show a <code>drt</code> event. </li>\n",
    "<li><b>Anchoring:</b> The delegator's KEL contains seals (AID, sequence number, and digest of the delegate's event) that provide verifiable proof of the authorized delegation.  This creates a strong, bi-directional cryptographic link.</li>\n",
    "<li><b>Security:</b> The cooperative nature enhances security, as unauthorized delegation typically requires compromising keys from both entities. </li>\n",
    "</ul>\n",
    "</div>"
   ]
  }
 ],
 "metadata": {
  "kernelspec": {
   "display_name": "Python 3 (ipykernel)",
   "language": "python",
   "name": "python3"
  },
  "language_info": {
   "codemirror_mode": {
    "name": "ipython",
    "version": 3
   },
   "file_extension": ".py",
   "mimetype": "text/x-python",
   "name": "python",
   "nbconvert_exporter": "python",
   "pygments_lexer": "ipython3",
   "version": "3.12.9"
  }
 },
 "nbformat": 4,
 "nbformat_minor": 5
}
