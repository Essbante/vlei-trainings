{
 "cells": [
  {
   "cell_type": "markdown",
   "id": "cea18aa4-e6f1-43fb-a3b6-13e9c2e32685",
   "metadata": {
    "editable": false,
    "slideshow": {
     "slide_type": ""
    },
    "tags": []
   },
   "source": [
    "# Signatures"
   ]
  },
  {
   "cell_type": "markdown",
   "id": "e81fad11-de34-44d5-bc6b-9ee196bfbc49",
   "metadata": {
    "editable": false,
    "slideshow": {
     "slide_type": ""
    },
    "tags": []
   },
   "source": [
    "<div class=\"alert alert-primary\">\n",
    "  <b>🎯 OBJECTIVE</b><hr>\n",
    "    Explain digital signatures, how to verify a digital signature using the KLI verify command, and understand how tampering affects signature validity.\n",
    "</div>\n"
   ]
  },
  {
   "cell_type": "markdown",
   "id": "3f3fbf48-660b-4224-bb0e-c7a67c4a9470",
   "metadata": {
    "editable": false,
    "slideshow": {
     "slide_type": ""
    },
    "tags": []
   },
   "source": [
    "## What is a Digital Signature?\n",
    "\n",
    "Having explored KERI Identifiers (AIDs) and their management, we now focus on digital signatures. This section explains what digital signatures are, their crucial properties, and how they operate within KERI.\n",
    "\n",
    "A digital signature is a cryptographic mechanism used to provide assurance about the authenticity and integrity of digital data. It serves a similar purpose to a handwritten signature but offers significantly stronger guarantees through cryptography.\n",
    "\n",
    "The process generally involves three stages:\n",
    "\n",
    "1.  **Signing:**\n",
    "    * The signer (e.g., an AID Controller) takes the information they want to sign.\n",
    "    * They create a condensed representation of the information, known as a hash.\n",
    "    * Using their unique private signing key, they apply a signing algorithm to this hash. The result is the digital signature.\n",
    "    * Only someone possessing the private key can generate a valid signature for that key.\n",
    "2.  **Attaching:**\n",
    "    * The generated signature is typically attached to the original information.\n",
    "3.  **Verification:**\n",
    "    * Anyone receiving the information and signature can verify its validity using the signer's corresponding public key.\n",
    "    * The verifier applies a verification algorithm using the original information, the signature, and the public key.\n",
    "    * This algorithm reverses the steps of the signing process. It uses the public key to mathematically check the signature against the information, resulting in the hash value. Then it applies the hash function to the information, and if both hash values match, then the signature is valid.\n",
    "    * **Outcome:**\n",
    "        * **Valid Signature:** If the algorithm accepts, the verifier has high confidence in the information's authenticity, integrity, and non-repudiability.\n",
    "        * **Invalid Signature:** If the algorithm rejects, the information may have been tampered with, the signature might be corrupt, or the legitimate holder of the private key didn't generate it.\n",
    "\n",
    "Successful verification confirms:\n",
    "\n",
    "* **Authenticity:** The information originated from the owner of the key pair.\n",
    "* **Integrity:** The information has not been altered since it was signed.\n",
    "* **non-repudiability**: The signer cannot successfully deny signing the information. Because generating the signature requires the private key (which should be kept secret by the owner), a valid signature serves as strong evidence of the signer's action."
   ]
  },
  {
   "cell_type": "markdown",
   "id": "bc18f762-c9c4-4111-a8f6-73916916e0f5",
   "metadata": {
    "editable": false,
    "slideshow": {
     "slide_type": ""
    },
    "tags": []
   },
   "source": [
    "## Signatures and Verification\n",
    "\n",
    "In KERI, digital signatures are fundamental for establishing trust and verifying the authenticity of Key Events and other interactions associated with an AID. They cryptographically link actions and data back to the identifier's controlling keys.\n",
    "\n",
    "While the verification algorithm is standard, the key challenge for a Verifier is obtaining the correct public key(s) that were authoritative for the AID when the information was signed.\n",
    "\n",
    "The Verifier must perform these steps:\n",
    "\n",
    "1.  **Identify the Authoritative Public Key(s):**\n",
    "    * For an AID's inception event, the initial public key(s) are derived directly from the AID Prefix itself (leveraging KERI's self-certifying nature).\n",
    "    * For subsequent events (like rotations or interactions), the Verifier must consult the AID's Key Event Log. The KEL provides the history of key changes, allowing the Verifier to determine which public key(s) were valid at the specific point in time the event or message was signed.\n",
    "\n",
    "2.  **Perform Cryptographic Verification:**\n",
    "    * Once the correct public key(s) are identified, the Verifier uses them, along with the received data and signature, in the standard cryptographic verification algorithm (as described earlier).\n",
    "\n",
    "This reliance on the KEL to track key state over time is crucial for maintaining the security of interactions with KERI identifiers long after their initial creation."
   ]
  },
  {
   "cell_type": "markdown",
   "id": "20eb1045-fb88-4697-8574-bfde0cd7ea17",
   "metadata": {
    "editable": false,
    "slideshow": {
     "slide_type": ""
    },
    "tags": []
   },
   "source": [
    "<div class=\"alert alert-info\">\n",
    "  <b>ℹ️ NOTE</b><hr>\n",
    "    There's a subtle difference between a <b>Verifier</b> (who checks cryptographic correctness according to KERI rules) and a <b>Validator</b> (who might perform broader checks, including business logic, and broader trust policies in addition to verification). In KERI discussions, \"Verifier\" typically emphasizes the cryptographic checks.\n",
    "</div>"
   ]
  },
  {
   "cell_type": "markdown",
   "id": "5853d8d5-c70c-46a1-8838-819dec402aa3",
   "metadata": {
    "editable": false,
    "slideshow": {
     "slide_type": ""
    },
    "tags": []
   },
   "source": [
    "## Signing and Verifying with KLI\n",
    "\n",
    "Let's see how signing and verification work using the KLI commands.\n",
    "\n",
    "### Setup Keystore and Identifier\n",
    "\n",
    "First, create a keystore and an identifier."
   ]
  },
  {
   "cell_type": "code",
   "execution_count": null,
   "id": "fdec5bda-4544-438e-a629-98a9de05cbff",
   "metadata": {
    "editable": false,
    "slideshow": {
     "slide_type": ""
    },
    "tags": []
   },
   "outputs": [],
   "source": [
    "# Imports and Utility functions\n",
    "from scripts.utils import clear_keri\n",
    "\n",
    "keystore_name=\"signature-keystore\"\n",
    "passcode=\"xSLg286d4iWiRg2mzGYca\"\n",
    "salt=\"0ABeuT2dErMrqFE5Dmrnc2Bq\"\n",
    "aid_alias = \"aid-signature\"\n",
    "\n",
    "!kli init --name {keystore_name} \\\n",
    "    --passcode {passcode} \\\n",
    "    --salt {salt}\n",
    "\n",
    "!kli incept --name {keystore_name} \\\n",
    "    --passcode {passcode} \\\n",
    "    --alias {aid_alias} \\\n",
    "    --icount 1 \\\n",
    "    --isith 1 \\\n",
    "    --ncount 0 \\\n",
    "    --nsith 0 \\\n",
    "    --toad 0"
   ]
  },
  {
   "cell_type": "markdown",
   "id": "e37141dc-a408-46cf-ab33-cbe019d695c0",
   "metadata": {
    "editable": false,
    "slideshow": {
     "slide_type": ""
    },
    "tags": []
   },
   "source": [
    "### Sign a Message \n",
    "\n",
    "Now, sign a simple text message using the private key associated with the `aid-signature` identifier. To do so use the command `kli sign` presented below:"
   ]
  },
  {
   "cell_type": "code",
   "execution_count": null,
   "id": "a613109c-7549-4c59-841f-deba0ac4488c",
   "metadata": {
    "editable": false,
    "slideshow": {
     "slide_type": ""
    },
    "tags": []
   },
   "outputs": [],
   "source": [
    "!kli sign --name {keystore_name} \\\n",
    "    --passcode {passcode} \\\n",
    "    --alias {aid_alias} \\\n",
    "    --text \"hello world\""
   ]
  },
  {
   "cell_type": "markdown",
   "id": "e12d284e-e2b0-469e-9c64-1d4c371e815d",
   "metadata": {
    "editable": false,
    "slideshow": {
     "slide_type": ""
    },
    "tags": []
   },
   "source": [
    "The output is the digital signature generated for the text \"hello world\" using the private key of the AID  \n",
    "\n",
    "### Verify the Signature \n",
    "\n",
    "You can now use the `kli verify` command to check if the signature is valid for the given message and identifier (prefix). The relevant parameters here are:\n",
    "- `--prefix`: The prefix of the signer\n",
    "- `--text`: original text\n",
    "- `--signature`: signature to verify"
   ]
  },
  {
   "cell_type": "code",
   "execution_count": null,
   "id": "37ecec40-213c-4753-9cae-efcd87a68c7d",
   "metadata": {
    "editable": false,
    "slideshow": {
     "slide_type": ""
    },
    "tags": []
   },
   "outputs": [],
   "source": [
    "!kli verify --name {keystore_name} \\\n",
    "    --passcode {passcode} \\\n",
    "    --alias {aid_alias} \\\n",
    "    --prefix BCtRkWLNdWNRvB8L5gYMaLkanJQWi8wGbmmAtEw9XSWw \\\n",
    "    --text \"hello world\" \\\n",
    "    --signature AABjrlljacVpT8kDsvzv3qCVR1iiwJ-XPaAiKDURCH_vdrkgJgLK4i9h2Qv-xxmT2UxCSif0C-Ovvx-xp2vVDJUB\n"
   ]
  },
  {
   "cell_type": "markdown",
   "id": "33bbc91f-7e1a-4624-9165-e56557c23693",
   "metadata": {
    "editable": false,
    "slideshow": {
     "slide_type": ""
    },
    "tags": []
   },
   "source": [
    "The command confirms the signature is valid. It used the public key associated with the prefix to verify the signature against the provided text.\n",
    "\n",
    "### Tampered Signature\n",
    "\n",
    "What happens if the signature is altered even slightly? The next command has the last character of the signature modified. Try to verify again.\n"
   ]
  },
  {
   "cell_type": "code",
   "execution_count": null,
   "id": "65a020bf-71a1-4acb-82bd-b75a8854e2bf",
   "metadata": {
    "editable": false,
    "slideshow": {
     "slide_type": ""
    },
    "tags": []
   },
   "outputs": [],
   "source": [
    "!kli verify --name {keystore_name} \\\n",
    "    --passcode {passcode} \\\n",
    "    --alias {aid_alias} \\\n",
    "    --prefix BCtRkWLNdWNRvB8L5gYMaLkanJQWi8wGbmmAtEw9XSWw \\\n",
    "    --text \"hello world\" \\\n",
    "    --signature AABjrlljacVpT8kDsvzv3qCVR1iiwJ-XPaAiKDURCH_vdrkgJgLK4i9h2Qv-xxmT2UxCSif0C-Ovvx-xp2vVDJUC # Tampered last character"
   ]
  },
  {
   "cell_type": "markdown",
   "id": "084c2447-dce9-4354-bd57-3e69b1daceb3",
   "metadata": {
    "editable": false,
    "slideshow": {
     "slide_type": ""
    },
    "tags": []
   },
   "source": [
    "As expected, the verification fails. Even a tiny change invalidates the signature, demonstrating the integrity protection it provides."
   ]
  },
  {
   "cell_type": "code",
   "execution_count": null,
   "id": "f139acf1-08a1-42d4-a9ac-bd917e68de8c",
   "metadata": {
    "editable": false,
    "slideshow": {
     "slide_type": ""
    },
    "tags": []
   },
   "outputs": [],
   "source": [
    "# Imports and Utility functions\n",
    "from scripts.utils import clear_keri\n",
    "clear_keri()"
   ]
  },
  {
   "cell_type": "code",
   "execution_count": null,
   "id": "1069ff85-6ac1-4727-83cc-0a4655b8fc54",
   "metadata": {
    "editable": true,
    "slideshow": {
     "slide_type": ""
    },
    "tags": []
   },
   "outputs": [],
   "source": []
  }
 ],
 "metadata": {
  "kernelspec": {
   "display_name": "Python 3 (ipykernel)",
   "language": "python",
   "name": "python3"
  },
  "language_info": {
   "codemirror_mode": {
    "name": "ipython",
    "version": 3
   },
   "file_extension": ".py",
   "mimetype": "text/x-python",
   "name": "python",
   "nbconvert_exporter": "python",
   "pygments_lexer": "ipython3",
   "version": "3.12.9"
  }
 },
 "nbformat": 4,
 "nbformat_minor": 5
}
