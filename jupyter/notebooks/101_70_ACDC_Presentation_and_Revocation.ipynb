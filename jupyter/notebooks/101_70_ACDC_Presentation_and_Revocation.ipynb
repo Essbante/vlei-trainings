{
 "cells": [
  {
   "cell_type": "markdown",
   "id": "3c8f152b-69e5-438f-b53d-e921c578f3da",
   "metadata": {
    "editable": false,
    "slideshow": {
     "slide_type": ""
    },
    "tags": []
   },
   "source": [
    "# ACDC Presentation and Rovocation"
   ]
  },
  {
   "cell_type": "markdown",
   "id": "1b06915c-8bd9-4cf8-8568-c454cb862fd7",
   "metadata": {
    "editable": false,
    "slideshow": {
     "slide_type": ""
    },
    "tags": []
   },
   "source": [
    "<div class=\"alert alert-primary\">\n",
    "<b>🎯 OBJECTIVE</b><hr>\n",
    "Demonstrate how a Holder presents a previously issued ACDC or Verifiable Credential (VC) to a Verifier using the Issuance and Presentation Exchange (IPEX) protocol. And also covers the process of credential revocation by the Issuer.\n",
    "</div>"
   ]
  },
  {
   "cell_type": "markdown",
   "id": "601b59de-8f4b-46bf-a868-d378fe462eca",
   "metadata": {
    "editable": false,
    "slideshow": {
     "slide_type": ""
    },
    "tags": []
   },
   "source": [
    "## IPEX Credential Presentation\n",
    "\n",
    "In the previous notebook, you saw how an Issuer creates and sends an ACDC to a Holder. Now, we'll focus on the next step in the typical verifiable credential lifecycle: presentation. The Holder, possessing the credential, needs to present it to another party (the Verifier) to prove certain claims or gain access to something. You will again use the IPEX protocol for this exchange, but this time initiated by the Holder. Finally, you will see how the original Issuer can revoke the credential."
   ]
  },
  {
   "cell_type": "markdown",
   "id": "faf4d896-39f8-4c9b-b42e-5a33cd280e1a",
   "metadata": {
    "editable": false,
    "slideshow": {
     "slide_type": ""
    },
    "tags": []
   },
   "source": [
    "### Issue a Credential (Recap)\n",
    "\n",
    "To present a credential, you first need one! The following code block is a condensed recap of the ACDC Issuance workflow covered in the previous notebook. It quickly sets up an Issuer and a Holder, creates a Credential Registry, defines and resolves a schema, issues an `EventPass` credential from the Issuer to the Holder using IPEX, and ensures the Holder admits it.\n",
    "\n",
    "<div class=\"alert alert-info\">\n",
    "<b>ℹ️ NOTE:</b><hr> \n",
    "For a detailed explanation of these issuance steps, please refer to the previous notebook.\n",
    "</div>"
   ]
  },
  {
   "cell_type": "code",
   "execution_count": null,
   "id": "f2b8cee2-1b47-44d3-b8e3-4916f426cda8",
   "metadata": {
    "editable": false,
    "slideshow": {
     "slide_type": ""
    },
    "tags": []
   },
   "outputs": [],
   "source": [
    "from scripts.utils import exec\n",
    "from scripts.saidify import process_schema_file, get_schema_said\n",
    "\n",
    "# Holder keystore init and AID inception\n",
    "\n",
    "holder_keystore_name = \"holder_presentation_ks\"\n",
    "holder_keystore_passcode = exec(\"kli passcode generate\")\n",
    "holder_keystore_salt = exec(\"kli salt\")\n",
    "holder_aid = \"holder_aid\"\n",
    "\n",
    "!kli init --name {holder_keystore_name} --passcode {holder_keystore_passcode} --salt {holder_keystore_salt}\\\n",
    "    --config-dir ./config \\\n",
    "    --config-file keystore_init_config.json\n",
    "\n",
    "!kli incept --name {holder_keystore_name} --alias {holder_aid} --passcode {holder_keystore_passcode} \\\n",
    "    --file ./config/aid_inception_config.json\n",
    "\n",
    "# Issuer keystore init and AID inception\n",
    "issuer_keystore_name = \"issuer_presentation_ks\"\n",
    "issuer_keystore_passcode = exec(\"kli passcode generate\")\n",
    "issuer_keystore_salt = exec(\"kli salt\")\n",
    "issuer_aid = \"issuer_aid\"\n",
    "\n",
    "!kli init --name {issuer_keystore_name} --passcode {issuer_keystore_passcode} --salt {issuer_keystore_salt}\\\n",
    "    --config-dir ./config \\\n",
    "    --config-file keystore_init_config.json\n",
    "\n",
    "!kli incept --name {issuer_keystore_name} --passcode {issuer_keystore_passcode} --alias {issuer_aid}  \\\n",
    "    --file ./config/aid_inception_config.json\n",
    "\n",
    "# Issuer registry inception\n",
    "issuer_registry_name=\"issuer_registry\"\n",
    "\n",
    "!kli vc registry incept --name {issuer_keystore_name} \\\n",
    "    --passcode {issuer_keystore_passcode} \\\n",
    "    --registry-name {issuer_registry_name} \\\n",
    "    --alias {issuer_aid}\n",
    "\n",
    "# Issuer and Holder oobi\n",
    "\n",
    "holder_oobi_gen = f\"kli oobi generate --name {holder_keystore_name} --alias {holder_aid} --passcode {holder_keystore_passcode} --role witness\"\n",
    "holder_oobi = exec(holder_oobi_gen)\n",
    "\n",
    "issuer_oobi_gen = f\"kli oobi generate --name {issuer_keystore_name} --alias {issuer_aid} --passcode {issuer_keystore_passcode} --role witness\"\n",
    "issuer_oobi = exec(issuer_oobi_gen)\n",
    "\n",
    "!kli oobi resolve --name {holder_keystore_name} --passcode {holder_keystore_passcode} --oobi-alias {issuer_aid} \\\n",
    "    --oobi {issuer_oobi}\n",
    "\n",
    "!kli oobi resolve --name {issuer_keystore_name} --passcode {issuer_keystore_passcode} --oobi-alias {holder_aid}\\\n",
    "    --oobi {holder_oobi}\n",
    "\n",
    "# Issuer and Holder resolve schema oobis\n",
    "schema_oobi_alias = \"schema_oobi\"\n",
    "schema_said = get_schema_said(\"config/schemas/event_pass_schema.json\")\n",
    "schema_oobi = f\"http://vlei-server:7723/oobi/{schema_said}\"\n",
    "\n",
    "!kli oobi resolve --name {holder_keystore_name} --passcode {holder_keystore_passcode} --oobi-alias {schema_oobi_alias} \\\n",
    "    --oobi {schema_oobi}\n",
    "\n",
    "!kli oobi resolve --name {issuer_keystore_name} --passcode {issuer_keystore_passcode} --oobi-alias {schema_oobi_alias}\\\n",
    "    --oobi {schema_oobi}\n",
    "\n",
    "# Issuer create VC\n",
    "time = exec(\"kli time\")\n",
    "\n",
    "!kli vc create --name {issuer_keystore_name} --passcode {issuer_keystore_passcode} \\\n",
    "    --alias {issuer_aid} \\\n",
    "    --registry-name {issuer_registry_name} \\\n",
    "    --schema {schema_said} \\\n",
    "    --recipient {holder_aid} \\\n",
    "    --data \"@./config/credential_data/event_pass_cred_data.json\" \\\n",
    "    --time {time}\n",
    "\n",
    "# Get credential said\n",
    "get_credential_said = f\"kli vc list --name {issuer_keystore_name} --passcode {issuer_keystore_passcode} --alias {issuer_aid} --issued --said --schema {schema_said}\"\n",
    "credential_said=exec(get_credential_said)\n",
    "\n",
    "#Issuer grant credential\n",
    "time = exec(\"kli time\")\n",
    "\n",
    "!kli ipex grant \\\n",
    "    --name {issuer_keystore_name} --passcode {issuer_keystore_passcode} \\\n",
    "    --alias {issuer_aid} \\\n",
    "    --said {credential_said} \\\n",
    "    --recipient {holder_aid} \\\n",
    "    --time {time}\n",
    "\n",
    "# Holder poll and admit credential\n",
    "\n",
    "get_ipex_said=f\"kli ipex list --name {holder_keystore_name} --passcode {holder_keystore_passcode} --alias {holder_aid} --poll --said\"\n",
    "ipex_said=exec(get_ipex_said)\n",
    "\n",
    "time = exec(\"kli time\")\n",
    "\n",
    "!kli ipex admit \\\n",
    "    --name {holder_keystore_name} \\\n",
    "    --passcode {holder_keystore_passcode} \\\n",
    "    --alias {holder_aid} \\\n",
    "    --said {ipex_said} \\\n",
    "    --time {time}\n",
    "\n",
    "print(\"\\n\\nYou can continue ✅\")"
   ]
  },
  {
   "cell_type": "markdown",
   "id": "691acd02-d77c-4112-82a8-2132f1db5cbe",
   "metadata": {
    "editable": false,
    "slideshow": {
     "slide_type": ""
    },
    "tags": []
   },
   "source": [
    "## Credential Presentation Flow\n",
    "\n",
    "Now that the Holder (`holder_aid`) possesses the `EventPass` credential, you must present it to a Verifier (`verifier_aid`) to prove they have access.\n",
    "\n",
    "First, confirm the Holder has the credential:"
   ]
  },
  {
   "cell_type": "code",
   "execution_count": null,
   "id": "4f249599-c3c2-45b5-a640-bf141f70fd0c",
   "metadata": {
    "editable": false,
    "slideshow": {
     "slide_type": ""
    },
    "tags": []
   },
   "outputs": [],
   "source": [
    "!kli vc list  --name {holder_keystore_name} \\\n",
    "    --passcode {holder_keystore_passcode} \\\n",
    "    --verbose"
   ]
  },
  {
   "cell_type": "markdown",
   "id": "b9bdf51d-06f1-4265-9c01-68836445110b",
   "metadata": {
    "editable": false,
    "slideshow": {
     "slide_type": ""
    },
    "tags": []
   },
   "source": [
    "### Verifier setup\n",
    "\n",
    "Just like the Issuer and Holder, the Verifier needs its own AID to participate in the protocol securely. Initialize its keystore and incept its AID."
   ]
  },
  {
   "cell_type": "code",
   "execution_count": null,
   "id": "700a56a8-6e84-44ac-89e4-b39e914f417e",
   "metadata": {
    "editable": false,
    "slideshow": {
     "slide_type": ""
    },
    "tags": []
   },
   "outputs": [],
   "source": [
    "verifier_keystore_name=\"verifier_ks\"\n",
    "\n",
    "verifier_keystore_passcode = exec(\"kli passcode generate\")\n",
    "\n",
    "verifier_keystore_salt = exec(\"kli salt\")\n",
    "# Alias for our non-transferable AID\n",
    "verifier_aid = \"verifier_aid\"\n",
    "\n",
    "# Initialize the keystore\n",
    "!kli init --name {verifier_keystore_name} --passcode {verifier_keystore_passcode} --salt {verifier_keystore_salt}\\\n",
    "    --config-dir ./config \\\n",
    "    --config-file keystore_init_config.json\n",
    "\n",
    "!kli incept --name {verifier_keystore_name} --alias {verifier_aid} --passcode {verifier_keystore_passcode} \\\n",
    "    --file ./config/aid_inception_config.json"
   ]
  },
  {
   "cell_type": "markdown",
   "id": "5e516355-75bc-4b5a-b44f-be1d668f87a9",
   "metadata": {
    "editable": false,
    "slideshow": {
     "slide_type": ""
    },
    "tags": []
   },
   "source": [
    "### Holder/Verifier OOBI\n",
    "\n",
    "Similar to the Issuer/Holder exchange, the Holder and Verifier must exchange and resolve OOBIs to establish a secure communication channel and verify each other's key states (KELs)."
   ]
  },
  {
   "cell_type": "code",
   "execution_count": null,
   "id": "e93fa97a-52d8-48ac-b2eb-f695b167bda5",
   "metadata": {
    "editable": false,
    "slideshow": {
     "slide_type": ""
    },
    "tags": []
   },
   "outputs": [],
   "source": [
    "holder_oobi_gen = f\"kli oobi generate --name {holder_keystore_name} --alias {holder_aid} --passcode {holder_keystore_passcode} --role witness\"\n",
    "holder_oobi = exec(holder_oobi_gen)\n",
    "\n",
    "verifier_oobi_gen = f\"kli oobi generate --name {verifier_keystore_name} --alias {verifier_aid} --passcode {verifier_keystore_passcode} --role witness\"\n",
    "verifier_oobi = exec(verifier_oobi_gen)\n",
    "\n",
    "!kli oobi resolve --name {holder_keystore_name} --passcode {holder_keystore_passcode} --oobi-alias {verifier_aid} \\\n",
    "    --oobi {verifier_oobi}\n",
    "\n",
    "!kli oobi resolve --name {verifier_keystore_name} --passcode {verifier_keystore_passcode} --oobi-alias {holder_aid}\\\n",
    "    --oobi {holder_oobi}\n",
    "\n"
   ]
  },
  {
   "cell_type": "markdown",
   "id": "945baa5f-c4da-454a-889a-e41b7752d0cc",
   "metadata": {
    "editable": false,
    "slideshow": {
     "slide_type": ""
    },
    "tags": []
   },
   "source": [
    "### Verifier resolve schema OOBI\n",
    "\n",
    "The Verifier also needs to resolve the OOBI for the ACDC's schema (`event_pass_schema`). This allows the Verifier to retrieve the schema definition and validate that the presented credential conforms to the expected structure and data types. Without the schema, the Verifier wouldn't know how to interpret or validate the credential's content."
   ]
  },
  {
   "cell_type": "code",
   "execution_count": null,
   "id": "1e425649-14f0-4641-aad3-b36471957d50",
   "metadata": {
    "editable": false,
    "slideshow": {
     "slide_type": ""
    },
    "tags": []
   },
   "outputs": [],
   "source": [
    "!kli oobi resolve --name {verifier_keystore_name} --passcode {verifier_keystore_passcode} --oobi-alias {schema_oobi_alias}\\\n",
    "    --oobi {schema_oobi}"
   ]
  },
  {
   "cell_type": "markdown",
   "id": "bc4f48db-6131-43b0-b955-43c32e836f96",
   "metadata": {
    "editable": false,
    "slideshow": {
     "slide_type": ""
    },
    "tags": []
   },
   "source": [
    "### Holder present Credential\n",
    "\n",
    "Now, the Holder initiates the IPEX exchange to present the credential to the Verifier. The Holder acts as the \"Discloser\" in this context. The command used is `kli ipex grant`, just like in issuance, but the roles are reversed in intent.\n",
    "\n",
    "- `--name`, `--passcode`, `--alias`: Identify the Holder's keystore and AID.\n",
    "- `--said`: The SAID of the credential being presented.\n",
    "- `--recipient`: The AID of the Verifier who should receive the presentation.\n",
    "- `--time`: A timestamp for the grant message.\n",
    "\n",
    "This sends an IPEX grant message, effectively offering the credential presentation to the Verifier."
   ]
  },
  {
   "cell_type": "code",
   "execution_count": null,
   "id": "128c6fe2-5858-4ae1-9174-ccf434da5d13",
   "metadata": {
    "editable": false,
    "slideshow": {
     "slide_type": ""
    },
    "tags": []
   },
   "outputs": [],
   "source": [
    "time = exec(\"kli time\")\n",
    "\n",
    "!kli ipex grant \\\n",
    "    --name {holder_keystore_name} \\\n",
    "    --passcode {holder_keystore_passcode} \\\n",
    "    --alias {holder_aid} \\\n",
    "    --said {credential_said} \\\n",
    "    --recipient {verifier_aid} \\\n",
    "    --time {time}"
   ]
  },
  {
   "cell_type": "markdown",
   "id": "445decdb-099c-43ac-81c0-6517e0485d61",
   "metadata": {
    "editable": false,
    "slideshow": {
     "slide_type": ""
    },
    "tags": []
   },
   "source": [
    "### Verifier Polls Mailbox\n",
    "\n",
    "The Verifier needs to check its KERI mailbox for the incoming grant message containing the credential presentation.Use `kli ipex list --poll` and extract the SAID of the message."
   ]
  },
  {
   "cell_type": "code",
   "execution_count": null,
   "id": "689e8f13-6472-4dad-869c-56239f3f0064",
   "metadata": {
    "editable": false,
    "slideshow": {
     "slide_type": ""
    },
    "tags": []
   },
   "outputs": [],
   "source": [
    "get_ipex_said=f\"kli ipex list --name {verifier_keystore_name} --passcode {verifier_keystore_passcode} --alias {verifier_aid} --poll --said\"\n",
    "ipex_said=exec(get_ipex_said)\n",
    "\n",
    "print(ipex_said)"
   ]
  },
  {
   "cell_type": "markdown",
   "id": "ac184697-1f15-4d20-8895-1d599e0a5091",
   "metadata": {
    "editable": false,
    "slideshow": {
     "slide_type": ""
    },
    "tags": []
   },
   "source": [
    "### Verifier displays credential\n",
    "\n",
    "Before formally admitting the credential, the Verifier can inspect the received presentation using `kli ipex list --verbose`. This shows the credential details and the status of the IPEX exchange."
   ]
  },
  {
   "cell_type": "code",
   "execution_count": null,
   "id": "86d7376c-f608-4bee-aa5a-fe88adee6722",
   "metadata": {
    "editable": false,
    "slideshow": {
     "slide_type": ""
    },
    "tags": []
   },
   "outputs": [],
   "source": [
    "!kli ipex list \\\n",
    "    --name {verifier_keystore_name} \\\n",
    "    --passcode {verifier_keystore_passcode} \\\n",
    "    --alias {verifier_aid} \\\n",
    "    --verbose"
   ]
  },
  {
   "cell_type": "markdown",
   "id": "cb7ff90f-1a7f-465e-917c-22197eb90e9b",
   "metadata": {
    "editable": false,
    "slideshow": {
     "slide_type": ""
    },
    "tags": []
   },
   "source": [
    "### Verifier Admits credential\n",
    "\n",
    "The Verifier uses the `kli ipex admit` command to accept the presentation. This triggers the Verifier's KERI controller to perform several validation checks automatically:\n",
    "\n",
    "- Schema Validation: Checks if the credential structure and data types match the resolved schema.\n",
    "- Issuer Authentication: Verifies the credential signature against the Issuer's KEL (retrieved previously via OOBI).\n",
    "\n",
    "If all checks pass, the Verifier sends an admit message back to the Holder and stores the validated credential information."
   ]
  },
  {
   "cell_type": "code",
   "execution_count": null,
   "id": "803a9ff4-6eb2-4675-9a58-07d1cab8cc60",
   "metadata": {
    "editable": false,
    "slideshow": {
     "slide_type": ""
    },
    "tags": []
   },
   "outputs": [],
   "source": [
    "time = exec(\"kli time\")\n",
    "\n",
    "!kli ipex admit \\\n",
    "    --name {verifier_keystore_name} \\\n",
    "    --passcode {verifier_keystore_passcode} \\\n",
    "    --alias {verifier_aid} \\\n",
    "    --said {ipex_said} \\\n",
    "    --time {time}"
   ]
  },
  {
   "cell_type": "markdown",
   "id": "a1ec6eb3-8a87-4de5-9907-129c93f490e1",
   "metadata": {
    "editable": false,
    "slideshow": {
     "slide_type": ""
    },
    "tags": []
   },
   "source": [
    "### Verifier check response\n",
    "\n",
    "Finally, the Verifier can check the status of the received IPEX message again. The Already responded? field should now show Yes ✔ and indicate the response was Admit, confirming the successful presentation and validation."
   ]
  },
  {
   "cell_type": "code",
   "execution_count": null,
   "id": "d8ddfd0a-14ee-44be-87ff-7111375399df",
   "metadata": {
    "editable": false,
    "slideshow": {
     "slide_type": ""
    },
    "tags": []
   },
   "outputs": [],
   "source": [
    "!kli ipex list \\\n",
    "    --name {verifier_keystore_name} \\\n",
    "    --passcode {verifier_keystore_passcode} \\\n",
    "    --alias {verifier_aid} \\\n",
    "    --verbose"
   ]
  },
  {
   "cell_type": "markdown",
   "id": "e12486b7-43a8-4672-afca-0335cbf57334",
   "metadata": {
    "editable": true,
    "slideshow": {
     "slide_type": ""
    },
    "tags": []
   },
   "source": [
    "## Credential revocation"
   ]
  },
  {
   "cell_type": "markdown",
   "id": "62095632-1ab7-41c8-9b36-c1ee73aa0b69",
   "metadata": {
    "editable": false,
    "slideshow": {
     "slide_type": ""
    },
    "tags": []
   },
   "source": [
    "Credentials may need to be invalidated before their natural expiry (if any). This process is called revocation. In KERI/ACDC, revocation is performed by the original Issuer of the credential. The Issuer records a revocation event in the credential registry's Transaction Event Log (TEL), which is anchored to the Issuer's main KEL.\n",
    "\n",
    "The `kli vc revoke` command is used by the Issuer:\n",
    "\n",
    "- `--name`, `--passcode`, `--alias`: Identify the Issuer's keystore and AID.\n",
    "- `--registry-name`: Specifies the registry where the credential's status is managed.\n",
    "- `--said`: The SAID of the specific credential instance to be revoked.\n",
    "- `--time`: Timestamp for the revocation event."
   ]
  },
  {
   "cell_type": "code",
   "execution_count": null,
   "id": "6310149a-f9a5-4e82-a84b-10f90ec664c8",
   "metadata": {
    "editable": false,
    "slideshow": {
     "slide_type": ""
    },
    "tags": []
   },
   "outputs": [],
   "source": [
    "!kli vc revoke --name {issuer_keystore_name} --passcode {issuer_keystore_passcode} \\\n",
    "    --alias {issuer_aid} \\\n",
    "    --registry-name {issuer_registry_name} \\\n",
    "    --said {credential_said} \\\n",
    "    --time {time}"
   ]
  },
  {
   "cell_type": "markdown",
   "id": "094ac4b4-dafc-4121-87f6-80fa2fae4931",
   "metadata": {
    "editable": false,
    "slideshow": {
     "slide_type": ""
    },
    "tags": []
   },
   "source": [
    "Now, if the Issuer lists their issued credentials again, the status will reflect the revocation:"
   ]
  },
  {
   "cell_type": "code",
   "execution_count": null,
   "id": "bd7f6b8a-1519-4919-a9ee-b27b513254a8",
   "metadata": {
    "editable": false,
    "slideshow": {
     "slide_type": ""
    },
    "tags": []
   },
   "outputs": [],
   "source": [
    "!kli vc list --name {issuer_keystore_name} --passcode {issuer_keystore_passcode} \\\n",
    "    --alias {issuer_aid} \\\n",
    "    -i"
   ]
  },
  {
   "cell_type": "markdown",
   "id": "eedb0b73-06b6-492d-a56c-bff2dac0e0f6",
   "metadata": {
    "editable": false,
    "slideshow": {
     "slide_type": ""
    },
    "tags": []
   },
   "source": [
    "<div class=\"alert alert-primary\">\n",
    "<b>📝 SUMMARY</b><hr>\n",
    "This notebook demonstrated the ACDC presentation and revocation flows:\n",
    "<ol>\n",
    "<li><b>Prerequisites:</b> We started with a Holder possessing an issued credential from an Issuer (established via the recap section).</li>\n",
    "<li><b>Verifier Setup:</b> A Verifier established its KERI identity (AID).</li>\n",
    "<li><b>Connectivity:</b> The Holder and Verifier exchanged and resolved OOBIs. The Verifier also resolved the credential's schema OOBI to enable validation.</li>\n",
    "<li><b>Presentation (IPEX):</b>\n",
    "<ul>\n",
    "<li>Holder initiated the presentation using kli ipex grant, sending the credential to the Verifier.</li>\n",
    "<li>Verifier polled its mailbox (kli ipex list --poll) to receive the presentation.</li>\n",
    "<li>Verifier accepted and validated the presentation using kli ipex admit. Validation included schema checks, issuer authentication (KEL), and registry status checks (TEL).</li>\n",
    "</ul>\n",
    "</li>\n",
    "<li><b>Revocation:</b>\n",
    "<ul>\n",
    "<li>The original Issuer revoked the credential using kli vc revoke, updating the status in the credential registry's TEL.</li>\n",
    "</ul>\n",
    "</li>\n",
    "</ol>\n",
    "This completes the basic lifecycle demonstration: issuance (previous notebook), presentation, and revocation, all handled securely using KERI identities and the IPEX protocol.\n",
    "</div>"
   ]
  },
  {
   "cell_type": "code",
   "execution_count": null,
   "id": "3e6e793b-639f-46f7-a51a-b8b41a2f8536",
   "metadata": {
    "editable": false,
    "slideshow": {
     "slide_type": ""
    },
    "tags": []
   },
   "outputs": [],
   "source": [
    "from scripts.utils import clear_keri\n",
    "clear_keri()"
   ]
  },
  {
   "cell_type": "code",
   "execution_count": null,
   "id": "df64faa8-c495-44c7-9a6b-878f69bd6aee",
   "metadata": {},
   "outputs": [],
   "source": []
  }
 ],
 "metadata": {
  "kernelspec": {
   "display_name": "Python 3 (ipykernel)",
   "language": "python",
   "name": "python3"
  },
  "language_info": {
   "codemirror_mode": {
    "name": "ipython",
    "version": 3
   },
   "file_extension": ".py",
   "mimetype": "text/x-python",
   "name": "python",
   "nbconvert_exporter": "python",
   "pygments_lexer": "ipython3",
   "version": "3.12.9"
  }
 },
 "nbformat": 4,
 "nbformat_minor": 5
}
