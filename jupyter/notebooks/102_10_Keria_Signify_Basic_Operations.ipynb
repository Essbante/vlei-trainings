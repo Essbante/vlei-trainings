{
 "cells": [
  {
   "cell_type": "markdown",
   "id": "d93e14db-c930-42e9-96f6-6e4680dc00b7",
   "metadata": {
    "editable": false,
    "slideshow": {
     "slide_type": ""
    },
    "tags": []
   },
   "source": [
    "# Keria/Signify Basic Operations"
   ]
  },
  {
   "cell_type": "markdown",
   "id": "2703c2e2-ade7-4732-835d-8edee765092d",
   "metadata": {
    "editable": false,
    "slideshow": {
     "slide_type": ""
    },
    "tags": []
   },
   "source": [
    "<div class=\"alert alert-primary\">\n",
    "  <b>🎯 OBJECTIVE</b><hr>\n",
    "  Introduce basic operations using Signify-ts: creating a client, initializing (booting) an agent, connecting to an agent, and creating an Autonomic Identifier (AID).</li>\n",
    "    </ul>\n",
    "    Familiarity with core KERI concepts (AIDs, KELs, digital signatures, witnesses, OOBIs) is assumed.\n",
    "</div>"
   ]
  },
  {
   "cell_type": "markdown",
   "id": "053bfc13-d40a-430a-a728-5fe8ab8274ff",
   "metadata": {
    "editable": false,
    "slideshow": {
     "slide_type": ""
    },
    "tags": []
   },
   "source": [
    "## Create a Client and Connect to the Keria Agent\n",
    "\n",
    "Now that we understand the architecture, let's see how to use the `signify-ts` library to establish a connection with a Keria agent. This process involves three main steps:\n",
    "1.  Initializing the `signify-ts` library.\n",
    "2.  Creating a `SignifyClient` instance, which represents your application's connection to a specific Keria agent.\n",
    "3.  Bootstrapping and connecting the client to the agent, which establishes the Client AID and the delegated Agent AID.\n",
    "\n"
   ]
  },
  {
   "cell_type": "markdown",
   "id": "cb8b59c4-7879-4e1a-b172-abed938abe9f",
   "metadata": {
    "editable": false,
    "slideshow": {
     "slide_type": ""
    },
    "tags": []
   },
   "source": [
    "<div class=\"alert alert-info\">\n",
    "    <b>ℹ️ Note</b><hr>This section assumes that a Keria agent is running and its Boot and Admin interfaces are accessible at the specified URLs. In the context of these notebooks, Keria is pre-configured and running as part of the Docker deployment.\n",
    "</div>\n"
   ]
  },
  {
   "cell_type": "markdown",
   "id": "cc003d2b-4fd1-4b65-967c-1a373b9546f5",
   "metadata": {
    "editable": false,
    "slideshow": {
     "slide_type": ""
    },
    "tags": []
   },
   "source": [
    "### Library Initialization\n",
    "\n",
    "The `signify-ts` library contains components for cryptographic operations using libsodium. Before any of its functionalities can be used, these components must be initialized. This is achieved by calling and the `ready()` function.\n"
   ]
  },
  {
   "cell_type": "code",
   "execution_count": null,
   "id": "193e5a98-4cde-4657-8d02-498a622508b6",
   "metadata": {
    "editable": false,
    "slideshow": {
     "slide_type": ""
    },
    "tags": []
   },
   "outputs": [],
   "source": [
    "import { randomPasscode, ready, SignifyClient, Tier } from 'npm:signify-ts';\n",
    "\n",
    "await ready();\n",
    "\n",
    "console.log(\"Signify-ts library initialized and ready.\");"
   ]
  },
  {
   "cell_type": "markdown",
   "id": "14ebc6a6-badc-42ea-9686-344741911b7c",
   "metadata": {
    "editable": false,
    "slideshow": {
     "slide_type": ""
    },
    "tags": []
   },
   "source": [
    "### Creating a SignifyClient Instance\n",
    "Once the library is initialized, you can create an instance of `SignifyClient`. This object will be your primary interface for all interactions with the Keria agent. It requires several parameters:\n",
    "\n",
    "- **url**: The URL of the Keria agent's Admin Interface. The client uses this for most command and control operations after the initial connection is established.\n",
    "- **bran**: A 21-character, high-entropy string, often referred to as a \"passcode.\" This bran serves as the root salt for deriving the Client AID's signing and rotation keys via a Hierarchical Deterministic (HD) key algorithm. It is critical to treat the bran as securely as a private key. Losing it means losing control of the Client AID.\n",
    "- **tier**: The security tier for the passcode hashing algorithm. Tier.low, Tier.med, and Tier.high represent different computational costs for deriving keys from the bran. Higher tiers are more resistant to brute-force attacks but require more processing power and time.\n",
    "- **bootUrl**: The URL of the Keria agent's Boot Interface. This is used for the initial setup and provisioning of the agent worker for this client."
   ]
  },
  {
   "cell_type": "code",
   "execution_count": null,
   "id": "85d4d37d-3fe3-442f-b363-9b35089da1e6",
   "metadata": {
    "editable": false,
    "slideshow": {
     "slide_type": ""
    },
    "tags": []
   },
   "outputs": [],
   "source": [
    "const adminUrl = 'http://keria:3901'; // Keria agent's Admin Interface URL\n",
    "const bootUrl = 'http://keria:3903';  // Keria agent's Boot Interface URL\n",
    "\n",
    "// Generate a new random 21-character bran (passcode/salt)\n",
    "// In a real application, you would securely store and reuse this bran.\n",
    "const bran = randomPasscode();\n",
    "\n",
    "// Create the SignifyClient instance\n",
    "const client = new SignifyClient(\n",
    "    adminUrl,\n",
    "    bran,\n",
    "    Tier.low, // Using Tier.low for faster execution\n",
    "    bootUrl\n",
    ");\n",
    "\n",
    "console.log('SignifyClient instance created.');\n",
    "console.log('Using Passcode (bran):', bran);"
   ]
  },
  {
   "cell_type": "markdown",
   "id": "69e227d5-e6f4-4fe9-8d3a-7fbc4804f691",
   "metadata": {
    "editable": false,
    "slideshow": {
     "slide_type": ""
    },
    "tags": []
   },
   "source": [
    "<div class=\"alert alert-info\">\n",
    "  <b>ℹ️ NOTE</b><hr>\n",
    "In a production environment, the <code>bran</code> must be securely generated and stored. For a given Client AID, you must consistently use the same bran to reconnect and derive the correct keys. Using <code>randomPasscode()</code> each time, as in this demo, will result in a new Client AID being created or an inability to connect to an existing one if the Keria agent already has a state associated with a different bran for its controller.\n",
    "</div>"
   ]
  },
  {
   "cell_type": "markdown",
   "id": "8e75aa86-dd4a-4cca-870d-72acf0d9da37",
   "metadata": {
    "editable": false,
    "slideshow": {
     "slide_type": ""
    },
    "tags": []
   },
   "source": [
    "### Bootstrapping and Connecting to the Agent\n",
    "With the `SignifyClient` instance created, the next step is to establish the initial connection and state with the Keria agent. This involves two methods:\n",
    "\n",
    "- **`client.boot()`**: Initiates the bootstrapping process with the Keria agent's Boot Interface:\n",
    "  - The client generates its Client AID using the provided bran.\n",
    "  - It sends the Client AID's inception event to the Keria agent's Boot Interface.\n",
    "  - The Keria agent, upon successful verification, creates a delegated Agent AID and returns its inception event to the client. This step essentially provisions the necessary resources and establishes the delegated relationship on the Keria agent for this specific client.\n",
    "\n",
    "- **`client.connect()`**: After `boot()` (or if the agent has been previously booted with the same bran), connect() establishes the active session with the Keria agent via its Admin Interface.\n"
   ]
  },
  {
   "cell_type": "code",
   "execution_count": null,
   "id": "474591e6-5c40-4097-9e11-0ebc9303ee18",
   "metadata": {
    "editable": false,
    "slideshow": {
     "slide_type": ""
    },
    "tags": []
   },
   "outputs": [],
   "source": [
    "// Bootstrap the connection with the Keria agent\n",
    "// This creates the Client AID and requests the Agent AID creation.\n",
    "await client.boot();\n",
    "console.log('Client boot process initiated with Keria agent.');\n",
    "\n",
    "// Establish the active connection and retrieve state\n",
    "await client.connect();\n",
    "console.log('Client connected to Keria agent.');\n",
    "\n",
    "// Retrieve and display the current state\n",
    "const state = await client.state();\n",
    "console.log('\\nConnection State Details:');\n",
    "console.log('-------------------------');\n",
    "console.log('Client AID Prefix: ', state.controller.state.i);\n",
    "console.log('Client AID Keys:   ', state.controller.state.k);\n",
    "console.log('Client AID Next Keys Digest: ', state.controller.state.n);\n",
    "console.log('')\n",
    "console.log('Agent AID Prefix:   ', state.agent.i);\n",
    "console.log('Agent AID Type:     ', state.agent.et); // Should be 'dip' for delegated inception\n",
    "console.log('Agent AID Delegator:', state.agent.di); // Should be the Client AID's prefix\n"
   ]
  },
  {
   "cell_type": "markdown",
   "id": "491426c1-1f71-48e1-b595-26b071dfec9b",
   "metadata": {
    "editable": false,
    "slideshow": {
     "slide_type": ""
    },
    "tags": []
   },
   "source": [
    "**Output Explanation:**\n",
    "\n",
    "- **Client AID Prefix:** The unique, self-certifying identifier for the client, tied to the bran.\n",
    "- **Client AID Keys:** The current public signing key(s) for the Client AID.\n",
    "- **Client AID Next Keys Digest:** The digest (hash) of the public key(s) pre-rotated for the next key rotation of the Client AID.\n",
    "- **Agent AID Prefix:** The unique identifier for the Keria agent worker associated with your client.\n",
    "- **Agent AID Type:** dip indicates a \"delegated inception\" event, signifying that this Agent AID's authority is delegated by another AID.\n",
    "- **Agent AID Delegator:** This crucial field shows the prefix of the Client AID, confirming that the Agent AID is indeed delegated by your Client AID."
   ]
  },
  {
   "cell_type": "markdown",
   "id": "6a687210-3145-4551-8410-ffa5d071f239",
   "metadata": {
    "editable": false,
    "slideshow": {
     "slide_type": ""
    },
    "tags": []
   },
   "source": [
    "## Reconnecting to an Existing Agent\n",
    "If the Keria agent has already been booted for a specific `bran` (Client AID), you don't need to call `client.boot()` again when using the same bran. You directly use `client.connect()`. Signify-ts will detect the existing state and reconnect."
   ]
  },
  {
   "cell_type": "code",
   "execution_count": null,
   "id": "669e7bcc-e6af-4810-bb8a-15b321459140",
   "metadata": {
    "editable": false,
    "slideshow": {
     "slide_type": ""
    },
    "tags": []
   },
   "outputs": [],
   "source": [
    "// Create a new client instance with the SAME bran\n",
    "const client2 = new SignifyClient(\n",
    "    adminUrl,\n",
    "    bran, // Using the same bran as the first client\n",
    "    Tier.low,\n",
    "    bootUrl\n",
    ");\n",
    "console.log('Second SignifyClient instance created with the same bran.');\n",
    "\n",
    "// Connect without booting, as the agent state for this bran should already exist\n",
    "await client2.connect();\n",
    "console.log('Second client connected to the existing Keria agent.');\n",
    "\n",
    "const state2 = await client2.state();\n",
    "console.log('\\nReconnection State Details:');\n",
    "console.log('---------------------------');\n",
    "console.log('Client AID Prefix:  ', state2.controller.state.i); // Should be the same Client AID\n",
    "console.log('Agent AID Prefix:   ', state2.agent.i);  // Should be the same Agent AID\n",
    "console.log('Agent AID Delegator:', state2.agent.di); // Should be the same Client AID"
   ]
  },
  {
   "cell_type": "markdown",
   "id": "1c029469-2d83-45e0-8d73-fe1bcaf7dee8",
   "metadata": {
    "editable": false,
    "slideshow": {
     "slide_type": ""
    },
    "tags": []
   },
   "source": [
    "<div class=\"alert alert-primary\">\n",
    "<b>📝 SUMMARY</b><hr>\n",
    "To connect to a Keria agent using Signify-ts:\n",
    "<ol>\n",
    "<li>Initialize the library with <code>await ready()</code>.</li>\n",
    "<li>Create a <code>SignifyClient</code> instance, providing the agent's Admin and Boot URLs, a unique 21-character <code>bran</code> (passcode/salt for key derivation), and a security <code>Tier</code>.</li>\n",
    "<li>For the first-time connection with a new <code>bran</code>, call <code>await client.boot()</code> to provision the Client AID and request the creation of a delegated Agent AID from Keria.</li>\n",
    "<li>Call <code>await client.connect()</code> to establish the active session, retrieve the state (Client and Agent AIDs), and complete any delegation approvals. The Client AID delegates authority to the Agent AID, whose inception event (type <code>dip</code>) will list the Client AID as its delegator.</li>\n",
    "<li>For subsequent connections using the same <code>bran</code>, skip <code>client.boot()</code> and directly use <code>client.connect()</code>.</li>\n",
    "</ol>\n",
    "The <code>bran</code> is critical for deriving the Client AID's keys and must be kept secure and reused consistently for the same identity.\n",
    "</div>"
   ]
  },
  {
   "cell_type": "markdown",
   "id": "b0246e16-e42b-45cd-a8f5-3f0b8b4d90d5",
   "metadata": {
    "editable": false,
    "slideshow": {
     "slide_type": ""
    },
    "tags": []
   },
   "source": [
    "## Add an Autonomic Identifier (AID)\n",
    "\n",
    "Once your Signify client is connected to the Keria agent, you can instruct the agent to create and manage new Autonomic Identifiers (AIDs) on your behalf. These AIDs will be controlled by your Client AID (established during the `connect()` phase) through the delegation mechanism.\n",
    "\n",
    "### Initiating AID Inception\n",
    "\n",
    "Creating a new AID is an asynchronous operation. When you request the Keria agent to incept an AID, the agent starts the process, which might involve communicating with witnesses. The `signify-ts` library handles this by first giving you an \"operation\" object, which you can then use to poll for the completion of the inception process.\n",
    "\n",
    "The `client.identifiers().create()` method is used to start the inception of a new AID.\n",
    "\n",
    "**Parameters Explained:**\n",
    "\n",
    "- **aidAlias (string):** This is a human-readable alias that you assign to the AID within your Signify client's local storage. It's used to refer to this AID in subsequent client operations. It's not part of the KERI protocol itself but a convenience for client-side management.\n",
    "- **inceptionArgs (object):** This object contains the configuration for the new AID:\n",
    "  - **toad (number):** The Threshold of Accountable Duplicity. This is the minimum number of witness receipts the controller (your Client AID via Keria) requires for this new AID's events to be considered accountable.\n",
    "  - **wits (array of strings):** A list of AID prefixes of the witnesses that this new AID should use. These witnesses must be discoverable by your Keria agent (e.g., pre-loaded during Keria's startup or resolved via OOBIs by the client/agent).\n",
    "  - **Other parameters:** not shown for brevity but available, see **[CreateIdentifierArgs](https://weboftrust.github.io/signify-ts/interfaces/CreateIdentiferArgs.html)**"
   ]
  },
  {
   "cell_type": "code",
   "execution_count": null,
   "id": "d5f84075-4e13-4d80-8620-e90982176c66",
   "metadata": {
    "editable": false,
    "slideshow": {
     "slide_type": ""
    },
    "tags": []
   },
   "outputs": [],
   "source": [
    "// Define an alias for the new AID for easy reference within the client\n",
    "const aidAlias = 'newAid';\n",
    "\n",
    "// Inception request parameters\n",
    "const identifierArgs = {\n",
    "    toad: 2, // Threshold of Accountable Duplicity: minimum number of witness receipts required\n",
    "    wits: [   // List of witness AID prefixes to use for this AID\n",
    "        'BBilc4-L3tFUnfM_wJr4S4OJanAv_VmF_dJNN6vkf2Ha',\n",
    "        'BLskRTInXnMxWaGqcpSyMgo0nYbalW99cGZESrz3zapM',\n",
    "        'BIKKuvBwpmDVA4Ds-EpL5bt9OqPzWPja2LigFYZN2YfX'\n",
    "    ]\n",
    "    // Other parameters can be specified. If not, defaults are used.\n",
    "};\n",
    "\n",
    "// Send the inception request to the Keria agent\n",
    "const inceptionResult = await client.identifiers().create(aidAlias, identifierArgs);\n",
    "console.log(`AID inception initiated for alias: ${aidAlias}`);\n",
    "\n",
    "// The result contains information about the long-running operation\n",
    "const inceptionOperation = await inceptionResult.op();\n",
    "console.log('Inception Operation Details:');\n",
    "console.log(inceptionOperation);\n"
   ]
  },
  {
   "cell_type": "markdown",
   "id": "d641d1c0-4ba0-4ec5-8976-9aa3725ed540",
   "metadata": {
    "editable": false,
    "slideshow": {
     "slide_type": ""
    },
    "tags": []
   },
   "source": [
    "**Outout explained**\n",
    "\n",
    "Calling `inceptionResult.op()` returns a promise that resolves to an operation object containing:\n",
    "- **name:** A unique name for this long-running operation (e.g., `witness.AID_PREFIX`). Keria uses this to track the task. The prefix in the name corresponds to the AID being created.\n",
    "- **metadata:** Contains details like the prefix (pre) of the AID being incepted and the sequence number (`sn`, which is 0 for inception).\n",
    "- **done:** A boolean indicating if the operation has completed. Initially, it's `false`.\n",
    "- **error:** Will contain error details if the operation fails.\n",
    "- **response:** Will contain the result of the operation (the signed inception event) once `done` is `true`."
   ]
  },
  {
   "cell_type": "markdown",
   "id": "a0ec9159-4b31-4ffa-be87-cb6453ad66bf",
   "metadata": {
    "editable": false,
    "slideshow": {
     "slide_type": ""
    },
    "tags": []
   },
   "source": [
    "### Waiting for Operation Completion\n",
    "Since AID inception involves network communication (e.g., with witnesses to gather receipts), it doesn't complete instantly. You need to poll or wait for the operation to finish. The `client.operations().wait()` method handles this, periodically checking with the Keria agent until the operation's `done` flag becomes `true` or a timeout occurs."
   ]
  },
  {
   "cell_type": "code",
   "execution_count": null,
   "id": "05e6edc8-34d2-450e-8139-d45fe370a8f7",
   "metadata": {
    "editable": false,
    "slideshow": {
     "slide_type": ""
    },
    "tags": []
   },
   "outputs": [],
   "source": [
    "// Poll the Keria agent for the completion of the inception operation.\n",
    "// AbortSignal.timeout(30000) sets a 30-second timeout for waiting.\n",
    "console.log('Waiting for inception operation to complete...');\n",
    "const operationResponse = await client\n",
    "    .operations()\n",
    "    .wait(inceptionOperation, AbortSignal.timeout(30000)); // Pass the operation name\n",
    "\n",
    "console.log('\\nInception Operation Completed:');\n",
    "console.log(operationResponse);\n",
    "\n",
    "// The actual inception event is in the 'response' field of the completed operation\n",
    "const newAidInceptionEvent = operationResponse.response;\n",
    "console.log(`\\nSuccessfully created AID with prefix: ${newAidInceptionEvent.i}`);\n",
    "console.log(`Witnesses specified: ${JSON.stringify(newAidInceptionEvent.b)}`);\n"
   ]
  },
  {
   "cell_type": "markdown",
   "id": "b8340ec0-b897-4b0f-9e67-da671df127bb",
   "metadata": {
    "editable": false,
    "slideshow": {
     "slide_type": ""
    },
    "tags": []
   },
   "source": [
    "**Completed Operation Output Explained:**\n",
    "\n",
    "- `done`: Now true, indicating the inception is complete on the Keria agent's side.\n",
    "- `response`: This field now contains the actual signed inception event (`icp`) for the newly created AID (`newAid`).\n",
    "- `i`: The prefix of the newly created AID.\n",
    "- `k`: The list of current public signing keys.\n",
    "- `n`: The list of digests of the next (pre-rotated) public keys.\n",
    "- `b`: The list of witness AIDs that this AID is configured to use.\n",
    "- `bt`: The Threshold of Accountable Duplicity (TOAD) specified during creation (matches toad: 2 from our request).\n",
    "\n",
    "The Keria agent has successfully incepted the AID, and its KEL (starting with this inception event) is now managed by the agent and receipted by the specified witnesses."
   ]
  },
  {
   "cell_type": "markdown",
   "id": "137d5d17-b4b3-425d-ada1-200d0e99d057",
   "metadata": {
    "editable": false,
    "slideshow": {
     "slide_type": ""
    },
    "tags": []
   },
   "source": [
    "## Managing Operations\n",
    "Signify-ts also provides methods to list and delete operations tracked by the Keria agent for your client."
   ]
  },
  {
   "cell_type": "markdown",
   "id": "6291b0e4-db03-4771-93d3-22bd6e5ac910",
   "metadata": {
    "editable": false,
    "slideshow": {
     "slide_type": ""
    },
    "tags": []
   },
   "source": [
    "### List Operations"
   ]
  },
  {
   "cell_type": "code",
   "execution_count": null,
   "id": "b0690dc9-f444-40ae-91a8-41004943899b",
   "metadata": {
    "editable": false,
    "slideshow": {
     "slide_type": ""
    },
    "tags": []
   },
   "outputs": [],
   "source": [
    "// List all current long-running operations for this client\n",
    "const operationsList = await client.operations().list();\n",
    "console.log('\\nCurrent Operations List:');\n",
    "console.log(JSON.stringify(operationsList, null, 2));"
   ]
  },
  {
   "cell_type": "markdown",
   "id": "20e3096a-1524-4c9a-b8dd-8f81458cc399",
   "metadata": {
    "editable": false,
    "slideshow": {
     "slide_type": ""
    },
    "tags": []
   },
   "source": [
    "### Delete Operations"
   ]
  },
  {
   "cell_type": "code",
   "execution_count": null,
   "id": "c59651de-0d84-47c0-910d-12da778c6b52",
   "metadata": {
    "editable": false,
    "slideshow": {
     "slide_type": ""
    },
    "tags": []
   },
   "outputs": [],
   "source": [
    "// Delete the completed inception operation (optional cleanup)\n",
    "const opNameToDelete = operationsList[0].name;\n",
    "await client.operations().delete(opNameToDelete);\n",
    "console.log(`\\nDeleted operation: ${opNameToDelete}`);"
   ]
  },
  {
   "cell_type": "markdown",
   "id": "1636a51e-885b-42ca-8e8f-8c86e9dae6f5",
   "metadata": {
    "editable": false,
    "slideshow": {
     "slide_type": ""
    },
    "tags": []
   },
   "source": [
    "<div class=\"alert alert-primary\">\n",
    "<b>📝 SUMMARY</b><hr>\n",
    "To create a new AID using Signify-ts and a Keria agent:\n",
    "<ol>\n",
    "<li>Use <code>client.identifiers().create(alias, config)</code>. Provide a client-side <code>alias</code> for the AID and a <code>config</code> object specifying parameters like <code>toad</code> (Threshold of Accountable Duplicity) and <code>wits</code> (list of witness AIDs).</li>\n",
    "<li>The <code>create()</code> method returns an object from which you can get a long-running <code>operation</code> object using <code>.op()</code>. This operation is initially marked as not <code>done</code>.</li>\n",
    "<li>Use <code>client.operations().wait(operationName)</code> to poll the Keria agent until the operation completes. The resolved object will have\n",
    "<code>done: true</code> and its <code>response</code> field will contain the signed inception event (<code>icp</code>) of the newly created AID.</li>\n",
    "<li>Operations can be listed with <code>client.operations().list()</code> and deleted with <code>client.operations().delete(operationName)</code>.</li>\n",
    "</ol>\n",
    "This process highlights the asynchronous nature of Keria operations that involve agent-side processing and network interactions.\n",
    "</div>"
   ]
  },
  {
   "cell_type": "code",
   "execution_count": null,
   "id": "d05cacf5-3be6-4b85-9eb7-fa88784d7dfe",
   "metadata": {
    "editable": true,
    "slideshow": {
     "slide_type": ""
    },
    "tags": []
   },
   "outputs": [],
   "source": []
  }
 ],
 "metadata": {
  "kernelspec": {
   "display_name": "Deno",
   "language": "typescript",
   "name": "deno"
  },
  "language_info": {
   "codemirror_mode": "typescript",
   "file_extension": ".ts",
   "mimetype": "text/x.typescript",
   "name": "typescript",
   "nbconvert_exporter": "script",
   "pygments_lexer": "typescript",
   "version": "5.8.3"
  }
 },
 "nbformat": 4,
 "nbformat_minor": 5
}
