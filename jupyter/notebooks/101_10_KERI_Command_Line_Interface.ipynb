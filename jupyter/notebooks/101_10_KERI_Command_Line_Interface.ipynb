{
 "cells": [
  {
   "cell_type": "markdown",
   "id": "8c71ee0b-296d-4fff-a6e8-0f6993d2de6d",
   "metadata": {
    "editable": false,
    "slideshow": {
     "slide_type": ""
    },
    "tags": []
   },
   "source": [
    "# Understanding the KERI Command Line Interface (KLI)"
   ]
  },
  {
   "cell_type": "markdown",
   "id": "344de261-c245-4a30-87cc-5a276b0f40bc",
   "metadata": {
    "editable": false,
    "slideshow": {
     "slide_type": ""
    },
    "tags": []
   },
   "source": [
    "<div class=\"alert alert-primary\">\n",
    "  <b>🎯 OBJECTIVE</b><hr>\n",
    "Introduce the KERI Command Line Interface (KLI) and demonstrate some of its basic utility commands.\n",
    "</div>"
   ]
  },
  {
   "cell_type": "markdown",
   "id": "2ac4ea9a-d21e-4950-8885-30d28f560cee",
   "metadata": {
    "editable": false,
    "slideshow": {
     "slide_type": ""
    },
    "tags": []
   },
   "source": [
    "## Using KLI in Notebooks\n",
    "\n",
    "Throughout these notebooks, you will interact with the KERI protocol using the **KLI**. The KLI is the standard text-based tool for managing identifiers and infrastructure directly from your computer's terminal. \n",
    "\n",
    "Since you are working within Jupyter notebooks, the KLI commands are written with an exclamation mark prefix (`!`). This tells the notebook environment to run the command in the underlying system shell, rather than as Python code. So, you'll frequently see commands structured like this:\n",
    "\n",
    "`!kli <command> [options]`  \n",
    "\n",
    "**What can you do with KLI?**\n",
    "\n",
    "The KLI provides a wide range of functionalities. Key capabilities include:\n",
    "- **Identifier management**: Management and creation of keystores and identifiers\n",
    "- **Utility functions**: Functions to facilitate KERI-related operations\n",
    "- **Credential management**: Creation of credentials\n",
    "- **Comunication operations**: Establishing connections between AIDs\n",
    "- **IPEX actions**: To issue and present credentials\n",
    "- **Others**: The KLI provides commands for most of the features available in the KERI and ACDC protocol implementations.\n",
    "\n"
   ]
  },
  {
   "cell_type": "markdown",
   "id": "3ca2afe1-ffa3-4387-96ed-da86cdffb118",
   "metadata": {
    "editable": false,
    "slideshow": {
     "slide_type": ""
    },
    "tags": []
   },
   "source": [
    "<div class=\"alert alert-info\">\n",
    "  <b>ℹ️ NOTE</b><hr>\n",
    "    There are UI based methods to manage Identifiers, known as wallets, but for the purpose of this training, the KLI offers a good compromise between ease of use and visibility of technical details. \n",
    "</div>"
   ]
  },
  {
   "cell_type": "markdown",
   "id": "bbcd7aae-da03-4467-a47c-853b5952a995",
   "metadata": {
    "editable": false,
    "slideshow": {
     "slide_type": ""
    },
    "tags": []
   },
   "source": [
    "## Overview of Basic Utilities\n",
    "\n",
    "Let's explore some helpful commands available in the **KERI Command Line Interface (KLI)**.\n",
    "\n",
    "This isn't a complete list of every command, but it covers some essential utilities that you'll find useful as you work with KERI."
   ]
  },
  {
   "cell_type": "markdown",
   "id": "37090141-3139-4c22-8591-eea114f5d537",
   "metadata": {
    "editable": false,
    "slideshow": {
     "slide_type": ""
    },
    "tags": []
   },
   "source": [
    "**KERI library version**"
   ]
  },
  {
   "cell_type": "code",
   "execution_count": null,
   "id": "bf668848-930f-4042-a524-b21378180eb1",
   "metadata": {
    "editable": false,
    "execution": {
     "iopub.execute_input": "2025-05-23T23:34:01.683552Z",
     "iopub.status.busy": "2025-05-23T23:34:01.683365Z",
     "iopub.status.idle": "2025-05-23T23:34:02.068951Z",
     "shell.execute_reply": "2025-05-23T23:34:02.068474Z"
    },
    "slideshow": {
     "slide_type": ""
    },
    "tags": []
   },
   "outputs": [],
   "source": [
    "!kli version"
   ]
  },
  {
   "cell_type": "markdown",
   "id": "519e873d-f81d-4c7d-8be5-d2caafdcca80",
   "metadata": {
    "editable": true,
    "slideshow": {
     "slide_type": ""
    },
    "tags": []
   },
   "source": [
    "**Generate a salt**: Create a new random salt (or seed). A salt is a random value used as an input when generating cryptographic key pairs to help ensure their uniqueness and security."
   ]
  },
  {
   "cell_type": "code",
   "execution_count": null,
   "id": "5a7fc70a-e0c1-44d5-aa5d-8b48985041b1",
   "metadata": {
    "editable": false,
    "execution": {
     "iopub.execute_input": "2025-05-23T23:34:02.070515Z",
     "iopub.status.busy": "2025-05-23T23:34:02.070182Z",
     "iopub.status.idle": "2025-05-23T23:34:02.459231Z",
     "shell.execute_reply": "2025-05-23T23:34:02.458791Z"
    },
    "slideshow": {
     "slide_type": ""
    },
    "tags": []
   },
   "outputs": [],
   "source": [
    "# This will output a qualified base64 string representing the salt\n",
    "!kli salt"
   ]
  },
  {
   "cell_type": "markdown",
   "id": "48e99e59-22b4-4938-b68d-0be81115b801",
   "metadata": {
    "editable": false,
    "slideshow": {
     "slide_type": ""
    },
    "tags": []
   },
   "source": [
    "**Generate a passcode**: The passcode is used to encrypt your keystore, providing an additional layer of protection."
   ]
  },
  {
   "cell_type": "code",
   "execution_count": null,
   "id": "578f8c15-4b46-4c51-bb09-3a9eb97f5b42",
   "metadata": {
    "editable": false,
    "execution": {
     "iopub.execute_input": "2025-05-23T23:34:02.460810Z",
     "iopub.status.busy": "2025-05-23T23:34:02.460539Z",
     "iopub.status.idle": "2025-05-23T23:34:02.849275Z",
     "shell.execute_reply": "2025-05-23T23:34:02.848783Z"
    },
    "slideshow": {
     "slide_type": ""
    },
    "tags": []
   },
   "outputs": [],
   "source": [
    "# This will output a random string suitable for use as an encryption passcode\n",
    "!kli passcode generate"
   ]
  },
  {
   "cell_type": "markdown",
   "id": "551e61a0-6c18-4ced-99be-5f6a2b57e7e2",
   "metadata": {
    "editable": false,
    "slideshow": {
     "slide_type": ""
    },
    "tags": []
   },
   "source": [
    "**Print a timestamp**"
   ]
  },
  {
   "cell_type": "code",
   "execution_count": null,
   "id": "5bf69bee-c4dd-42ec-abc6-f3055a34ce2e",
   "metadata": {
    "editable": false,
    "execution": {
     "iopub.execute_input": "2025-05-23T23:34:02.850770Z",
     "iopub.status.busy": "2025-05-23T23:34:02.850577Z",
     "iopub.status.idle": "2025-05-23T23:34:03.232572Z",
     "shell.execute_reply": "2025-05-23T23:34:03.232193Z"
    },
    "slideshow": {
     "slide_type": ""
    },
    "tags": []
   },
   "outputs": [],
   "source": [
    "!kli time"
   ]
  },
  {
   "cell_type": "markdown",
   "id": "1a0c23f7-9ea0-4c9b-94a5-25d269cb2317",
   "metadata": {
    "editable": false,
    "slideshow": {
     "slide_type": ""
    },
    "tags": []
   },
   "source": [
    "**Display help menu**"
   ]
  },
  {
   "cell_type": "code",
   "execution_count": null,
   "id": "027d7f61-836b-4c0e-a5d2-c9d67932128b",
   "metadata": {
    "editable": false,
    "execution": {
     "iopub.execute_input": "2025-05-23T23:34:03.234142Z",
     "iopub.status.busy": "2025-05-23T23:34:03.233999Z",
     "iopub.status.idle": "2025-05-23T23:34:03.590430Z",
     "shell.execute_reply": "2025-05-23T23:34:03.589876Z"
    },
    "slideshow": {
     "slide_type": ""
    },
    "tags": []
   },
   "outputs": [],
   "source": [
    "!kli -h"
   ]
  }
 ],
 "metadata": {
  "kernelspec": {
   "display_name": "Python 3 (ipykernel)",
   "language": "python",
   "name": "python3"
  },
  "language_info": {
   "codemirror_mode": {
    "name": "ipython",
    "version": 3
   },
   "file_extension": ".py",
   "mimetype": "text/x-python",
   "name": "python",
   "nbconvert_exporter": "python",
   "pygments_lexer": "ipython3",
   "version": "3.12.9"
  }
 },
 "nbformat": 4,
 "nbformat_minor": 5
}
