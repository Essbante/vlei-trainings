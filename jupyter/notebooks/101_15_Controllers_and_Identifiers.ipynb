{
 "cells": [
  {
   "cell_type": "markdown",
   "id": "ace84c81-21f5-46f7-b0c0-830ededcb93d",
   "metadata": {
    "editable": false,
    "slideshow": {
     "slide_type": ""
    },
    "tags": []
   },
   "source": [
    "# Controllers and Identifiers"
   ]
  },
  {
   "cell_type": "markdown",
   "id": "ea37656f-b962-49f2-a79e-174ff370ef67",
   "metadata": {
    "editable": false,
    "slideshow": {
     "slide_type": ""
    },
    "tags": []
   },
   "source": [
    "<div class=\"alert alert-prymary\">\n",
    "  <b>🎯 OBJECTIVE</b><hr>\n",
    "Explain the fundamental KERI concepts of Autonomic Identifiers (AIDs), the Controller entity, and the Key Event Log (KEL).\n",
    "</div>"
   ]
  },
  {
   "cell_type": "markdown",
   "id": "9405b315-12ee-4b4a-a3af-192b6531b252",
   "metadata": {
    "editable": false,
    "slideshow": {
     "slide_type": ""
    },
    "tags": []
   },
   "source": [
    "Before we dive into creating identifiers and doing operations with the KLI, let's understand two fundamental concepts: **Identifiers** and the **Controller**.\n",
    "\n",
    "## What is an Identifier?\n",
    "\n",
    "Identifiers are a generic term; they exist in many forms, but here we are concerned with digital identifiers. In a general sense, an identifier is a name, label, or sequence of characters used to uniquely identify something within a given context. Identifiers are useful to assign claims to something or to locate a resource. Common examples of identifiers are domain names, an email, an ID Number, and so on. \n",
    "\n",
    "KERI identifiers are called **Autonomic Identifier (AID)**. They have properties that give them additional capabilities compared to traditional digital identifiers. Here's what makes them different:\n",
    "- **Provide asymmetric key features:** Beyond being an identifier, AIDs provide signing and verification capabilities via public key\n",
    "- **Cryptographically Bound Control:** AIDs are linked to one or more cryptographic key pairs (public/private) from their moment of creation; this binding forms the basis of their security and allows the holder of the private key(s) to control the identifier and prove that control through digital signatures.\n",
    "- **Universally Unique:** Like standard UUIDs, AIDs are designed to be globally unique without needing a central issuing authority, thanks to their cryptographic foundation.  \n",
    "- **Self-Managed:** Unlike traditional identifiers (like usernames or domain names) that rely on central administrators or registries, an AID is managed directly by its owner(s) — known as the Controller — through cryptographic means (specifically, their private keys). \n",
    "- **Self-Certifying:** An AID inherently proves its own authenticity. Its validity stems directly from its cryptographic link to its controlling keys, established at its creation, not from an external authority vouching for it.   \n",
    "- **Control Over Time:** AIDs are designed for persistent control. The identifier's control history is maintained in a verifiable **key event log (KEL)**, allowing keys to be rotated (changed) securely over time without abandoning the identifier itself, even if old keys are compromised.   \n",
    "- **Authenticates & Authorizes:** The cryptographic nature of an AID allows its Controller to prove their control (authenticate) directly and grant permissions (authorize actions or access related to the AID) without needing a third-party system.\n",
    "- **Multi-Signature Control (Multisig):** An AID doesn't have to be controlled by just one Controller. KERI supports configurations where multiple key pairs (held by one or multiple Controllers) are required to authorize actions. This can involve needing a specific number of signatures (e.g., 3 out of 5) or advanced weighted threshold multi-signature schemes.   \n",
    "- **Secure Key Rotation (Pre-rotation):** When control keys need to be changed (rotated), KERI uses a highly secure \"pre-rotation\" method. In a rotation event, a secure commitment is made to the next set of keys (hiding the actual public keys using a hash). This means the private keys for the next rotation remain unexposed and secure until they are actually needed, protecting the rotation process itself from being hijacked.   \n",
    "- **Delegation of Authority:** A Controller of one AID can securely grant specific, often limited or revokable, authority to another AID (a delegate).\n",
    "\n",
    "Don't worry if these features raise many questions right now. We will explain the 'how' behind them gradually in the sections to come."
   ]
  },
  {
   "cell_type": "markdown",
   "id": "40116638-b461-496e-bc90-30c9ffd2439f",
   "metadata": {
    "editable": false,
    "slideshow": {
     "slide_type": ""
    },
    "tags": []
   },
   "source": [
    "## What is a Controller?\n",
    "\n",
    "In KERI, the Controller is the entity that holds the private cryptographic key(s) associated with an Autonomic Identifier and is therefore responsible for managing it. This possession of the private key(s) is the source of its authority and control over the AID.  \n",
    "\n",
    "So, a Controller is an entity managing their identifiers. Some scenarios can be:\n",
    "- An individual managing their own digital identity\n",
    "- An organization managing its official identifier.\n",
    "- An autonomous piece of software or device managing its own identifier.\n",
    "- An autonomous piece of software acting on behalf of someone else.   \n",
    "- A group managing a shared identifier via multi-signature schemes.\n",
    "\n",
    "There may be other scenarios that define the Controller; the relevant aspect is that it is an entity with access to the AID private keys and can use them.\n",
    "\n",
    "While the Controller holds authority over the AID, it relies on software to operate and maintain it. In this training, you’ll be using the KLI as the Controller’s tool for interacting with and managing AIDs."
   ]
  },
  {
   "cell_type": "markdown",
   "id": "2ada6805-b6ad-4c0d-840e-0947dfc47642",
   "metadata": {
    "editable": false,
    "slideshow": {
     "slide_type": ""
    },
    "tags": []
   },
   "source": [
    "## The Key Event Log\n",
    "\n",
    "The Controller's authority isn't just a claim; it's proven using cryptography. Controllers possess the private keys associated with their AID. They use these keys to sign messages and authorize actions. Every significant action taken by a Controller regarding their AID – like creating it (inception), changing its keys (rotation), or other interactions – is recorded as a **Key Event**.\n",
    "\n",
    "These Key Events are stored sequentially in a **Key Event Log (KEL)**. Think of the KEL as the official history book for an AID. Here are some details about the KEL\n",
    "\n",
    "* It starts with the AID's \"birth certificate\" – the **Inception Event**.\n",
    "* Every subsequent authorized change (like a key rotation) is added as a new entry, cryptographically linked to the previous one.\n",
    "* Anyone can potentially view the KEL to verify the AID's history and current state, but only the Controller(s) can add new, valid events to it.\n",
    "* There may be multiple copies of a KEL; they can be distributed across a network of witnesses, a concept we will dive deeper into later."
   ]
  },
  {
   "cell_type": "markdown",
   "id": "cd1e1e9d-3b55-470e-892d-9f997b38ec6b",
   "metadata": {
    "editable": false,
    "slideshow": {
     "slide_type": ""
    },
    "tags": []
   },
   "source": [
    "## Advanced Forms of Control\n",
    "\n",
    "Control in KERI can be quite nuanced. While the Controller ultimately holds authority, they can sometimes grant specific permissions to others:\n",
    "\n",
    "* **Signing vs. Rotation Authority**: A Controller might keep the power to change the AID's keys (rotation authority) but allow another entity (a \"custodian\") to perform more routine actions like signing messages (signing authority).\n",
    "* **Delegation**: A Controller can grant some level of authority to a completely separate Delegated Identifier. This allows for creating hierarchies and complex organizational structures.\n",
    "\n",
    "We'll explore these advanced concepts like delegation and multi-sig configurations in later sections."
   ]
  },
  {
   "cell_type": "markdown",
   "id": "ac8755c3-11a3-4822-b075-b2eb36690da4",
   "metadata": {
    "editable": false,
    "slideshow": {
     "slide_type": ""
    },
    "tags": []
   },
   "source": [
    "<div class=\"alert alert-prymary\">\n",
    "  <b>📝 SUMMARY</b><hr>\n",
    "<p>Fundamental KERI concepts:</p>\n",
    "<ul>\n",
    "    <li><strong>Autonomic Identifiers (AIDs):</strong> These are KERI's unique, self-managed digital identifiers. Unlike traditional IDs, they are cryptographically bound to key pairs from creation, are self-certifying (requiring no central authority), and support features like secure key rotation (pre-rotation), multi-signature control, and delegation.</li>\n",
    "    <li><strong>Controller:</strong> The entity (person, organization, software) holding the private key(s) for an AID, giving it the authority to manage the identifier and authorize actions.</li>\n",
    "    <li><strong>Key Event Log (KEL):</strong> The secure, append-only, verifiable history for an AID. It records all significant actions (like creation and key rotations) signed by the Controller, allowing anyone to track the identifier's control provenance.</li>\n",
    "</ul>\n",
    "<p>In essence, Controllers use their private keys to manage AIDs, and all authoritative actions are recorded in the KEL.</p>\n",
    "</div>"
   ]
  }
 ],
 "metadata": {
  "kernelspec": {
   "display_name": "Python 3 (ipykernel)",
   "language": "python",
   "name": "python3"
  },
  "language_info": {
   "codemirror_mode": {
    "name": "ipython",
    "version": 3
   },
   "file_extension": ".py",
   "mimetype": "text/x-python",
   "name": "python",
   "nbconvert_exporter": "python",
   "pygments_lexer": "ipython3",
   "version": "3.12.9"
  }
 },
 "nbformat": 4,
 "nbformat_minor": 5
}
