{
 "cells": [
  {
   "cell_type": "markdown",
   "id": "8943f53e-6d8b-44c1-9fd6-dd69a024c5e0",
   "metadata": {
    "editable": false,
    "slideshow": {
     "slide_type": ""
    },
    "tags": []
   },
   "source": [
    "# KLI Operations: Connecting Controllers"
   ]
  },
  {
   "cell_type": "markdown",
   "id": "7bbe5b49-5c09-4274-bb2e-29362204ec78",
   "metadata": {
    "editable": false,
    "slideshow": {
     "slide_type": ""
    },
    "tags": []
   },
   "source": [
    "<div class=\"alert alert-primary\">\n",
    "  <b>🎯 OBJECTIVE</b><hr>\n",
    "Explain how to establish a secure, mutually authenticated connection between two KERI controllers using Out-of-Band Introductions (OOBIs) and challenge/response protocol to enhance trust.\n",
    "</div>"
   ]
  },
  {
   "cell_type": "markdown",
   "id": "ae3fdd7f-7e40-46fb-a4d6-0616a94dab39",
   "metadata": {
    "editable": false,
    "slideshow": {
     "slide_type": ""
    },
    "tags": []
   },
   "source": [
    "## Initial Controller Setup\n",
    "\n",
    "So far, we have only done basic operations with AIDs in an isolated way. That has limited use in practical applications; after all, establishing identity verification only becomes meaningful when interacting with others. In KERI, this interaction starts with controllers needing to discover and securely connect with each other.\n",
    "\n",
    "In our context, this means we need to establish connections between controllers. We've already seen a similar process when pairing transferable AIDs with witnesses. Now, let's explore how two controllers (a and b) can connect using Out-of-Band Introductions (OOBIs) and enhance trust with **challenge/response**.\n",
    "\n",
    "### Keystore Initialization\n",
    "For the example, you need to use two different keystores called `keystore-a` and `keystore-b`, both initialized using the `keystore_init_config.json` configuration. This means they will both load the same initial set of three witness contacts, providing endpoints where each controller's KEL (and thus key state) can be published and retrieved.\n"
   ]
  },
  {
   "cell_type": "code",
   "execution_count": null,
   "id": "52f18e1e-7d42-40df-be82-9a93a80c2020",
   "metadata": {
    "editable": false,
    "execution": {
     "iopub.execute_input": "2025-05-23T23:34:23.525756Z",
     "iopub.status.busy": "2025-05-23T23:34:23.525648Z",
     "iopub.status.idle": "2025-05-23T23:34:24.408455Z",
     "shell.execute_reply": "2025-05-23T23:34:24.408005Z"
    },
    "slideshow": {
     "slide_type": ""
    },
    "tags": []
   },
   "outputs": [],
   "source": [
    "keystore_a_name=\"keystore_a\"\n",
    "keystore_a_passcode=\"xSLg286d4iWiRg2mzGYca\"\n",
    "salt_a=\"0ABeuT2dErMrqFE5Dmrnc2Bq\"\n",
    "\n",
    "!kli init --name {keystore_a_name} --passcode {keystore_a_passcode} --salt {salt_a} \\\n",
    "    --config-dir ./config \\\n",
    "    --config-file keystore_init_config.json\n"
   ]
  },
  {
   "cell_type": "code",
   "execution_count": null,
   "id": "7fee7f1d-0800-4710-b63a-5388ae89b3b9",
   "metadata": {
    "editable": false,
    "execution": {
     "iopub.execute_input": "2025-05-23T23:34:24.409880Z",
     "iopub.status.busy": "2025-05-23T23:34:24.409663Z",
     "iopub.status.idle": "2025-05-23T23:34:25.398374Z",
     "shell.execute_reply": "2025-05-23T23:34:25.397842Z"
    },
    "slideshow": {
     "slide_type": ""
    },
    "tags": []
   },
   "outputs": [],
   "source": [
    "keystore_b_name=\"keystore_b\"\n",
    "\n",
    "keystore_b_passcode=\"LLF1NYii5L7jTMvw4gDar\"\n",
    "\n",
    "salt_b=\"0ADzG7sbUyw-MYIoUyQe5wxB\"\n",
    "\n",
    "!kli init --name {keystore_b_name} --passcode {keystore_b_passcode} --salt {salt_b} \\\n",
    "    --config-dir ./config \\\n",
    "    --config-file keystore_init_config.json"
   ]
  },
  {
   "cell_type": "markdown",
   "id": "733dd784-d0ad-4dfb-9fb1-c511f553cf1e",
   "metadata": {
    "editable": false,
    "scrolled": true,
    "slideshow": {
     "slide_type": ""
    },
    "tags": []
   },
   "source": [
    "### Identifier Inception\n",
    "Now, you need AIDs to represent the controllers. Create one transferable AID in each keystore, aliased `aid_a` and `aid_b` respectively. Use the aid_inception_config.json file, which specifies the initial set of witnesses for both AIDs. (While they share witnesses here, controllers could use different witness sets)."
   ]
  },
  {
   "cell_type": "code",
   "execution_count": null,
   "id": "42ff3d61-6311-4e56-84fd-5cb769a6632d",
   "metadata": {
    "editable": false,
    "execution": {
     "iopub.execute_input": "2025-05-23T23:34:25.400000Z",
     "iopub.status.busy": "2025-05-23T23:34:25.399775Z",
     "iopub.status.idle": "2025-05-23T23:34:27.479990Z",
     "shell.execute_reply": "2025-05-23T23:34:27.479520Z"
    },
    "slideshow": {
     "slide_type": ""
    },
    "tags": []
   },
   "outputs": [],
   "source": [
    "aid_a = \"aid_a\"\n",
    "\n",
    "!kli incept --name {keystore_a_name} \\\n",
    "    --passcode {keystore_a_passcode} \\\n",
    "    --alias {aid_a} \\\n",
    "    --file ./config/aid_inception_config.json\n"
   ]
  },
  {
   "cell_type": "code",
   "execution_count": null,
   "id": "ab38ff44-b065-40c3-a964-d29df9e5bbac",
   "metadata": {
    "editable": false,
    "execution": {
     "iopub.execute_input": "2025-05-23T23:34:27.481685Z",
     "iopub.status.busy": "2025-05-23T23:34:27.481535Z",
     "iopub.status.idle": "2025-05-23T23:34:29.568353Z",
     "shell.execute_reply": "2025-05-23T23:34:29.567824Z"
    },
    "slideshow": {
     "slide_type": ""
    },
    "tags": []
   },
   "outputs": [],
   "source": [
    "aid_b = \"aid_b\"\n",
    "\n",
    "!kli incept --name {keystore_b_name} \\\n",
    "    --passcode {keystore_b_passcode} \\\n",
    "    --alias {aid_b} \\\n",
    "    --file ./config/aid_inception_config.json"
   ]
  },
  {
   "cell_type": "markdown",
   "id": "49b87bb6-c493-4859-8e29-9d5ffb80c3e2",
   "metadata": {
    "editable": false,
    "slideshow": {
     "slide_type": ""
    },
    "tags": []
   },
   "source": [
    "## OOBI Exchange for Discovery\n",
    "\n",
    "With your AIDs established, you need a way for them to find each other. This is where Out-of-Band Introductions (OOBIs) come in. You have used OOBIs before; to recapitulate, an OOBI is a specialized URL associated with an AID and how to reach one of its endpoints (like a witness). \n"
   ]
  },
  {
   "cell_type": "markdown",
   "id": "d1888c81-22fa-4c99-a08e-9c64060e5f52",
   "metadata": {
    "editable": false,
    "slideshow": {
     "slide_type": ""
    },
    "tags": []
   },
   "source": [
    "### Generating OOBI URLs\n",
    "\n",
    "Use the `kli oobi generate` command to create OOBIs for your AIDs. Specify which AID (`--alias`) within which keystore (`--name`) should generate the OOBI, and importantly, the role associated with the endpoint included in the OOBI URL. Here, `--role witness` means the OOBI URL will point to one of the AID's designated witnesses, providing an indirect way to fetch the AID's KEL."
   ]
  },
  {
   "cell_type": "code",
   "execution_count": null,
   "id": "754bc65b-97cd-4310-ad0b-ab1ddd45ac98",
   "metadata": {
    "editable": false,
    "execution": {
     "iopub.execute_input": "2025-05-23T23:34:29.569974Z",
     "iopub.status.busy": "2025-05-23T23:34:29.569638Z",
     "iopub.status.idle": "2025-05-23T23:34:29.991012Z",
     "shell.execute_reply": "2025-05-23T23:34:29.990586Z"
    },
    "slideshow": {
     "slide_type": ""
    },
    "tags": []
   },
   "outputs": [],
   "source": [
    "!kli oobi generate --name {keystore_a_name} \\\n",
    "    --passcode {keystore_a_passcode} \\\n",
    "    --alias {aid_a} \\\n",
    "    --role witness"
   ]
  },
  {
   "cell_type": "code",
   "execution_count": null,
   "id": "871cc81f-97e7-4665-b482-05c24b1568be",
   "metadata": {
    "editable": false,
    "execution": {
     "iopub.execute_input": "2025-05-23T23:34:29.992580Z",
     "iopub.status.busy": "2025-05-23T23:34:29.992223Z",
     "iopub.status.idle": "2025-05-23T23:34:30.415412Z",
     "shell.execute_reply": "2025-05-23T23:34:30.414653Z"
    },
    "slideshow": {
     "slide_type": ""
    },
    "tags": []
   },
   "outputs": [],
   "source": [
    "!kli oobi generate --name {keystore_b_name} \\\n",
    "    --passcode {keystore_b_passcode} \\\n",
    "    --alias {aid_b} \\\n",
    "    --role witness"
   ]
  },
  {
   "cell_type": "markdown",
   "id": "60c2e661-8beb-446a-b87b-f1ccae111bdf",
   "metadata": {
    "editable": false,
    "slideshow": {
     "slide_type": ""
    },
    "tags": []
   },
   "source": [
    "Note that the command returns multiple OOBIs, one for each witness endpoint configured for the AID. Any of these can be used to initiate contact. For simplicity, we'll capture the first OOBI URL generated for each AID into the variables `oobi_a` and `oobi_b`."
   ]
  },
  {
   "cell_type": "code",
   "execution_count": null,
   "id": "3a5f2d54-65d7-4ea8-a3c4-d71004d8485f",
   "metadata": {
    "editable": false,
    "execution": {
     "iopub.execute_input": "2025-05-23T23:34:30.417125Z",
     "iopub.status.busy": "2025-05-23T23:34:30.416931Z",
     "iopub.status.idle": "2025-05-23T23:34:31.054721Z",
     "shell.execute_reply": "2025-05-23T23:34:31.054271Z"
    },
    "slideshow": {
     "slide_type": ""
    },
    "tags": []
   },
   "outputs": [],
   "source": [
    "# Imports and Utility functions\n",
    "from scripts.utils import exec\n",
    "\n",
    "command_a = f\"kli oobi generate --name {keystore_a_name} --alias {aid_a} --passcode {keystore_a_passcode} --role witness\"\n",
    "oobi_a = exec(command_a)\n",
    "\n",
    "command_b = f\"kli oobi generate --name {keystore_b_name} --alias {aid_b} --passcode {keystore_b_passcode} --role witness\"\n",
    "oobi_b = exec(command_b)"
   ]
  },
  {
   "cell_type": "markdown",
   "id": "0ec183e5-3553-4001-9404-25e9b6858cda",
   "metadata": {
    "editable": false,
    "slideshow": {
     "slide_type": ""
    },
    "tags": []
   },
   "source": [
    "### Resolving OOBI URLs \n",
    "\n",
    "Now that `aid_a` and `aid_b` each have an OOBI, they need to resolve them. The `kli oobi resolve` command handles this.\n",
    "\n",
    "When `keystore_a` resolves `oobi_b`, its uses the URL to contact the specified witness. The witness provides the KEL for `aid_b`. `keystore_a` then verifies the entire KEL cryptographically, ensuring its integrity and confirming the public keys associated with `aid_b`. A human-readable alias `--oobi-alias` is assigned for easy reference later. The same process happens when `keystore_b` resolves `oobi_a`.\n"
   ]
  },
  {
   "cell_type": "code",
   "execution_count": null,
   "id": "6142d3a6-395d-4922-9f07-ec4c5cca362e",
   "metadata": {
    "editable": false,
    "execution": {
     "iopub.execute_input": "2025-05-23T23:34:31.056119Z",
     "iopub.status.busy": "2025-05-23T23:34:31.055912Z",
     "iopub.status.idle": "2025-05-23T23:34:31.760629Z",
     "shell.execute_reply": "2025-05-23T23:34:31.759941Z"
    },
    "slideshow": {
     "slide_type": ""
    },
    "tags": []
   },
   "outputs": [],
   "source": [
    "!kli oobi resolve --name {keystore_a_name} \\\n",
    "    --passcode {keystore_a_passcode} \\\n",
    "    --oobi-alias {aid_b} \\\n",
    "    --oobi {oobi_b}"
   ]
  },
  {
   "cell_type": "code",
   "execution_count": null,
   "id": "d7732372-f390-44bd-bf8b-12071028d35c",
   "metadata": {
    "editable": false,
    "execution": {
     "iopub.execute_input": "2025-05-23T23:34:31.762549Z",
     "iopub.status.busy": "2025-05-23T23:34:31.761896Z",
     "iopub.status.idle": "2025-05-23T23:34:32.468130Z",
     "shell.execute_reply": "2025-05-23T23:34:32.467572Z"
    },
    "slideshow": {
     "slide_type": ""
    },
    "tags": []
   },
   "outputs": [],
   "source": [
    "!kli oobi resolve --name {keystore_b_name} \\\n",
    "    --passcode {keystore_b_passcode} \\\n",
    "    --oobi-alias {aid_a} \\\n",
    "    --oobi {oobi_a}"
   ]
  },
  {
   "cell_type": "markdown",
   "id": "a18091ae-a1a8-4d3b-a806-8d19e493b159",
   "metadata": {
    "editable": false,
    "slideshow": {
     "slide_type": ""
    },
    "tags": []
   },
   "source": [
    "### Listing contacts \n",
    "\n",
    "After successful resolution, the other AID appears in the keystore's contact list. You can verify this using `kli contacts list`. You'll see the newly resolved AID alongside the witnesses loaded during the keystore initialization. This confirms that the keystore now knows the other AID's identifier prefix and has verified its KEL."
   ]
  },
  {
   "cell_type": "code",
   "execution_count": null,
   "id": "44830a87-928c-407c-949c-72e3452cd810",
   "metadata": {
    "editable": false,
    "execution": {
     "iopub.execute_input": "2025-05-23T23:34:32.469622Z",
     "iopub.status.busy": "2025-05-23T23:34:32.469501Z",
     "iopub.status.idle": "2025-05-23T23:34:32.891813Z",
     "shell.execute_reply": "2025-05-23T23:34:32.891409Z"
    },
    "slideshow": {
     "slide_type": ""
    },
    "tags": []
   },
   "outputs": [],
   "source": [
    "!kli contacts list --name {keystore_a_name} \\\n",
    "    --passcode {keystore_a_passcode}"
   ]
  },
  {
   "cell_type": "markdown",
   "id": "d8ca023b-53ef-45c3-a8d1-9b358351a894",
   "metadata": {
    "editable": false,
    "slideshow": {
     "slide_type": ""
    },
    "tags": []
   },
   "source": [
    "## Authenticating Control with Challenge-Response\n",
    "\n",
    "Resolving an OOBI and verifying the KEL is a crucial first step. It confirms that the AID exists and that its key state history is cryptographically sound. However, it doesn't definitively prove that the entity you just connected with over the network is the legitimate controller you intend to interact with. You've verified the identifier, but not necessarily the authenticity of the current operator at the other end of the connection. Network connections can be vulnerable to Man-in-the-Middle (MITM) attacks or other deceptions.\n",
    "\n",
    "This is where the challenge-response mechanism becomes essential. It provides a way to verify that the controller on the other side genuinely possesses the private keys corresponding to the public keys in the KEL you just verified. This adds a critical layer of authentication on top of the OOBI discovery process.\n",
    "\n",
    "This is how it works:\n",
    "\n",
    "One party (the challenger, say `aid_b`) generates a random challenge phrase.\n",
    "The challenger sends this phrase to the other party (`aid_a`) through an Out-of-Band (OOB) channel. This means using a communication method different from the KERI network connection (e.g., a video call chat, phone call, secure email) to prevent an attacker on the  KERI network channel from intercepting or modifying the challenge. Using the same channel for both the challenge words and the response defeats the purpose of protecting against MITM attacks. \n",
    "\n",
    "The challenged party (`aid_a`) receives the phrase and uses their current private key to sign it.\n",
    "`aid_a` sends the original phrase and the resulting signature back to `aid_b` over the KERI connection.\n",
    "`aid_b` verifies two things: \n",
    "- that the returned phrase matches the one originally sent, and \n",
    "-  that the signature correctly verifies against the public key associated with `aid_a` in its verified KEL.\n",
    "\n",
    "If the verification succeeds, `aid_b` now has strong assurance that they are communicating with the entity that truly controls aid_a's private keys. This process is typically done mutually, with `aid_a` also challenging `aid_b`.\n",
    "\n",
    "You can generate the challenge phrases using `kli challenge generate`. The code below will store them in variables for later use in the commands."
   ]
  },
  {
   "cell_type": "code",
   "execution_count": null,
   "id": "fbf4c346-8962-4537-a941-cf3af58b03d4",
   "metadata": {
    "editable": false,
    "execution": {
     "iopub.execute_input": "2025-05-23T23:34:32.893355Z",
     "iopub.status.busy": "2025-05-23T23:34:32.893208Z",
     "iopub.status.idle": "2025-05-23T23:34:33.853022Z",
     "shell.execute_reply": "2025-05-23T23:34:33.852518Z"
    },
    "slideshow": {
     "slide_type": ""
    },
    "tags": []
   },
   "outputs": [],
   "source": [
    "!kli challenge generate --out string\n",
    "\n",
    "phrase_a = exec(\"kli challenge generate --out string\")\n",
    "\n",
    "phrase_b = exec(\"kli challenge generate --out string\")"
   ]
  },
  {
   "cell_type": "markdown",
   "id": "f1294404-96a9-4c1c-ab26-d105e8b85b14",
   "metadata": {
    "editable": false,
    "slideshow": {
     "slide_type": ""
    },
    "tags": []
   },
   "source": [
    "Now, simulate the OOB exchange: `aid_b` sends `phrase_b` to `aid_a`, and `aid_a` sends `phrase_a` to `aid_b`. Each party then uses `kli challenge respond` to sign the phrase they received and `kli challenge verify` to check the response from the other party.\n"
   ]
  },
  {
   "cell_type": "code",
   "execution_count": null,
   "id": "f647e8b1-9fc5-4e0d-a6df-2109c299f533",
   "metadata": {
    "editable": false,
    "execution": {
     "iopub.execute_input": "2025-05-23T23:34:33.854839Z",
     "iopub.status.busy": "2025-05-23T23:34:33.854473Z",
     "iopub.status.idle": "2025-05-23T23:34:34.462551Z",
     "shell.execute_reply": "2025-05-23T23:34:34.462092Z"
    },
    "slideshow": {
     "slide_type": ""
    },
    "tags": []
   },
   "outputs": [],
   "source": [
    "print(phrase_a)\n",
    "\n",
    "!kli challenge respond --name {keystore_b_name} \\\n",
    "    --passcode {keystore_b_passcode} \\\n",
    "    --alias {aid_b} \\\n",
    "    --words \"{phrase_a}\" \\\n",
    "    --recipient {aid_a}"
   ]
  },
  {
   "cell_type": "code",
   "execution_count": null,
   "id": "375046c1-2aa8-4ab9-a371-f98a602148c2",
   "metadata": {
    "editable": false,
    "execution": {
     "iopub.execute_input": "2025-05-23T23:34:34.464030Z",
     "iopub.status.busy": "2025-05-23T23:34:34.463851Z",
     "iopub.status.idle": "2025-05-23T23:34:36.920648Z",
     "shell.execute_reply": "2025-05-23T23:34:36.920193Z"
    },
    "slideshow": {
     "slide_type": ""
    },
    "tags": []
   },
   "outputs": [],
   "source": [
    "!kli challenge verify --name {keystore_a_name}  \\\n",
    "    --passcode {keystore_a_passcode} \\\n",
    "    --alias {aid_a} \\\n",
    "    --words \"{phrase_a}\" \\\n",
    "    --signer {aid_b}"
   ]
  },
  {
   "cell_type": "code",
   "execution_count": null,
   "id": "b5523151-2d2b-4c3a-9649-4bc0ae13efa9",
   "metadata": {
    "editable": false,
    "execution": {
     "iopub.execute_input": "2025-05-23T23:34:36.922090Z",
     "iopub.status.busy": "2025-05-23T23:34:36.921871Z",
     "iopub.status.idle": "2025-05-23T23:34:37.534860Z",
     "shell.execute_reply": "2025-05-23T23:34:37.534421Z"
    },
    "slideshow": {
     "slide_type": ""
    },
    "tags": []
   },
   "outputs": [],
   "source": [
    "print(phrase_b)\n",
    "\n",
    "!kli challenge respond --name {keystore_a_name} \\\n",
    "    --passcode {keystore_a_passcode} \\\n",
    "    --alias {aid_a} \\\n",
    "    --words \"{phrase_b}\" \\\n",
    "    --recipient {aid_b}"
   ]
  },
  {
   "cell_type": "code",
   "execution_count": null,
   "id": "76f551d8-d04e-41c1-8f82-b9dba5f88c86",
   "metadata": {
    "editable": false,
    "execution": {
     "iopub.execute_input": "2025-05-23T23:34:37.536734Z",
     "iopub.status.busy": "2025-05-23T23:34:37.536601Z",
     "iopub.status.idle": "2025-05-23T23:34:39.993130Z",
     "shell.execute_reply": "2025-05-23T23:34:39.992677Z"
    },
    "slideshow": {
     "slide_type": ""
    },
    "tags": []
   },
   "outputs": [],
   "source": [
    "!kli challenge verify --name {keystore_b_name} \\\n",
    "    --passcode {keystore_b_passcode} \\\n",
    "    --alias {aid_b} \\\n",
    "    --words \"{phrase_b}\" \\\n",
    "    --signer {aid_a}"
   ]
  },
  {
   "cell_type": "markdown",
   "id": "c582f3e1-2306-4f5a-bd14-12c9cc0de874",
   "metadata": {
    "editable": false,
    "slideshow": {
     "slide_type": ""
    },
    "tags": []
   },
   "source": [
    "Successful verification on both sides establishes mutual authenticated control, significantly increasing the trust level between the two controllers beyond the initial OOBI resolution. They now know they are interacting with the legitimate key holders for each respective AID."
   ]
  },
  {
   "cell_type": "markdown",
   "id": "c2adea02-d2fb-4ea1-9e3b-8cca6d6bc48e",
   "metadata": {
    "editable": false,
    "slideshow": {
     "slide_type": ""
    },
    "tags": []
   },
   "source": [
    "<div class=\"alert alert-primary\">\n",
    "  <b>📝 SUMMARY</b><hr>\n",
    "After initial discovery (often via OOBIs), KERI controllers can enhance trust by verifying active control of private keys using a challenge-response protocol. This involves each controller generating a unique challenge phrase (kli challenge generate). One controller (aid_a) then responds to the other's challenge (phrase_b) by signing it (kli challenge respond), and the second controller (aid_b) verifies this response (kli challenge verify). This process is repeated reciprocally. Successful verification by both parties confirms they are interacting with the legitimate key holders for each AID.\n",
    "</div>"
   ]
  },
  {
   "cell_type": "code",
   "execution_count": null,
   "id": "516c35fd-2cd7-44f9-9ca5-bc3e373920f7",
   "metadata": {
    "editable": false,
    "execution": {
     "iopub.execute_input": "2025-05-23T23:34:39.995001Z",
     "iopub.status.busy": "2025-05-23T23:34:39.994597Z",
     "iopub.status.idle": "2025-05-23T23:34:39.998341Z",
     "shell.execute_reply": "2025-05-23T23:34:39.997977Z"
    },
    "slideshow": {
     "slide_type": ""
    },
    "tags": []
   },
   "outputs": [],
   "source": [
    "# Imports and Utility functions\n",
    "from scripts.utils import clear_keri\n",
    "clear_keri()"
   ]
  }
 ],
 "metadata": {
  "kernelspec": {
   "display_name": "Python 3 (ipykernel)",
   "language": "python",
   "name": "python3"
  },
  "language_info": {
   "codemirror_mode": {
    "name": "ipython",
    "version": 3
   },
   "file_extension": ".py",
   "mimetype": "text/x-python",
   "name": "python",
   "nbconvert_exporter": "python",
   "pygments_lexer": "ipython3",
   "version": "3.12.9"
  }
 },
 "nbformat": 4,
 "nbformat_minor": 5
}
