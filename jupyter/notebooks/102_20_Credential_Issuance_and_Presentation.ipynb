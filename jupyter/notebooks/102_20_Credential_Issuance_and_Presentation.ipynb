{
 "cells": [
  {
   "cell_type": "markdown",
   "id": "a9df47e7-e1f3-40ea-ba3b-5a3c90b5117f",
   "metadata": {},
   "source": [
    "# Credential Issuance and Presentation"
   ]
  },
  {
   "cell_type": "markdown",
   "id": "d39a7f2e-7d50-48ea-8044-f3ed21f59a45",
   "metadata": {},
   "source": [
    "<div class=\"alert alert-primary\">\n",
    "<b>🎯 OBJECTIVE</b><hr>\n",
    "Demonstrate the process of issuing an ACDC, also known as a Verifiable Credential (VC), from an Issuer to a Holder using the Issuance and Presentation Exchange (IPEX) protocol. This involves setting up clients, defining a credential schema, creating the credential, and securely transferring it.\n",
    "</div> "
   ]
  },
  {
   "cell_type": "markdown",
   "id": "90cce3a6-a467-4c16-ab4c-dcd1c4efea62",
   "metadata": {},
   "source": [
    "## Client setup"
   ]
  },
  {
   "cell_type": "code",
   "execution_count": null,
   "id": "eeea87da-b93e-4af8-8df5-fd2734a909c8",
   "metadata": {
    "jupyter": {
     "source_hidden": true
    },
    "scrolled": true
   },
   "outputs": [],
   "source": [
    "import { randomPasscode, Serder} from 'npm:signify-ts';\n",
    "import { initializeSignify, \n",
    "         initializeAndConnectClient,\n",
    "         createNewAID,\n",
    "         addEndRoleForAID,\n",
    "         generateOOBI,\n",
    "         resolveOOBI,\n",
    "         createTimestamp,\n",
    "         DEFAULT_IDENTIFIER_ARGS,\n",
    "         DEFAULT_TIMEOUT_MS,\n",
    "         DEFAULT_DELAY_MS,\n",
    "         DEFAULT_RETRIES,\n",
    "         ROLE_AGENT,\n",
    "         IPEX_GRANT_ROUTE,\n",
    "         IPEX_ADMIT_ROUTE,\n",
    "         IPEX_APPLY_ROUTE,\n",
    "         IPEX_OFFER_ROUTE,\n",
    "         SCHEMA_SERVER_HOST\n",
    "       } from './scripts_ts/utils.ts';\n",
    "\n",
    "// Clients setup\n",
    "// Initialize Issuer, Holder and Verifier CLients, Create AIDs for each one, assign 'agent' role, \n",
    "// and generate OOBIs \n",
    "\n",
    "// Issuer Client\n",
    "const issuerBran = randomPasscode()\n",
    "const issuerAidAlias = 'issuerAid'\n",
    "const { client: issuerClient } = await initializeAndConnectClient(issuerBran)\n",
    "const { aid: issuerAid} = await createNewAID(issuerClient, issuerAidAlias, DEFAULT_IDENTIFIER_ARGS);\n",
    "await addEndRoleForAID(issuerClient, issuerAidAlias, ROLE_AGENT);\n",
    "const issuerOOBI = await generateOOBI(issuerClient, issuerAidAlias, ROLE_AGENT);\n",
    "\n",
    "// Holder Client\n",
    "const holderBran = randomPasscode()\n",
    "const holderAidAlias = 'holderAid'\n",
    "const { client: holderClient } = await initializeAndConnectClient(holderBran)\n",
    "const { aid: holderAid} = await createNewAID(holderClient, holderAidAlias, DEFAULT_IDENTIFIER_ARGS);\n",
    "await addEndRoleForAID(holderClient, holderAidAlias, ROLE_AGENT);\n",
    "const holderOOBI = await generateOOBI(holderClient, holderAidAlias, ROLE_AGENT);\n",
    "\n",
    "// Verifier Client\n",
    "const verifierBran = randomPasscode()\n",
    "const verifierAidAlias = 'verifierAid'\n",
    "const { client: verifierClient } = await initializeAndConnectClient(verifierBran)\n",
    "const { aid: verifierAid} = await createNewAID(verifierClient, verifierAidAlias, DEFAULT_IDENTIFIER_ARGS);\n",
    "await addEndRoleForAID(verifierClient, verifierAidAlias, ROLE_AGENT);\n",
    "const verifierOOBI = await generateOOBI(verifierClient, verifierAidAlias, ROLE_AGENT);\n",
    "\n",
    "// Clients OOBI Resolution\n",
    "// Resolve OOBIs to establish connections Issuer-Holder, Holder-Verifier\n",
    "const issuerContactAlias = 'issuerContact';\n",
    "const holderContactAlias = 'holderContact';\n",
    "const verifierContactAlias = 'verifierContact';\n",
    "\n",
    "await resolveOOBI(issuerClient, holderOOBI, holderContactAlias);\n",
    "await resolveOOBI(holderClient, issuerOOBI, issuerContactAlias);\n",
    "await resolveOOBI(verifierClient, holderOOBI, holderContactAlias);\n",
    "await resolveOOBI(holderClient, verifierOOBI, verifierContactAlias);\n",
    "\n",
    "// Schemas OOBI Resolution\n",
    "// Resolve the Schemas from the Schema Server\n",
    "const schemaContactAlias = 'schemaContact';\n",
    "const schemaSaid = 'EGUPiCVO73M9worPwR3PfThAtC0AJnH5ZgwsXf6TzbVK';\n",
    "const schemaOOBI = `http://vlei-server:7723/oobi/${schemaSaid}`;\n",
    "\n",
    "await resolveOOBI(issuerClient, schemaOOBI, schemaContactAlias);\n",
    "await resolveOOBI(holderClient, schemaOOBI, schemaContactAlias);\n",
    "await resolveOOBI(verifierClient, schemaOOBI, schemaContactAlias);\n",
    "\n",
    "console.log(\"Done.\")"
   ]
  },
  {
   "cell_type": "markdown",
   "id": "20071332-58a7-4831-a17b-8adf670c8c6d",
   "metadata": {},
   "source": [
    "## Credential Issuance"
   ]
  },
  {
   "cell_type": "markdown",
   "id": "a2168606-795d-4738-b734-6808ff2fb6a5",
   "metadata": {},
   "source": [
    "### Create Credential Registry "
   ]
  },
  {
   "cell_type": "code",
   "execution_count": null,
   "id": "e8e98a99-c3db-4eca-855c-0c39775f191e",
   "metadata": {
    "scrolled": true
   },
   "outputs": [],
   "source": [
    "//Create Issuer credential Registry\n",
    "\n",
    "const issuerRegistryName = 'issuerRegistry'\n",
    "\n",
    "const createRegistryResult = await issuerClient\n",
    "    .registries()\n",
    "    .create({ name: issuerAidAlias, registryName: issuerRegistryName });\n",
    "\n",
    "const createRegistryOperation = await createRegistryResult.op();\n",
    "\n",
    "const createRegistryResponse = await issuerClient\n",
    "    .operations()\n",
    "    .wait(createRegistryOperation, AbortSignal.timeout(DEFAULT_TIMEOUT_MS));\n",
    "\n",
    "await issuerClient.operations().delete(createRegistryOperation.name);\n",
    "\n",
    "// Listing Registries\n",
    "\n",
    "const issuerRegistries = await issuerClient.registries().list(issuerAidAlias);\n",
    "const issuerRegistry = issuerRegistries[0]\n",
    "console.log(issuerRegistry)"
   ]
  },
  {
   "cell_type": "markdown",
   "id": "78f1d2c5-8b98-4419-ad48-65048be2200d",
   "metadata": {},
   "source": [
    "### Retrieve and list schemas"
   ]
  },
  {
   "cell_type": "code",
   "execution_count": null,
   "id": "edb17255-4ca5-45cd-b153-6d28d5bb4f42",
   "metadata": {},
   "outputs": [],
   "source": [
    "// Retrieve Schemas\n",
    "\n",
    "const issuerSchema = await issuerClient.schemas().get(schemaSaid);\n",
    "\n",
    "// List Schemas\n",
    "// const issuerSchemas = await holderClient.schemas().list();\n"
   ]
  },
  {
   "cell_type": "markdown",
   "id": "c0c535c7-efb5-44b3-9c00-6759a2afc127",
   "metadata": {},
   "source": [
    "### Issue Credential"
   ]
  },
  {
   "cell_type": "code",
   "execution_count": null,
   "id": "f4fc1aa9-cde5-4939-a575-d587c51b641c",
   "metadata": {
    "scrolled": true
   },
   "outputs": [],
   "source": [
    "// Issue Credential\n",
    "\n",
    "const credentialClaims = {\n",
    "    \"eventName\":\"GLEIF Summit\",\n",
    "    \"accessLevel\":\"staff\",\n",
    "    \"validDate\":\"2026-10-01\"\n",
    "}\n",
    "\n",
    "const issueResult = await issuerClient\n",
    "    .credentials()\n",
    "    .issue(\n",
    "        issuerAidAlias,\n",
    "        {\n",
    "            ri: issuerRegistry.regk,\n",
    "            s: schemaSaid,\n",
    "            a: {\n",
    "                i: holderAid.i,\n",
    "                ...credentialClaims                \n",
    "            }\n",
    "        });\n",
    "\n",
    "const issueOperation = await issueResult.op;\n",
    "\n",
    "const issueResponse = await issuerClient\n",
    "    .operations()\n",
    "    .wait(issueOperation, AbortSignal.timeout(DEFAULT_TIMEOUT_MS));\n",
    "\n",
    "await issuerClient.operations().delete(issueOperation.name);\n",
    "\n",
    "// Credential said\n",
    "const credentialSaid = issueResponse.response.ced.d\n",
    "\n",
    "// const issuerCredentials = await issuerClient.credentials().list();\n",
    "// console.log(issuerCredentials)\n",
    "\n",
    "const issuerCredential = await issuerClient.credentials().get(credentialSaid);\n",
    "console.log(issuerCredential)"
   ]
  },
  {
   "cell_type": "markdown",
   "id": "fcfd6ea7-8fbf-4ca9-b74c-35ed9ec193ac",
   "metadata": {},
   "source": [
    "### Issuer Ipex Grant"
   ]
  },
  {
   "cell_type": "code",
   "execution_count": null,
   "id": "f4fd294f-8a06-4467-9427-e618cad9077c",
   "metadata": {},
   "outputs": [],
   "source": [
    "// Ipex Grant\n",
    "\n",
    "const [grant, gsigs, gend] = await issuerClient.ipex().grant({\n",
    "    senderName: issuerAidAlias,\n",
    "    acdc: new Serder(issuerCredential.sad), // ACDC (Credential)\n",
    "    iss: new Serder(issuerCredential.iss),  // Event (Registry - ACDC)\n",
    "    anc: new Serder(issuerCredential.anc),  // Event (ACDC - Issuer KEL - ISS Event) \n",
    "    ancAttachment: issuerCredential.ancatc, // Signatures\n",
    "    recipient: holderAid.i,\n",
    "    datetime: createTimestamp(),\n",
    "});"
   ]
  },
  {
   "cell_type": "markdown",
   "id": "01c1d4a5-374a-447f-a9f7-16f2f959703b",
   "metadata": {},
   "source": [
    "### Issuer Grant Submit"
   ]
  },
  {
   "cell_type": "code",
   "execution_count": null,
   "id": "c0735508-ac3d-48e3-b78b-009592c6d1ee",
   "metadata": {},
   "outputs": [],
   "source": [
    "\n",
    "// Issuer submit grant\n",
    "\n",
    "const submitGrantOperation = await issuerClient\n",
    "    .ipex()\n",
    "    .submitGrant(\n",
    "        issuerAidAlias,\n",
    "        grant, \n",
    "        gsigs, \n",
    "        gend,\n",
    "        [holderAid.i]\n",
    "    );\n",
    "\n",
    "const submitGrantResponse = await issuerClient\n",
    "    .operations()\n",
    "    .wait(submitGrantOperation, AbortSignal.timeout(DEFAULT_TIMEOUT_MS));\n",
    "\n",
    "await issuerClient.operations().delete(submitGrantOperation.name);"
   ]
  },
  {
   "cell_type": "markdown",
   "id": "e9d7a220-cb66-444c-bf3e-00c8d9097819",
   "metadata": {},
   "source": [
    "### Holder Credential State"
   ]
  },
  {
   "cell_type": "code",
   "execution_count": null,
   "id": "00054f71-bfcd-4e77-91c7-7f88dfeae771",
   "metadata": {
    "scrolled": true
   },
   "outputs": [],
   "source": [
    "// Here the flow of the script transitions from the issuer to the holder\n",
    "// therefore, it is required to add logic to wait for the operations to process\n",
    "\n",
    "let credentialState;\n",
    "\n",
    "for (let attempt = 1; attempt <= DEFAULT_RETRIES ; attempt++) {\n",
    "    try{\n",
    "        credentialState = await holderClient.credentials().state(issuerRegistry.regk, issuerCredential.sad.d)\n",
    "        break;\n",
    "    }\n",
    "    catch (error){    \n",
    "         console.log(`[Retry] failed on attempt #${attempt} of ${DEFAULT_RETRIES}`);\n",
    "         if (attempt === DEFAULT_RETRIES) {\n",
    "             console.error(`[Retry] Max retries (${DEFAULT_RETRIES}) reached.`);\n",
    "             throw error; \n",
    "         }\n",
    "         console.log(`[Retry] Waiting ${DEFAULT_DELAY_MS}ms before next attempt...`);\n",
    "         await new Promise(resolve => setTimeout(resolve, DEFAULT_DELAY_MS));\n",
    "    }\n",
    "}\n",
    "\n",
    "console.log(credentialState)"
   ]
  },
  {
   "cell_type": "markdown",
   "id": "2a3c0222-4dc1-45aa-b056-34c0142aac90",
   "metadata": {},
   "source": [
    "### Holder Grant notification and Exchange retrieve"
   ]
  },
  {
   "cell_type": "code",
   "execution_count": null,
   "id": "5c76d3e6-7dfe-4485-8f2f-9822c0e99c92",
   "metadata": {
    "scrolled": true
   },
   "outputs": [],
   "source": [
    "// Holder retrieves Grant notification\n",
    "\n",
    "let notifications;\n",
    "\n",
    "for (let attempt = 1; attempt <= DEFAULT_RETRIES ; attempt++) {\n",
    "    try{\n",
    "        notifications = await holderClient.notifications().list(\n",
    "            (n) => n.a.r === IPEX_GRANT_ROUTE && n.r === false\n",
    "        );\n",
    "        if(notifications.notes.length === 0){ \n",
    "            throw error;\n",
    "        }\n",
    "        break;\n",
    "        \n",
    "    }\n",
    "    catch (error){    \n",
    "         console.log(`[Retry] failed on attempt #${attempt} of ${DEFAULT_RETRIES}`);\n",
    "         if (attempt === DEFAULT_RETRIES) {\n",
    "             console.error(`[Retry] Max retries (${DEFAULT_RETRIES}) reached.`);\n",
    "             throw error; \n",
    "         }\n",
    "         console.log(`[Retry] Waiting ${DEFAULT_DELAY_MS}ms before next attempt...`);\n",
    "         await new Promise(resolve => setTimeout(resolve, DEFAULT_DELAY_MS));\n",
    "    }\n",
    "}\n",
    "\n",
    "const grantNotification = notifications.notes[0]  // Only one notification expected\n",
    "\n",
    "console.log(grantNotification)\n",
    "\n",
    "// The grant Details can be retrieved from the exchange. The notification includes the exn said. \n",
    "\n",
    "const grantExchange = await holderClient.exchanges().get(grantNotification.a.d);\n",
    "\n",
    "console.log(grantExchange)"
   ]
  },
  {
   "cell_type": "markdown",
   "id": "e735f3cb-83fc-4d79-9734-0f96d1280d0c",
   "metadata": {},
   "source": [
    "### Holder Admits Grant"
   ]
  },
  {
   "cell_type": "code",
   "execution_count": null,
   "id": "505cb12d-d1a2-47d4-ad49-077f0a569300",
   "metadata": {
    "scrolled": true
   },
   "outputs": [],
   "source": [
    "// Holder admits IPEX grant\n",
    "\n",
    "const [admit, sigs, aend] = await holderClient.ipex().admit({\n",
    "    senderName: holderAidAlias,\n",
    "    message: '',\n",
    "    grantSaid: grantNotification.a.d!,\n",
    "    recipient: issuerAid.i,\n",
    "    datetime: createTimestamp(),\n",
    "});\n",
    "\n",
    "const admitOperation = await holderClient\n",
    "    .ipex()\n",
    "    .submitAdmit(holderAidAlias, admit, sigs, aend, [issuerAid.i]);\n",
    "\n",
    "const admitResponse = await holderClient\n",
    "    .operations()\n",
    "    .wait(admitOperation, AbortSignal.timeout(DEFAULT_TIMEOUT_MS));\n",
    "\n",
    "await holderClient.operations().delete(admitOperation.name);\n",
    "\n",
    "// Holder Mark Grant Notification\n",
    "\n",
    "await holderClient.notifications().mark(grantNotification.i);\n",
    "console.log(await holderClient.notifications().list());\n",
    "\n",
    "// Holder gets the Credential\n",
    "\n",
    "await holderClient.credentials().get(issuerCredential.sad.d);"
   ]
  },
  {
   "cell_type": "markdown",
   "id": "0a7f8efc-c86e-41df-9ade-2bc2e87ac71d",
   "metadata": {},
   "source": [
    "### Issuer Admit Notification"
   ]
  },
  {
   "cell_type": "code",
   "execution_count": null,
   "id": "aa6a7874-43e2-4b2b-8a97-27624d022a2d",
   "metadata": {
    "editable": true,
    "scrolled": true,
    "slideshow": {
     "slide_type": ""
    },
    "tags": []
   },
   "outputs": [],
   "source": [
    "// Issuer retrieves Admit notification\n",
    "\n",
    "let notifications;\n",
    "\n",
    "for (let attempt = 1; attempt <= DEFAULT_RETRIES ; attempt++) {\n",
    "    try{\n",
    "        notifications = await issuerClient.notifications().list(\n",
    "            (n) => n.a.r === IPEX_ADMIT_ROUTE && n.r === false\n",
    "        );\n",
    "        if(notifications.notes.length === 0){ \n",
    "            throw error;\n",
    "        }\n",
    "        break;\n",
    "    }\n",
    "    catch (error){    \n",
    "         console.log(`[Retry] failed on attempt #${attempt} of ${DEFAULT_RETRIES}`);\n",
    "         if (attempt === DEFAULT_RETRIES) {\n",
    "             console.error(`[Retry] Max retries (${DEFAULT_RETRIES}) reached.`);\n",
    "             throw error; \n",
    "         }\n",
    "         console.log(`[Retry] Waiting ${DEFAULT_DELAY_MS}ms before next attempt...`);\n",
    "         await new Promise(resolve => setTimeout(resolve, DEFAULT_DELAY_MS));\n",
    "    }\n",
    "}\n",
    "\n",
    "const admitNotification = notifications.notes[0] //Only one notification expected\n",
    "\n",
    "// Issuer Mark Admit Notification\n",
    "\n",
    "await issuerClient.notifications().mark(admitNotification.i);\n",
    "console.log(await issuerClient.notifications().list());"
   ]
  },
  {
   "cell_type": "markdown",
   "id": "832de940-ad23-47a8-b2a7-989d7bfbdf25",
   "metadata": {},
   "source": [
    "### Cleanup"
   ]
  },
  {
   "cell_type": "code",
   "execution_count": null,
   "id": "30b1e689-985e-4d4c-886a-a99d2156d8c5",
   "metadata": {
    "editable": true,
    "slideshow": {
     "slide_type": ""
    },
    "tags": []
   },
   "outputs": [],
   "source": [
    "// Issuer Remove Admit Notification\n",
    "await issuerClient.notifications().delete(admitNotification.i);\n",
    "console.log(await issuerClient.notifications().list());\n",
    "\n",
    "// Holder Remove Grant Notification\n",
    "await holderClient.notifications().delete(grantNotification.i);\n",
    "console.log(await holderClient.notifications().list());"
   ]
  },
  {
   "cell_type": "markdown",
   "id": "9f9a2c91-e676-4c99-a4a1-91876b5e9a86",
   "metadata": {
    "editable": true,
    "slideshow": {
     "slide_type": ""
    },
    "tags": []
   },
   "source": [
    "## Presentation"
   ]
  },
  {
   "cell_type": "markdown",
   "id": "59993ac2-4bf2-4909-8835-2b02829ef85d",
   "metadata": {},
   "source": [
    "### Verifier Apply"
   ]
  },
  {
   "cell_type": "code",
   "execution_count": null,
   "id": "d7340a09-5c05-4fde-8d8f-945ba2fe3938",
   "metadata": {},
   "outputs": [],
   "source": [
    "// Verifier Ipex Apply (Presentation request)\n",
    "\n",
    "const [apply, sigs, _] = await verifierClient.ipex().apply({\n",
    "    senderName: verifierAidAlias,\n",
    "    schemaSaid: schemaSaid,\n",
    "    attributes: { eventName:'GLEIF Summit' },\n",
    "    recipient: holderAid.i,\n",
    "    datetime: createTimestamp(),\n",
    "});\n",
    "\n",
    "const applyOperation = await verifierClient\n",
    "    .ipex()\n",
    "    .submitApply(verifierAidAlias, apply, sigs, [holderAid.i]);\n",
    "\n",
    "const applyResponse = await verifierClient\n",
    "    .operations()\n",
    "    .wait(applyOperation, AbortSignal.timeout(DEFAULT_TIMEOUT_MS));\n",
    "\n",
    "await verifierClient.operations().delete(applyOperation.name);"
   ]
  },
  {
   "cell_type": "markdown",
   "id": "4053a0e9-89c8-4d64-8518-a2615ebb82e1",
   "metadata": {},
   "source": [
    "### Holder Apply Notification and Exchange"
   ]
  },
  {
   "cell_type": "code",
   "execution_count": null,
   "id": "3bf09828-44e9-41b2-b1f3-522549ca9e74",
   "metadata": {
    "scrolled": true
   },
   "outputs": [],
   "source": [
    "// holder IPEX apply receive and offer\n",
    "\n",
    "let notifications;\n",
    "\n",
    "for (let attempt = 1; attempt <= DEFAULT_RETRIES ; attempt++) {\n",
    "    try{\n",
    "        notifications = await holderClient.notifications().list(\n",
    "            (n) => n.a.r === IPEX_APPLY_ROUTE && n.r === false\n",
    "        );\n",
    "        if(notifications.notes.length === 0){ \n",
    "            throw error;\n",
    "        }\n",
    "        break;\n",
    "    }\n",
    "    catch (error){    \n",
    "         console.log(`[Retry] failed on attempt #${attempt} of ${DEFAULT_RETRIES}`);\n",
    "         if (attempt === DEFAULT_RETRIES) {\n",
    "             console.error(`[Retry] Max retries (${DEFAULT_RETRIES}) reached.`);\n",
    "             throw error; \n",
    "         }\n",
    "         console.log(`[Retry] Waiting ${DEFAULT_DELAY_MS}ms before next attempt...`);\n",
    "         await new Promise(resolve => setTimeout(resolve, DEFAULT_DELAY_MS));\n",
    "    }\n",
    "}\n",
    "\n",
    "const applyNotification = notifications.notes[0] // Only one notification expected\n",
    "\n",
    "console.log(applyNotification)\n",
    "\n",
    "const applyExchange = await holderClient.exchanges().get(applyNotification.a.d);\n",
    "\n",
    "console.log(applyExchange)\n",
    "\n",
    "const applyExchangeSaid = applyExchange.exn.d;\n",
    "\n",
    "// Holder Mark Apply Notification\n",
    "await holderClient.notifications().mark(applyNotification.i);\n",
    "console.log(await holderClient.notifications().list());\n",
    "\n"
   ]
  },
  {
   "cell_type": "markdown",
   "id": "6cf2bd44-2d8b-4ef7-9062-13ca5522f954",
   "metadata": {},
   "source": [
    "### Holder Find Matching Credential"
   ]
  },
  {
   "cell_type": "code",
   "execution_count": null,
   "id": "7230c364-43c6-44e3-97c7-50ff32d12dae",
   "metadata": {
    "scrolled": true
   },
   "outputs": [],
   "source": [
    "// The apply operation from the verifier asks for a specific credential \n",
    "// (matching schema and attribute values) as presented below:\n",
    "//\n",
    "//   schemaSaid: schemaSaid,\n",
    "//   attributes: { eventName:'GLEIF Summit' },\n",
    "// \n",
    "// This code snippet creates a credential filter accordingly. Taking the\n",
    "// criteria from the applyExchange message received by the holder\n",
    "\n",
    "let filter: { [x: string]: any } = { '-s': applyExchange.exn.a.s };\n",
    "for (const key in applyExchange.exn.a.a) {\n",
    "    filter[`-a-${key}`] = applyExchange.exn.a.a[key];\n",
    "}\n",
    "\n",
    "console.log(filter)\n",
    "\n",
    "const matchingCredentials = await holderClient.credentials().list({ filter });\n",
    "\n",
    "console.log(matchingCredentials)"
   ]
  },
  {
   "cell_type": "markdown",
   "id": "53867c12-7dd3-4dfe-85c2-7b5b1a2fd86d",
   "metadata": {},
   "source": [
    "### Holder offer"
   ]
  },
  {
   "cell_type": "code",
   "execution_count": null,
   "id": "e6bbb306-0e9d-4aed-b510-76588969c0b3",
   "metadata": {},
   "outputs": [],
   "source": [
    "const [offer, sigs, end] = await holderClient.ipex().offer({\n",
    "    senderName: holderAidAlias,\n",
    "    recipient: verifierAid.i,\n",
    "    acdc: new Serder(matchingCredentials[0].sad),\n",
    "    applySaid: applyExchangeSaid,\n",
    "    datetime: createTimestamp(),\n",
    "});\n",
    "\n",
    "const offerOperation = await holderClient\n",
    "    .ipex()\n",
    "    .submitOffer(holderAidAlias, offer, sigs, end, [\n",
    "        verifierAid.i,\n",
    "    ]);\n",
    "\n",
    "const offerResponse = await holderClient\n",
    "    .operations()\n",
    "    .wait(offerOperation, AbortSignal.timeout(DEFAULT_TIMEOUT_MS));\n",
    "\n",
    "await holderClient.operations().delete(offerOperation.name);\n",
    "\n"
   ]
  },
  {
   "cell_type": "markdown",
   "id": "d750210b-c246-4e88-acb8-55898e67f591",
   "metadata": {},
   "source": [
    "### Verifier - Handle Offer Notification and Agree "
   ]
  },
  {
   "cell_type": "code",
   "execution_count": null,
   "id": "08f7b2f1-26fa-43eb-8dca-bf3ca08c23b5",
   "metadata": {},
   "outputs": [],
   "source": [
    "// verifier receive offer and agree\n",
    "\n",
    "let notifications;\n",
    "\n",
    "for (let attempt = 1; attempt <= DEFAULT_RETRIES ; attempt++) {\n",
    "    try{\n",
    "        notifications = await verifierClient.notifications().list(\n",
    "            (n) => n.a.r === IPEX_OFFER_ROUTE && n.r === false\n",
    "        );\n",
    "        if(notifications.notes.length === 0){ \n",
    "            throw error;\n",
    "        }\n",
    "        break;\n",
    "    }\n",
    "    catch (error){    \n",
    "         console.log(`[Retry] failed on attempt #${attempt} of ${DEFAULT_RETRIES}`);\n",
    "         if (attempt === DEFAULT_RETRIES) {\n",
    "             console.error(`[Retry] Max retries (${DEFAULT_RETRIES}) reached.`);\n",
    "             throw error; \n",
    "         }\n",
    "         console.log(`[Retry] Waiting ${DEFAULT_DELAY_MS}ms before next attempt...`);\n",
    "         await new Promise(resolve => setTimeout(resolve, DEFAULT_DELAY_MS));\n",
    "    }\n",
    "}\n",
    "\n",
    "const offerNotification = notifications.notes[0];\n",
    "\n",
    "const offerExchange = await verifierClient.exchanges().get(offerNotification.a.d);\n",
    "\n",
    "let offerExchangeSaid = offerExchange.exn.d;\n",
    "\n",
    "// Holder Mark Apply Notification\n",
    "await verifierClient.notifications().mark(offerNotification.i);\n",
    "\n",
    "console.log(await verifierClient.notifications().list());"
   ]
  },
  {
   "cell_type": "code",
   "execution_count": null,
   "id": "da6275f3-afb7-4882-867f-1cb7066141bd",
   "metadata": {},
   "outputs": [],
   "source": [
    "const [agree, sigs, _] = await verifierClient.ipex().agree({\n",
    "    senderName: verifierAidAlias,\n",
    "    recipient: holderAid.i,\n",
    "    offerSaid: offerExchangeSaid,\n",
    "    datetime: createTimestamp(),\n",
    "});\n",
    "\n",
    "const agreeOperation = await verifierClient\n",
    "    .ipex()\n",
    "    .submitAgree(verifierAidAlias, agree, sigs, [holderAid.i]);\n",
    "\n",
    "const agreeResponse = await verifierClient\n",
    "    .operations()\n",
    "    .wait(agreeOperation, AbortSignal.timeout(DEFAULT_TIMEOUT_MS));\n",
    "\n",
    "await verifierClient.operations().delete(agreeOperation.name);"
   ]
  },
  {
   "cell_type": "code",
   "execution_count": null,
   "id": "0dc66590-733b-40a0-8107-441abca00276",
   "metadata": {},
   "outputs": [],
   "source": []
  }
 ],
 "metadata": {
  "kernelspec": {
   "display_name": "Deno",
   "language": "typescript",
   "name": "deno"
  },
  "language_info": {
   "codemirror_mode": "typescript",
   "file_extension": ".ts",
   "mimetype": "text/x.typescript",
   "name": "typescript",
   "nbconvert_exporter": "script",
   "pygments_lexer": "typescript",
   "version": "5.8.3"
  }
 },
 "nbformat": 4,
 "nbformat_minor": 5
}
