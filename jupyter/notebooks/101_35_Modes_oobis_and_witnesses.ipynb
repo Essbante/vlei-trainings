{
 "cells": [
  {
   "cell_type": "markdown",
   "id": "8bfbd6d4-d96b-49d8-9bdd-494c53251586",
   "metadata": {
    "editable": false,
    "slideshow": {
     "slide_type": ""
    },
    "tags": []
   },
   "source": [
    "# Modes, OOBIs, and Witnesses"
   ]
  },
  {
   "cell_type": "markdown",
   "id": "7efb57b3-bb0c-4480-8b26-6649dd80e654",
   "metadata": {
    "editable": false,
    "slideshow": {
     "slide_type": ""
    },
    "tags": []
   },
   "source": [
    "<div class=\"alert alert-primary\">\n",
    "  <b>🎯 OBJECTIVE</b><hr>\n",
    "Explain KERI's Direct and Indirect modes and the key components enabling Indirect Mode: Out-of-Band Introductions (OOBIs) for discovery, Witnesses for availability and consistency, and the Threshold of Accountable Duplicity (TOAD) for managing accountability.\n",
    "</div>"
   ]
  },
  {
   "cell_type": "markdown",
   "id": "7ab6bcdc-126a-4466-a47f-9656edace967",
   "metadata": {
    "editable": false,
    "slideshow": {
     "slide_type": ""
    },
    "tags": []
   },
   "source": [
    "## Direct and Indirect Modes\n",
    "KERI provides a secure way to manage Identifiers and track control using verifiable logs of key events (KEL). How these logs are shared and verified between the controller and someone verifying that identifier leads to two operational modes: Direct and Indirect.\n"
   ]
  },
  {
   "cell_type": "markdown",
   "id": "a4c68b3b-bba9-43a2-91a3-74477883a736",
   "metadata": {
    "editable": false,
    "slideshow": {
     "slide_type": ""
    },
    "tags": []
   },
   "source": [
    "### Direct Mode\n",
    "\n",
    "Direct Mode is a one-to-one approach, similar to a direct conversation.\n",
    "\n",
    "The controller shares their Key Event Log directly with a specific validator, who verifies the signatures and checks the cryptographic chain to ensure integrity. The method of sharing the KEL is implementation-dependent.\n",
    "\n",
    "Trust is based solely on verifying the controller’s own signatures, as the validator directly receives and verifies the KEL.\n",
    "\n",
    "This mode is an option for interactions where both parties can connect directly, even if only occasionally, and need to be online to exchange new events or updates.  \n",
    "\n",
    "Although we haven't done any interaction so far, all the things we have done until this point fit within the direct mode approach."
   ]
  },
  {
   "cell_type": "markdown",
   "id": "9286562b-dd6f-4c0a-8403-dc8921d846ba",
   "metadata": {
    "editable": false,
    "slideshow": {
     "slide_type": ""
    },
    "tags": []
   },
   "source": [
    "### Indirect Mode\n",
    "\n",
    "Indirect Mode is the highly-available approach, similar to using a trusted public bulletin board instead of direct messaging.\n",
    "\n",
    "It’s for scenarios where the controller may be offline or needs to serve many validators at once. Rather than relying on direct communication, it introduces infrastructure to keep the key event log reliably accessible.\n",
    "\n",
    "Trust extends beyond the controller’s signature, relying on a network of Witnesses that verify, sign, and store events.\n",
    "\n",
    "This mode is ideal for public identifiers, always-verifiable services, one-to-many interactions, or any situation where the controller can’t be constantly online."
   ]
  },
  {
   "cell_type": "markdown",
   "id": "612d78f1-8485-49c2-8f86-ae28b8639944",
   "metadata": {
    "editable": false,
    "slideshow": {
     "slide_type": ""
    },
    "tags": []
   },
   "source": [
    "## Out-of-Band Introductions\n",
    "\n",
    "When an AID controller is operating in indirect mode, you need a way to tell others where they can find information about it, like its Key Event Log (KEL). This is where Out-of-Band Introductions (OOBIs) come in.\n",
    "\n",
    "**What is an OOBI?**\n",
    "\n",
    "An OOBI is a **discovery mechanism** used in KERI. Its primary purpose is to link a specific KERI AID  to a network location (a URL or URI) where information about that identifier can potentially be found.\n",
    "\n",
    "The simplest form of an OOBI pairs an AID with a URL. For example:\n",
    "\n",
    "`(\"http://8.8.5.6:8080/oobi\", \"EaU6JR2nmwyZ-i0d8JZAoTNZH3ULvYAfSVPzhzS6b5CM\")`\n",
    "\n",
    "This OOBI suggests that information related to the AID `EaU6JR2nmwyZ-i0d8JZAoTNZH3ULvYAfSVPzhzS6b5CM` might be available at the service endpoint `http://8.8.5.6:8080/oobi`.\n",
    "\n",
    "The URL representation will be:\n",
    "\n",
    "http://8.8.5.6:8080/oobi/EaU6JR2nmwyZ-i0d8JZAoTNZH3ULvYAfSVPzhzS6b5CM\n",
    "\n",
    "**Key Points**\n",
    "\n",
    "- OOBIs Facilitate Discovery (Out-of-Band): They use existing internet infrastructure (web servers, QR codes, etc.) to share potential (url, aid) links. This happens outside of KERI's core trust guarantees.\n",
    "- OOBIs Themselves Are NOT Trusted: Receiving an OOBI does not guarantee the URL-AID link is valid or that the data at the URL is legitimate.\n",
    "- Trust Requires KERI Verification (In-Band): After using an OOBI URL to retrieve data (like a Key Event Log), you must use KERI's standard cryptographic verification methods (checking signatures, verifying event history) to establish trust.\n",
    "\n",
    "In short, OOBIs help you find potential information; verification ensures you can trust it."
   ]
  },
  {
   "cell_type": "markdown",
   "id": "645f55bb-28f2-43bc-85df-4db56a549a18",
   "metadata": {
    "editable": false,
    "slideshow": {
     "slide_type": ""
    },
    "tags": []
   },
   "source": [
    "## Witnesses\n",
    "\n",
    "Witnesses are entities designated by the controller within their AID key event log, acting much like trusted notaries. Their role is to receive key events directly from the controller, verify the controller’s signature, and check that each event aligns with the historical log they maintain.\n",
    "\n",
    "Once a witness confirms an event is valid and encounters it for the first time, it generates a receipt by signing the event (Witnesses also have their own AID). The witness then stores both the original event and its receipt, alongside receipts from other witnesses, in a local copy of the KEL known as the **Key Event Receipt Log (KERL)**.\n",
    "\n",
    "Witnesses play a critical role in ensuring the system’s reliability and integrity. They provide availability by forming a distributed service that validators can query to access the KEL of a given prefix, even if the controller itself is unavailable. Additionally, they help ensure consistency: since honest witnesses only sign the first valid version of an event they observe, it becomes significantly harder for a controller to present conflicting log versions (**duplicity**).\n",
    "\n",
    "It's important to note that witnesses are software components. For the system to improve security and availability, the witness should be deployed independently, ideally operated by different entities, on different infrastructure, from both the controller and each other."
   ]
  },
  {
   "cell_type": "markdown",
   "id": "a5f82e7a-cc10-456d-ad48-7baff51b8566",
   "metadata": {
    "editable": true,
    "slideshow": {
     "slide_type": ""
    },
    "tags": []
   },
   "source": [
    "## Threshold of Accountable Duplicity\n",
    "\n",
    "A key challenge in maintaining the integrity of an identifier's history is preventing the controller from presenting conflicting versions of events. This situation, known as **duplicity**, occurs if a controller improperly signs two or more different key events purporting to be at the same sequence number in their Key Event Log (KEL) – for example, signing two different rotation events both claiming to be sequence number 3. Such conflicting statements undermine trust in the identifier's true state and control. Reasons for duplicity may be due to malicious intent or operational errors. KERI addresses this partly through the behavior of witnesses (who should only sign the first valid event they see per sequence number) and manages the *accountability* for potential duplicity using a specific threshold.\n",
    "\n",
    "To quantify the level of agreement needed and manage accountability for potential duplicity, the controller specifies a crucial parameter in their KEL: the **Threshold of Accountable Duplicity (TOAD)**. We have seen this parameter before when calling `kli incept`. The `toad` value represents the minimum number of unique witness receipts the controller considers sufficient to accept accountability for a key event.\n",
    "\n",
    "By gathering receipts that meet or exceed this controller-defined threshold (`toad`), validators gain assurance that the event history they’re watching is the one the controller stands behind and is broadly agreed upon by the witness network. Crucially, while the `toad` defines the controller's threshold for their accountability, a validator may independently establish its own, often higher, threshold of witness receipts required to accept an event as fully validated according to its trust policy. This threshold mechanism, allowing for distinct controller accountability and validator trust levels, is key to KERI's robust fault tolerance, helping distinguish between minor issues and significant, actionable inconsistencies."
   ]
  },
  {
   "cell_type": "markdown",
   "id": "a88d7e59-c298-4c89-b218-32ef36324418",
   "metadata": {
    "editable": false,
    "slideshow": {
     "slide_type": ""
    },
    "tags": []
   },
   "source": [
    "<div class=\"alert alert-prymary\">\n",
    "  <b>📝 SUMMARY</b><hr>\n",
    "<p>\n",
    "    KERI supports two main ways for controllers to share their Key Event Logs (KELs): Direct Mode, where the KEL is shared directly with a validator (suitable for 1-to-1 online interactions), and Indirect Mode, which uses infrastructure for high availability, suitable for offline controllers or 1-to-many interactions. Indirect Mode relies on Witnesses, designated entities that receive, verify, receipt, and store events in Key Event Receipt Logs (KERLs), ensuring availability and consistency. Discovery in Indirect Mode uses Out-of-Band Introductions (OOBIs), which are untrusted links pairing an AID with a potential KEL location that requires separate KERI verification. Controllers set a Threshold of Accountable Duplicity (TOAD), the minimum witness receipts needed for them to be accountable for an event, though validators may set their own higher threshold for trust.\n",
    "</p>\n",
    "</div>"
   ]
  }
 ],
 "metadata": {
  "kernelspec": {
   "display_name": "Python 3 (ipykernel)",
   "language": "python",
   "name": "python3"
  },
  "language_info": {
   "codemirror_mode": {
    "name": "ipython",
    "version": 3
   },
   "file_extension": ".py",
   "mimetype": "text/x-python",
   "name": "python",
   "nbconvert_exporter": "python",
   "pygments_lexer": "ipython3",
   "version": "3.12.9"
  }
 },
 "nbformat": 4,
 "nbformat_minor": 5
}
