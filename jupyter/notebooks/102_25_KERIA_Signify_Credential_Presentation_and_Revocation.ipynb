{
 "cells": [
  {
   "cell_type": "markdown",
   "id": "81f99b40-1abe-4f8d-b101-c5a5c6caac8e",
   "metadata": {
    "editable": false,
    "slideshow": {
     "slide_type": ""
    },
    "tags": []
   },
   "source": [
    "# Signify-ts: ACDC Presentation and Revocation with IPEX"
   ]
  },
  {
   "cell_type": "markdown",
   "id": "4cffa5ca-12d2-44ef-9fde-9e2ff7b6d360",
   "metadata": {
    "editable": false,
    "slideshow": {
     "slide_type": ""
    },
    "tags": []
   },
   "source": [
    "<div class=\"alert alert-primary\">\n",
    "<b>🎯 OBJECTIVE</b><hr>\n",
    "Demonstrate the process of presenting an ACDC (Authentic Chained Data Container) from a Holder to a Verifier using the IPEX protocol with the Signify-ts library and the process of credential revocation.\n",
    "</div>"
   ]
  },
  {
   "cell_type": "markdown",
   "id": "1987f110-0ed9-421c-b599-99721353521b",
   "metadata": {
    "editable": false,
    "slideshow": {
     "slide_type": ""
    },
    "tags": []
   },
   "source": [
    "<div class=\"alert alert-info\">\n",
    "<b>ℹ️ NOTE</b><hr>\n",
    "This section utilizes utility functions (from <code>./scripts_ts/utils.ts</code>) to quickly establish the necessary preconditions for credential presentation. \n",
    "</div>"
   ]
  },
  {
   "cell_type": "markdown",
   "id": "6f900a57-e8b4-4e78-add9-1d3e74c4bbb5",
   "metadata": {
    "editable": false,
    "slideshow": {
     "slide_type": ""
    },
    "tags": []
   },
   "source": [
    "## Prerequisites: Client and Credential Setup \n",
    "\n",
    "The client setup process from the previous notebook is reused here."
   ]
  },
  {
   "cell_type": "code",
   "execution_count": null,
   "id": "d464857c-ab33-4fe3-9d88-12fbe61168cb",
   "metadata": {
    "editable": false,
    "jupyter": {
     "source_hidden": true
    },
    "slideshow": {
     "slide_type": ""
    },
    "tags": []
   },
   "outputs": [],
   "source": [
    "import { randomPasscode, Serder} from 'npm:signify-ts';\n",
    "import { initializeSignify, \n",
    "         initializeAndConnectClient,\n",
    "         createNewAID,\n",
    "         addEndRoleForAID,\n",
    "         generateOOBI,\n",
    "         resolveOOBI,\n",
    "         createTimestamp,\n",
    "         createCredentialRegistry,\n",
    "         getSchema,\n",
    "         issueCredential,\n",
    "         ipexGrantCredential,\n",
    "         getCredentialState,\n",
    "         waitForAndGetNotification,\n",
    "         ipexAdmitGrant,\n",
    "         markNotificationRead,\n",
    "         DEFAULT_IDENTIFIER_ARGS,\n",
    "         DEFAULT_TIMEOUT_MS,\n",
    "         DEFAULT_DELAY_MS,\n",
    "         DEFAULT_RETRIES,\n",
    "         ROLE_AGENT,\n",
    "         IPEX_GRANT_ROUTE,\n",
    "         IPEX_ADMIT_ROUTE,\n",
    "         IPEX_APPLY_ROUTE,\n",
    "         IPEX_OFFER_ROUTE,\n",
    "         SCHEMA_SERVER_HOST\n",
    "       } from './scripts_ts/utils.ts';\n",
    "\n",
    "// Clients setup\n",
    "// Initialize Issuer, Holder and Verifier CLients, Create AIDs for each one, assign 'agent' role to the AIDs\n",
    "// generate and resolve OOBIs \n",
    "\n",
    "// Issuer Client\n",
    "const issuerBran = randomPasscode()\n",
    "const issuerAidAlias = 'issuerAid'\n",
    "const { client: issuerClient } = await initializeAndConnectClient(issuerBran)\n",
    "const { aid: issuerAid} = await createNewAID(issuerClient, issuerAidAlias, DEFAULT_IDENTIFIER_ARGS);\n",
    "await addEndRoleForAID(issuerClient, issuerAidAlias, ROLE_AGENT);\n",
    "const issuerOOBI = await generateOOBI(issuerClient, issuerAidAlias, ROLE_AGENT);\n",
    "\n",
    "// Holder Client\n",
    "const holderBran = randomPasscode()\n",
    "const holderAidAlias = 'holderAid'\n",
    "const { client: holderClient } = await initializeAndConnectClient(holderBran)\n",
    "const { aid: holderAid} = await createNewAID(holderClient, holderAidAlias, DEFAULT_IDENTIFIER_ARGS);\n",
    "await addEndRoleForAID(holderClient, holderAidAlias, ROLE_AGENT);\n",
    "const holderOOBI = await generateOOBI(holderClient, holderAidAlias, ROLE_AGENT);\n",
    "\n",
    "// Verifier Client\n",
    "const verifierBran = randomPasscode()\n",
    "const verifierAidAlias = 'verifierAid'\n",
    "const { client: verifierClient } = await initializeAndConnectClient(verifierBran)\n",
    "const { aid: verifierAid} = await createNewAID(verifierClient, verifierAidAlias, DEFAULT_IDENTIFIER_ARGS);\n",
    "await addEndRoleForAID(verifierClient, verifierAidAlias, ROLE_AGENT);\n",
    "const verifierOOBI = await generateOOBI(verifierClient, verifierAidAlias, ROLE_AGENT);\n",
    "\n",
    "// Clients OOBI Resolution\n",
    "// Resolve OOBIs to establish connections Issuer-Holder, Holder-Verifier\n",
    "const issuerContactAlias = 'issuerContact';\n",
    "const holderContactAlias = 'holderContact';\n",
    "const verifierContactAlias = 'verifierContact';\n",
    "\n",
    "await resolveOOBI(issuerClient, holderOOBI, holderContactAlias);\n",
    "await resolveOOBI(holderClient, issuerOOBI, issuerContactAlias);\n",
    "await resolveOOBI(verifierClient, holderOOBI, holderContactAlias);\n",
    "await resolveOOBI(holderClient, verifierOOBI, verifierContactAlias);\n",
    "\n",
    "// Schemas OOBI Resolution\n",
    "// Resolve the Schemas from the Schema Server (VLEI-Server)\n",
    "const schemaContactAlias = 'schemaContact';\n",
    "const schemaSaid = 'EGUPiCVO73M9worPwR3PfThAtC0AJnH5ZgwsXf6TzbVK';\n",
    "const schemaOOBI = `http://vlei-server:7723/oobi/${schemaSaid}`;\n",
    "\n",
    "await resolveOOBI(issuerClient, schemaOOBI, schemaContactAlias);\n",
    "await resolveOOBI(holderClient, schemaOOBI, schemaContactAlias);\n",
    "await resolveOOBI(verifierClient, schemaOOBI, schemaContactAlias);\n",
    "\n",
    "console.log(\"Client setup and OOBI resolutions complete.\");"
   ]
  },
  {
   "cell_type": "markdown",
   "id": "c6d92c20-fd91-46ff-ba5c-378cc8203b4d",
   "metadata": {
    "editable": false,
    "slideshow": {
     "slide_type": ""
    },
    "tags": []
   },
   "source": [
    "As you will be conducting a credential presentation in this notebook, let's generate one for use in the presentation workflow. "
   ]
  },
  {
   "cell_type": "code",
   "execution_count": null,
   "id": "3c948aca-04b8-4465-b64b-843d1a627369",
   "metadata": {
    "editable": false,
    "jupyter": {
     "source_hidden": true
    },
    "slideshow": {
     "slide_type": ""
    },
    "tags": []
   },
   "outputs": [],
   "source": [
    "// Create Issuer Credential Registry\n",
    "const issuerRegistryName = 'issuerRegistry'\n",
    "const { registrySaid: registrySaid } = await createCredentialRegistry(issuerClient, issuerAidAlias, issuerRegistryName)\n",
    "\n",
    "// Define credential Claims\n",
    "const credentialClaims = {\n",
    "    \"eventName\":\"GLEIF Summit\",\n",
    "    \"accessLevel\":\"staff\",\n",
    "    \"validDate\":\"2026-10-01\"\n",
    "}\n",
    "\n",
    "// Issuer - Issue Credential\n",
    "const { credentialSaid: credentialSaid} = await issueCredential(\n",
    "    issuerClient, \n",
    "    issuerAidAlias, \n",
    "    registrySaid, \n",
    "    schemaSaid,\n",
    "    holderAid.i,\n",
    "    credentialClaims\n",
    ")\n",
    "\n",
    "// Issuer - get credential (with all its data)\n",
    "const credential = await issuerClient.credentials().get(credentialSaid);\n",
    "\n",
    "// Issuer - Ipex grant\n",
    "const grantResponse = await ipexGrantCredential(\n",
    "    issuerClient,\n",
    "    issuerAidAlias, \n",
    "    holderAid.i,\n",
    "    credential\n",
    ")\n",
    "\n",
    "// Holder - Wait for grant notification\n",
    "const grantNotifications = await waitForAndGetNotification(holderClient, IPEX_GRANT_ROUTE)\n",
    "const grantNotification = grantNotifications[0]\n",
    "\n",
    "// Holder - Admit Grant\n",
    "const admitResponse = await ipexAdmitGrant(\n",
    "    holderClient,\n",
    "    holderAidAlias,\n",
    "    issuerAid.i,\n",
    "    grantNotification.a.d\n",
    ")\n",
    "\n",
    "// Holder - Mark notification\n",
    "await markNotificationRead(holderClient, grantNotification.i)\n",
    "\n",
    "// Issuer - Wait for admit notification\n",
    "const admitNotifications = await waitForAndGetNotification(issuerClient, IPEX_ADMIT_ROUTE)\n",
    "const admitNotification = admitNotifications[0]\n",
    "\n",
    "// Issuer - Mark notification\n",
    "await markNotificationRead(issuerClient, admitNotification.i)"
   ]
  },
  {
   "cell_type": "markdown",
   "id": "5d7d2eb2-55c9-49d5-a151-ff4877317085",
   "metadata": {
    "editable": false,
    "slideshow": {
     "slide_type": ""
    },
    "tags": []
   },
   "source": [
    "## Credential Presentation Workflow (IPEX)\n",
    "\n",
    "Now that the Holder possesses the credential, they can present it to a Verifier. This workflow also uses IPEX, but typically starts with the Verifier requesting a presentation.\n",
    "\n",
    "Below are presented the code snipets you need to follow to do the presentation."
   ]
  },
  {
   "cell_type": "markdown",
   "id": "48b1a295-6f86-4c3c-82af-6d6978c13287",
   "metadata": {
    "editable": false,
    "slideshow": {
     "slide_type": ""
    },
    "tags": []
   },
   "source": [
    "### Step 1: Verifier Requests Presentation (Apply)\n",
    "\n",
    "The Verifier initiates the presentation process by sending an IPEX apply message. This `apply` message is an `exn` message specifying the criteria for the credential they are requesting. This includes the `schemaSaid` and can include specific attributes the credential must have."
   ]
  },
  {
   "cell_type": "code",
   "execution_count": null,
   "id": "a8a266da-1b83-4cbe-8dfc-4e10efd0709b",
   "metadata": {
    "editable": false,
    "slideshow": {
     "slide_type": ""
    },
    "tags": []
   },
   "outputs": [],
   "source": [
    "// Verifier Ipex Apply (Presentation request)\n",
    "\n",
    "// Prepare the IPEX apply message.\n",
    "const [apply, sigsApply, _endApply] = await verifierClient.ipex().apply({ //_endApply is not used\n",
    "    senderName: verifierAidAlias,     // Alias of the Verifier's AID\n",
    "    schemaSaid: schemaSaid,           // SAID of the schema for the requested credential\n",
    "    attributes: { eventName:'GLEIF Summit' }, // Specific attributes the credential should have\n",
    "    recipient: holderAid.i,           // AID of the Holder being asked for the presentation\n",
    "    datetime: createTimestamp(),      // Timestamp for the apply message\n",
    "});\n",
    "\n",
    "// Verifier submits the prepared apply message to the Holder.\n",
    "const applyOperation = await verifierClient\n",
    "    .ipex()\n",
    "    .submitApply(verifierAidAlias, apply, sigsApply, [holderAid.i]);\n",
    "\n",
    "// Wait for the submission operation to complete.\n",
    "const applyResponse = await verifierClient\n",
    "    .operations()\n",
    "    .wait(applyOperation, AbortSignal.timeout(DEFAULT_TIMEOUT_MS));\n",
    "\n",
    "// Clean up the operation.\n",
    "await verifierClient.operations().delete(applyOperation.name);"
   ]
  },
  {
   "cell_type": "markdown",
   "id": "34a80ce4-dac4-4144-ba80-0366324619d9",
   "metadata": {
    "editable": false,
    "slideshow": {
     "slide_type": ""
    },
    "tags": []
   },
   "source": [
    "### Step 2: Holder Receives Apply Request\n",
    "\n",
    "Holder Apply Notification and Exchange\n",
    "The Holder receives a notification for the Verifier's `apply` request. They retrieve the details of this request from the exchange message. After processing, the Holder marks the notification as read."
   ]
  },
  {
   "cell_type": "code",
   "execution_count": null,
   "id": "ace1d368-b9f0-446b-97e9-eb9757369803",
   "metadata": {
    "editable": false,
    "slideshow": {
     "slide_type": ""
    },
    "tags": []
   },
   "outputs": [],
   "source": [
    "// Holder receives the IPEX apply notification from the Verifier.\n",
    "\n",
    "let holderApplyNotifications;\n",
    "\n",
    "// Retry loop for the Holder to receive the apply notification.\n",
    "for (let attempt = 1; attempt <= DEFAULT_RETRIES ; attempt++) {\n",
    "    try{\n",
    "        // List notifications, filtering for unread IPEX_APPLY_ROUTE messages.\n",
    "        let allNotifications = await holderClient.notifications().list()\n",
    "        holderApplyNotifications = allNotifications.notes.filter(\n",
    "            (n) => n.a.r === IPEX_APPLY_ROUTE && n.r === false\n",
    "        )        \n",
    "        if(holderApplyNotifications.length === 0){ \n",
    "            throw new Error(\"Apply notification not found\"); // Throw error to trigger retry\n",
    "        }\n",
    "        break; // Exit loop if notification found\n",
    "    }\n",
    "    catch (error){    \n",
    "         console.log(`[Retry] Apply notification not found for Holder on attempt #${attempt} of ${DEFAULT_RETRIES}`);\n",
    "         if (attempt === DEFAULT_RETRIES) {\n",
    "             console.error(`[Retry] Max retries (${DEFAULT_RETRIES}) reached for Holder's apply notification.`);\n",
    "             throw error; \n",
    "         }\n",
    "         console.log(`[Retry] Waiting ${DEFAULT_DELAY_MS}ms before next attempt...`);\n",
    "         await new Promise(resolve => setTimeout(resolve, DEFAULT_DELAY_MS));\n",
    "    }\n",
    "}\n",
    "\n",
    "const applyNotificationForHolder = holderApplyNotifications[0] // Assuming one notification\n",
    "\n",
    "console.log(\"Holder received Apply Notification:\");\n",
    "console.log(applyNotificationForHolder);\n",
    "\n",
    "// Retrieve the full IPEX apply exchange details.\n",
    "const applyExchange = await holderClient.exchanges().get(applyNotificationForHolder.a.d);\n",
    "console.log(\"Details of Apply Exchange received by Holder:\");\n",
    "console.log(applyExchange);\n",
    "\n",
    "// Extract the SAID of the apply 'exn' message for use in the offer.\n",
    "const applyExchangeSaid = applyExchange.exn.d;\n",
    "\n",
    "// Holder marks the apply notification as read.\n",
    "await holderClient.notifications().mark(applyNotificationForHolder.i);\n",
    "console.log(\"Holder's notifications after marking apply as read:\");\n",
    "console.log(await holderClient.notifications().list());\n",
    "\n"
   ]
  },
  {
   "cell_type": "markdown",
   "id": "f6e7345b-60c6-4e1b-bf65-45888eb7dcd0",
   "metadata": {
    "editable": false,
    "slideshow": {
     "slide_type": ""
    },
    "tags": []
   },
   "source": [
    "### Step 3: Holder Finds Matching Credential\n",
    "\n",
    "The Holder now needs to find a credential in their possession that satisfies the Verifier's `apply` request (matches the schema SAID and any specified attributes). The code below constructs a filter based on the `applyExchange` data and uses it to search the Holder's credentials."
   ]
  },
  {
   "cell_type": "code",
   "execution_count": null,
   "id": "19ad2965-167d-4f3f-8d73-9a2116c3b7f6",
   "metadata": {
    "editable": false,
    "slideshow": {
     "slide_type": ""
    },
    "tags": []
   },
   "outputs": [],
   "source": [
    "// The apply operation from the Verifier asks for a specific credential \n",
    "// (matching schema and attribute values).\n",
    "// This code snippet creates a credential filter based on the criteria\n",
    "// from the applyExchange message received by the Holder.\n",
    "\n",
    "let filter: { [x: string]: any } = { '-s': applyExchange.exn.a.s }; // Filter by schema SAID\n",
    "// Add attribute filters from the apply request\n",
    "for (const key in applyExchange.exn.a.a) { // 'a.a' contains the requested attributes\n",
    "    filter[`-a-${key}`] = applyExchange.exn.a.a[key];\n",
    "}\n",
    "\n",
    "console.log(\"Constructed filter for matching credentials:\");\n",
    "console.log(filter);\n",
    "\n",
    "// Holder lists credentials matching the filter.\n",
    "const matchingCredentials = await holderClient.credentials().list({ filter });\n",
    "\n",
    "console.log(\"Matching credentials found by Holder:\");\n",
    "console.log(matchingCredentials); // Should list the EventPass credential issued earlier"
   ]
  },
  {
   "cell_type": "markdown",
   "id": "3cb0ac04-1a21-44cf-b1d3-5c49967ae60f",
   "metadata": {
    "editable": false,
    "slideshow": {
     "slide_type": ""
    },
    "tags": []
   },
   "source": [
    "### Step 4: Holder Offers Credential\n",
    "\n",
    "Assuming a matching credential is found, the Holder prepares an IPEX offer message. This `offer` includes the ACDC they are presenting. This is sent back to the Verifier."
   ]
  },
  {
   "cell_type": "code",
   "execution_count": null,
   "id": "917ea3e4-d611-44e6-a401-e9d04ac4e0b4",
   "metadata": {
    "editable": false,
    "slideshow": {
     "slide_type": ""
    },
    "tags": []
   },
   "outputs": [],
   "source": [
    "// Holder prepares and submits an IPEX offer message with the matching credential.\n",
    "\n",
    "// Prepare the IPEX offer message.\n",
    "const [offer, sigsOffer, endOffer] = await holderClient.ipex().offer({\n",
    "    senderName: holderAidAlias,                   // Alias of the Holder's AID\n",
    "    recipient: verifierAid.i,                     // AID of the Verifier\n",
    "    acdc: new Serder(matchingCredentials[0].sad), // The ACDC being offered (first matching credential)\n",
    "    applySaid: applyExchangeSaid,                 // SAID of the Verifier's apply 'exn' message this offer is responding to\n",
    "    datetime: createTimestamp(),                  // Timestamp for the offer message\n",
    "});\n",
    "\n",
    "// Holder submits the prepared offer message to the Verifier.\n",
    "const offerOperation = await holderClient\n",
    "    .ipex()\n",
    "    .submitOffer(holderAidAlias, offer, sigsOffer, endOffer, [\n",
    "        verifierAid.i, // Recipient AID\n",
    "    ]);\n",
    "\n",
    "// Wait for the submission operation to complete.\n",
    "const offerResponse = await holderClient\n",
    "    .operations()\n",
    "    .wait(offerOperation, AbortSignal.timeout(DEFAULT_TIMEOUT_MS));\n",
    "\n",
    "// Clean up the operation.\n",
    "await holderClient.operations().delete(offerOperation.name);\n",
    "console.log(\"Holder submitted IPEX Offer to Verifier.\");\n",
    "\n"
   ]
  },
  {
   "cell_type": "markdown",
   "id": "70630a2f-bcb2-4201-8218-b4fc2f7c64a3",
   "metadata": {
    "editable": false,
    "slideshow": {
     "slide_type": ""
    },
    "tags": []
   },
   "source": [
    "### Step 5: Verifier Receives Offer\n",
    "\n",
    "The Verifier receives a notification for the Holder's `offer`. The Verifier retrieves the exchange details and marks the notification."
   ]
  },
  {
   "cell_type": "code",
   "execution_count": null,
   "id": "5dc4d9a1-6c77-4871-ad0a-5ac04fe80692",
   "metadata": {
    "editable": false,
    "slideshow": {
     "slide_type": ""
    },
    "tags": []
   },
   "outputs": [],
   "source": [
    "// Verifier receives the IPEX offer notification from the Holder.\n",
    "\n",
    "let verifierOfferNotifications;\n",
    "\n",
    "// Retry loop for the Verifier to receive the offer notification.\n",
    "for (let attempt = 1; attempt <= DEFAULT_RETRIES ; attempt++) {\n",
    "    try{\n",
    "        // List notifications, filtering for unread IPEX_OFFER_ROUTE messages.\n",
    "        verifierOfferNotifications = await verifierClient.notifications().list(\n",
    "            (n) => n.a.r === IPEX_OFFER_ROUTE && n.r === false\n",
    "        );\n",
    "        if(verifierOfferNotifications.notes.length === 0){ \n",
    "            throw new Error(\"Offer notification not found\"); // Throw error to trigger retry\n",
    "        }\n",
    "        break; // Exit loop if notification found\n",
    "    }\n",
    "    catch (error){    \n",
    "         console.log(`[Retry] Offer notification not found for Verifier on attempt #${attempt} of ${DEFAULT_RETRIES}`);\n",
    "         if (attempt === DEFAULT_RETRIES) {\n",
    "             console.error(`[Retry] Max retries (${DEFAULT_RETRIES}) reached for Verifier's offer notification.`);\n",
    "             throw error; \n",
    "         }\n",
    "         console.log(`[Retry] Waiting ${DEFAULT_DELAY_MS}ms before next attempt...`);\n",
    "         await new Promise(resolve => setTimeout(resolve, DEFAULT_DELAY_MS));\n",
    "    }\n",
    "}\n",
    "\n",
    "const offerNotificationForVerifier = verifierOfferNotifications.notes[0]; // Assuming one notification\n",
    "\n",
    "console.log(\"Verifier received Offer Notification:\");\n",
    "console.log(offerNotificationForVerifier);\n",
    "\n",
    "// Retrieve the full IPEX offer exchange details.\n",
    "const offerExchange = await verifierClient.exchanges().get(offerNotificationForVerifier.a.d);\n",
    "console.log(\"Details of Offer Exchange received by Verifier:\");\n",
    "console.log(offerExchange); // This will contain the ACDC presented by the Holder\n",
    "\n",
    "// Extract the SAID of the offer 'exn' message for use in the agree.\n",
    "let offerExchangeSaid = offerExchange.exn.d;\n",
    "\n",
    "// Verifier marks the offer notification as read.\n",
    "await verifierClient.notifications().mark(offerNotificationForVerifier.i);\n",
    "console.log(\"Verifier's notifications after marking offer as read:\");\n",
    "console.log(await verifierClient.notifications().list());"
   ]
  },
  {
   "cell_type": "markdown",
   "id": "ea57c128-c50e-44a7-8626-f1e67148ab61",
   "metadata": {
    "editable": false,
    "slideshow": {
     "slide_type": ""
    },
    "tags": []
   },
   "source": [
    "### Step 6: Verifier Agrees and Validates\n",
    "\n",
    "Finally, the Verifier, after validating the offered credential (which signify-ts does implicitly upon processing the offer and preparing the agree), sends an IPEX agree message back to the Holder. This confirms successful receipt and validation of the presentation."
   ]
  },
  {
   "cell_type": "code",
   "execution_count": null,
   "id": "944f5eec-0772-412a-9258-93830bad1582",
   "metadata": {
    "editable": false,
    "slideshow": {
     "slide_type": ""
    },
    "tags": []
   },
   "outputs": [],
   "source": [
    "// Verifier prepares and submits an IPEX agree message.\n",
    "\n",
    "// Prepare the IPEX agree message.\n",
    "const [agree, sigsAgree, _endAgree] = await verifierClient.ipex().agree({\n",
    "    senderName: verifierAidAlias, // Alias of the Verifier's AID\n",
    "    recipient: holderAid.i,       // AID of the Holder\n",
    "    offerSaid: offerExchangeSaid, // SAID of the Holder's offer 'exn' message this agree is responding to\n",
    "    datetime: createTimestamp(),  // Timestamp for the agree message\n",
    "});\n",
    "\n",
    "// Verifier submits the prepared agree message to the Holder.\n",
    "const agreeOperation = await verifierClient\n",
    "    .ipex()\n",
    "    .submitAgree(verifierAidAlias, agree, sigsAgree, [holderAid.i]);\n",
    "\n",
    "// Wait for the submission operation to complete.\n",
    "const agreeResponse = await verifierClient\n",
    "    .operations()\n",
    "    .wait(agreeOperation, AbortSignal.timeout(DEFAULT_TIMEOUT_MS));\n",
    "\n",
    "// Clean up the operation.\n",
    "await verifierClient.operations().delete(agreeOperation.name);\n",
    "console.log(\"Verifier submitted IPEX Agree to Holder, completing the presentation exchange.\");\n",
    "\n",
    "// At this point, the Verifier has successfully received and validated the credential.\n",
    "// The Verifier's client would have stored the presented credential details if needed."
   ]
  },
  {
   "cell_type": "markdown",
   "id": "85132bbf-ec7c-4d79-9cff-baa8f2bd3c40",
   "metadata": {
    "editable": false,
    "slideshow": {
     "slide_type": ""
    },
    "tags": []
   },
   "source": [
    "## Credential Revocation by Issuer\n",
    "\n",
    "Circumstances may require a credential to be invalidated before its intended expiry, or if it has no expiry. This process is known as revocation. Only the original Issuer of a credential can revoke it. Revocation involves the Issuer recording a revocation event in the specific credential's Transaction Event Log (TEL), which is part of the Issuer's Credential Registry. This event is, like all TEL events, anchored to the Issuer's KEL.\n",
    "\n",
    "The Issuer uses the `issuerClient.credentials().revoke()` method, specifying the alias of their issuing AID and the SAID of the credential to be revoked. This action creates a new event in the TEL associated with the credential, marking its status as revoked.\n",
    "\n",
    "First, check the credential status before revocation. The status object contains details about the latest event in the credential's TEL. The et field indicates the event type (e.g., iss for issuance)."
   ]
  },
  {
   "cell_type": "code",
   "execution_count": null,
   "id": "b5a74498-256c-4e36-9217-86d5fda9a237",
   "metadata": {
    "editable": false,
    "slideshow": {
     "slide_type": ""
    },
    "tags": []
   },
   "outputs": [],
   "source": [
    "\n",
    "// Log the credential's status from the Issuer's perspective before revocation.\n",
    "// The 'status' field shows the latest event in the credential's Transaction Event Log (TEL).\n",
    "// 'et: \"iss\"' indicates it's currently in an issued state.\n",
    "const statusBefore = (await issuerClient.credentials().get(credentialSaid)).status;\n",
    "console.log(\"Credential status before revocation:\", statusBefore);\n",
    "\n",
    "// Issuer revokes the credential.\n",
    "// This creates a revocation event in the credential's TEL within the Issuer's registry.\n",
    "const revokeResult = await issuerClient.credentials().revoke(issuerAidAlias, credentialSaid); // Changed from revokeOperation to revokeResult to get .op\n",
    "const revokeOperation = revokeResult.op; // Get the operation from the result\n",
    "\n",
    "// Wait for the revocation operation to complete.\n",
    "const revokeResponse = await issuerClient\n",
    "    .operations()\n",
    "    .wait(revokeOperation, AbortSignal.timeout(DEFAULT_TIMEOUT_MS)); // Used revokeOperation directly\n",
    "\n",
    "// Log the credential status after revocation.\n",
    "// Note the 'et: \"rev\"' indicating it's now revoked, and the sequence number 's' has incremented.\n",
    "const statusAfter = (await issuerClient.credentials().get(credentialSaid)).status;\n",
    "console.log(\"Credential status after revocation:\", statusAfter);\n",
    "\n",
    "\n"
   ]
  },
  {
   "cell_type": "markdown",
   "id": "7d1684ed-1693-458f-afb7-0fd570b38165",
   "metadata": {
    "editable": false,
    "slideshow": {
     "slide_type": ""
    },
    "tags": []
   },
   "source": [
    "The output shows the change in the credential's status object:\n",
    "\n",
    "- Before revocation, `et` (event type) was `iss`.\n",
    "- After revocation, `et` is `rev`.\n",
    "- The sequence number `s` of the TEL event also increments, reflecting the new event.\n",
    "- The digest d of the event changes, as it's a new event.\n",
    "\n",
    "This demonstrates that the Issuer has successfully updated the credential's status in their registry. Anyone (like a Verifier) who subsequently checks this registry for the credential's status will see that it has been revoked."
   ]
  },
  {
   "cell_type": "markdown",
   "id": "6f96106b-03ed-4a95-a3f9-f53853b0fffb",
   "metadata": {
    "editable": false,
    "slideshow": {
     "slide_type": ""
    },
    "tags": []
   },
   "source": [
    "Once a Holder becomes aware that a credential they possess has been revoked (e.g., by checking its status in the Issuer's registry or being informed through other means), they should no longer rely on it. It's good practice for the Holder to delete the revoked credential from their local store to prevent accidental presentation.\n",
    "\n",
    "The `holderClient.credentials().delete()` method removes the credential from the Holder's local client storage."
   ]
  },
  {
   "cell_type": "code",
   "execution_count": null,
   "id": "9f983cbf-fcc9-4d7a-9204-caea70faaa75",
   "metadata": {
    "editable": false,
    "slideshow": {
     "slide_type": ""
    },
    "tags": []
   },
   "outputs": [],
   "source": [
    "// Holder deletes the (now revoked) credential from their local store.\n",
    "await holderClient.credentials().delete(credentialSaid);\n",
    "\n",
    "// Verify the credential is no longer in the Holder's list.\n",
    "console.log(\"Holder's credential list after deleting the revoked credential:\");\n",
    "console.log(await holderClient.credentials().list()); // Should be an empty array or not contain the revoked credential\n"
   ]
  }
 ],
 "metadata": {
  "kernelspec": {
   "display_name": "Deno",
   "language": "typescript",
   "name": "deno"
  },
  "language_info": {
   "codemirror_mode": "typescript",
   "file_extension": ".ts",
   "mimetype": "text/x.typescript",
   "name": "typescript",
   "nbconvert_exporter": "script",
   "pygments_lexer": "typescript",
   "version": "5.8.3"
  }
 },
 "nbformat": 4,
 "nbformat_minor": 5
}
