{
 "cells": [
  {
   "cell_type": "markdown",
   "id": "fa93edc3-ee6c-4d1a-950c-d912b96ff2d8",
   "metadata": {
    "editable": true,
    "slideshow": {
     "slide_type": ""
    },
    "tags": []
   },
   "source": [
    "# Known Issues\n",
    "\n",
    "This document outlines several known issues that users may encounter while working with the KERI ecosystem. Understanding these issues can help in troubleshooting and setting expectations during development and testing."
   ]
  },
  {
   "cell_type": "markdown",
   "id": "419476c2-4e46-4f7f-93a0-b679a2a133f5",
   "metadata": {},
   "source": [
    "## Issue 1: kli vc create Hangs with NI2I Operator\n",
    "\n",
    "When creating a chained credential that uses the Not-Issuer-To-Issuee (`NI2I`) operator, the kli vc create command may hang indefinitely.\n",
    "\n",
    "**Expected Behavior**\n",
    "\n",
    "The command `kli vc create` should complete successfully when issuing a credential with an `NI2I` edge.\n",
    "\n",
    "**Actual Behavior**\n",
    "\n",
    "The command execution stalls after displaying the following log messages, and never completes\n",
    "\n",
    "**Workaround**  \n",
    "There is currently no known workaround for this issue.\n",
    "\n",
    "For more technical details and to track the status of this issue, please refer to:https://github.com/WebOfTrust/keripy/issues/1040 "
   ]
  },
  {
   "cell_type": "markdown",
   "id": "3a3c1516-73c8-4869-9bab-6f7a5a348f29",
   "metadata": {},
   "source": [
    "## Issue 2: Sally Webhook Fails on First Presentation\n",
    "The `sally` vLEI Reporting Agent may fail to send a webhook notification on the very first credential presentation it receives after being started.\n",
    "\n",
    "**Expected Behavior**\n",
    "\n",
    "Upon receiving and successfully validating a credential presentation, `sally` should immediately make a POST request to its pre-configured webhook URL.\n",
    "\n",
    "**Actual Behavior**\n",
    "\n",
    "On the first attempt to present a credential, sally's logs show multiple errors, and the webhook call is not made. However, on the second and all subsequent presentation attempts for the same or different credentials, `sally` processes the presentation correctly and successfully calls the webhook.\n",
    "\n",
    "**Workaround**\n",
    "\n",
    "If a webhook call is not received after the first presentation, simply perform the presentation again.\n",
    "\n",
    "For more technical details and to track the status of this issue, please refer to: https://github.com/GLEIF-IT/sally/issues/46\n"
   ]
  },
  {
   "cell_type": "markdown",
   "id": "4b6c3321-7e64-4676-9d3b-2bd12eb7e700",
   "metadata": {},
   "source": [
    "## Issue 3: KERIA Multisig State Synchronization Lag\n",
    "In a multisig group managed by KERIA, members who are not required to sign an event (based on the signing threshold) may not have their local state updated after the event is completed by other members.\n",
    "\n",
    "**Expected Behavior**\n",
    "\n",
    "All members of a multisig group should be able to stay synchronized with the group's KEL, regardless of whether their signature was required for a specific event.\n",
    "\n",
    "**Actual Behavior**\n",
    "\n",
    "The problem is that multisig members in KERIA are not being updated with the latest state when they join a transaction after the fact. For example, if the signing threshold for a three-participant multisig group is set to 2-of-3 (e.g., ['1/2','1/2','1/2']), the operation completes as soon as the first two members sign. The third member, who did not sign, is not notified of the completed event and their local KEL for the group AID becomes outdated. They are unable to \"see\" the new event, such as a credential registry creation, that was anchored by the interaction.\n",
    "\n",
    "**Workaround**\n",
    "\n",
    "There is currently no known workaround for this issue. A temporary mitigation is to set signing thresholds to require signatures from all participants (e.g., 3-of-3), which forces all members to be involved and thus remain synchronized. However, this negates the flexibility and resilience benefits of partial thresholds.\n",
    "\n",
    "For more technical details and to track the status of this issue, please refer to: https://github.com/WebOfTrust/keria/issues/316"
   ]
  },
  {
   "cell_type": "code",
   "execution_count": null,
   "id": "f6d6bc4b-e796-4c19-95f2-68c0c4a5ed3a",
   "metadata": {},
   "outputs": [],
   "source": []
  }
 ],
 "metadata": {
  "kernelspec": {
   "display_name": "Python 3 (ipykernel)",
   "language": "python",
   "name": "python3"
  },
  "language_info": {
   "codemirror_mode": {
    "name": "ipython",
    "version": 3
   },
   "file_extension": ".py",
   "mimetype": "text/x-python",
   "name": "python",
   "nbconvert_exporter": "python",
   "pygments_lexer": "ipython3",
   "version": "3.12.9"
  }
 },
 "nbformat": 4,
 "nbformat_minor": 5
}
